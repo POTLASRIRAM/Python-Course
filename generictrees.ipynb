{
 "cells": [
  {
   "cell_type": "code",
   "execution_count": 3,
   "id": "f6e81307",
   "metadata": {},
   "outputs": [
    {
     "name": "stdout",
     "output_type": "stream",
     "text": [
      "1:2,3,\n",
      "2:4,\n",
      "4:5,\n",
      "5:\n",
      "3:\n"
     ]
    }
   ],
   "source": [
    "## Generic tree creation with list\n",
    "\n",
    "class GenericTree:\n",
    "    def __init__(self,data):\n",
    "        self.data = data\n",
    "        self.child = []\n",
    "\n",
    "root = GenericTree(1)\n",
    "\n",
    "c1 = GenericTree(2)\n",
    "c2 = GenericTree(3)\n",
    "c3 = GenericTree(4)\n",
    "c4 = GenericTree(5)\n",
    "\n",
    "root.child.append(c1)\n",
    "root.child.append(c2)\n",
    "c1.child.append(c3)\n",
    "c3.child.append(c4)\n",
    "\n",
    "def print_tree_detailed(root):\n",
    "    if(root==None): # Edge Case\n",
    "        return\n",
    "    \n",
    "    print(f\"{root.data}:\",end = \"\")\n",
    "\n",
    "    for eachChild in root.child:\n",
    "        print(eachChild.data,end = \",\")\n",
    "\n",
    "    print()\n",
    "\n",
    "    for eachChild in root.child:\n",
    "        print_tree_detailed(eachChild)\n",
    "\n",
    "print_tree_detailed(root)"
   ]
  },
  {
   "cell_type": "code",
   "execution_count": null,
   "id": "ba6b7ad3",
   "metadata": {},
   "outputs": [],
   "source": []
  }
 ],
 "metadata": {
  "kernelspec": {
   "display_name": "Python 3",
   "language": "python",
   "name": "python3"
  },
  "language_info": {
   "codemirror_mode": {
    "name": "ipython",
    "version": 3
   },
   "file_extension": ".py",
   "mimetype": "text/x-python",
   "name": "python",
   "nbconvert_exporter": "python",
   "pygments_lexer": "ipython3",
   "version": "3.13.0"
  }
 },
 "nbformat": 4,
 "nbformat_minor": 5
}
