{
 "cells": [
  {
   "cell_type": "code",
   "execution_count": 3,
   "id": "f6e81307",
   "metadata": {},
   "outputs": [
    {
     "name": "stdout",
     "output_type": "stream",
     "text": [
      "1:2,3,\n",
      "2:4,\n",
      "4:5,\n",
      "5:\n",
      "3:\n"
     ]
    }
   ],
   "source": [
    "## Generic tree creation with list\n",
    "\n",
    "class GenericTree:\n",
    "    def __init__(self,data):\n",
    "        self.data = data\n",
    "        self.child = []\n",
    "\n",
    "root = GenericTree(1)\n",
    "\n",
    "c1 = GenericTree(2)\n",
    "c2 = GenericTree(3)\n",
    "c3 = GenericTree(4)\n",
    "c4 = GenericTree(5)\n",
    "\n",
    "root.child.append(c1)\n",
    "root.child.append(c2)\n",
    "c1.child.append(c3)\n",
    "c3.child.append(c4)\n",
    "\n",
    "def print_tree_detailed(root):\n",
    "    if(root==None): # Edge Case\n",
    "        return\n",
    "    \n",
    "    print(f\"{root.data}:\",end = \"\")\n",
    "\n",
    "    for eachChild in root.child:\n",
    "        print(eachChild.data,end = \",\")\n",
    "\n",
    "    print()\n",
    "\n",
    "    for eachChild in root.child:\n",
    "        print_tree_detailed(eachChild)\n",
    "\n",
    "print_tree_detailed(root)"
   ]
  },
  {
   "cell_type": "code",
   "execution_count": 19,
   "id": "ba6b7ad3",
   "metadata": {},
   "outputs": [
    {
     "name": "stdout",
     "output_type": "stream",
     "text": [
      "\n",
      "Tree Structure:\n",
      "1: 2 3 4 \n",
      "2: 5 6 \n",
      "5: \n",
      "6: \n",
      "3: \n",
      "4: \n"
     ]
    }
   ],
   "source": [
    "## Taking input recurrsively for geneirc trees\n",
    "from collections import deque\n",
    "class TreeNode:\n",
    "    def __init__(self,data):\n",
    "        self.data = data\n",
    "        self.child = []\n",
    "def take_input():\n",
    "    root_data = int(input(\"Enter root data : \"))\n",
    "    root = TreeNode(root_data)\n",
    "\n",
    "    queue  = deque([root])\n",
    "\n",
    "    while len(queue)!=0:\n",
    "        current_node = queue.popleft()\n",
    "        num_of_childrens  = int(input(f\"Enter no of childrens for {current_node.data} : \"))\n",
    "\n",
    "        for i in range(num_of_childrens):\n",
    "            child_data = int(input(f\"Enter data for {i+1} child of {current_node.data} :\"))\n",
    "            child_node = TreeNode(child_data)\n",
    "            current_node.child.append(child_node)\n",
    "            queue.append(child_node)\n",
    "    return root\n",
    "def print_tree(root):\n",
    "    if root is None:\n",
    "        return\n",
    "    print(f\"{root.data}:\", end=\" \")\n",
    "    for child in root.child:\n",
    "        print(child.data, end=\" \")\n",
    "    print()\n",
    "    for child in root.child:\n",
    "        print_tree(child)\n",
    "\n",
    "root = take_input()\n",
    "print(\"\\nTree Structure:\")\n",
    "print_tree(root)\n"
   ]
  },
  {
   "cell_type": "code",
   "execution_count": 14,
   "id": "71274280",
   "metadata": {},
   "outputs": [
    {
     "data": {
      "text/plain": [
       "6"
      ]
     },
     "execution_count": 14,
     "metadata": {},
     "output_type": "execute_result"
    }
   ],
   "source": [
    "## Counting no of nodes in a generic tree\n",
    "\n",
    "def count_nodes(root):\n",
    "    if root==0:\n",
    "        return 0\n",
    "    count =1\n",
    "    for i in root.child:\n",
    "        count=count+count_nodes(i)\n",
    "    return count\n",
    "\n",
    "count_nodes(root)"
   ]
  },
  {
   "cell_type": "code",
   "execution_count": 20,
   "id": "90f603d1",
   "metadata": {},
   "outputs": [
    {
     "data": {
      "text/plain": [
       "21"
      ]
     },
     "execution_count": 20,
     "metadata": {},
     "output_type": "execute_result"
    }
   ],
   "source": [
    "## SUm of nodes\n",
    "\n",
    "def sum_of_nodes(root):\n",
    "    if root==0:\n",
    "        return 0\n",
    "    sum =root.data\n",
    "    for i in root.child:\n",
    "        sum=sum+sum_of_nodes(i)\n",
    "    return sum\n",
    "\n",
    "sum_of_nodes(root)\n"
   ]
  },
  {
   "cell_type": "code",
   "execution_count": null,
   "id": "3d27bffa",
   "metadata": {},
   "outputs": [],
   "source": []
  }
 ],
 "metadata": {
  "kernelspec": {
   "display_name": "Python 3",
   "language": "python",
   "name": "python3"
  },
  "language_info": {
   "codemirror_mode": {
    "name": "ipython",
    "version": 3
   },
   "file_extension": ".py",
   "mimetype": "text/x-python",
   "name": "python",
   "nbconvert_exporter": "python",
   "pygments_lexer": "ipython3",
   "version": "3.13.0"
  }
 },
 "nbformat": 4,
 "nbformat_minor": 5
}
