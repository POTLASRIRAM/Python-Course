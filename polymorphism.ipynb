{
 "cells": [
  {
   "cell_type": "code",
   "execution_count": 1,
   "metadata": {},
   "outputs": [],
   "source": [
    "## Polymorphism using method overriding"
   ]
  },
  {
   "cell_type": "code",
   "execution_count": 2,
   "metadata": {},
   "outputs": [],
   "source": [
    "### Create a base class Appliance with a method power_consumption(). Derive classes like \n",
    "# WashingMachine, Refrigerator, and Microwave, each with specific implementations \n",
    "# for power_consumption() based on their power ratings.\n",
    "\n",
    "##Write a function to calculate the total power consumption for a list of Appliance objects."
   ]
  },
  {
   "cell_type": "code",
   "execution_count": 13,
   "metadata": {},
   "outputs": [
    {
     "name": "stdout",
     "output_type": "stream",
     "text": [
      "4300\n"
     ]
    }
   ],
   "source": [
    "\n",
    "class Appliance:\n",
    "    def __init__(self,hours,consumption):\n",
    "        self.hours = hours\n",
    "        self.consumption = consumption\n",
    "    def power_consumption(self):\n",
    "        pass\n",
    "class WashingMachine(Appliance):\n",
    "    def __init__(self, hours, consumption):\n",
    "        super().__init__(hours, consumption)\n",
    "    def power_consumption(self):\n",
    "        return self.hours*self.consumption\n",
    "class Refrigerator(Appliance):\n",
    "    def __init__(self, hours, consumption):\n",
    "        super().__init__(hours, consumption)\n",
    "    def power_consumption(self):\n",
    "        return self.hours*self.consumption\n",
    "class MicroWave(Appliance):\n",
    "    def __init__(self, hours, consumption):\n",
    "        super().__init__(hours, consumption)\n",
    "    def power_consumption(self):\n",
    "        return self.hours*self.consumption\n",
    "def power_consumption(Appliance):\n",
    "    return Appliance.power_consumption()\n",
    "\n",
    "\n",
    "\n",
    "wm = WashingMachine(5,100)\n",
    "rf = Refrigerator(24,150)\n",
    "mw = MicroWave(2,100)\n",
    "\n",
    "lst = [wm,rf,mw]\n",
    "total_power_consumption = 0\n",
    "for i in range(len(lst)):\n",
    "    value = power_consumption(lst[i])\n",
    "    total_power_consumption = total_power_consumption+value\n",
    "print(total_power_consumption)\n",
    "\n",
    "\n",
    "    \n"
   ]
  },
  {
   "cell_type": "code",
   "execution_count": 14,
   "metadata": {},
   "outputs": [
    {
     "name": "stdout",
     "output_type": "stream",
     "text": [
      "4300\n"
     ]
    }
   ],
   "source": [
    "## Implementatio0n using abstract methods\n",
    "from abc import ABC,abstractmethod\n",
    "class Appliance(ABC):\n",
    "    def power_consumption(self):\n",
    "        pass\n",
    "class WashingMachine(Appliance):\n",
    "    def __init__(self, hours, consumption):\n",
    "        self.hours = hours\n",
    "        self.consumption = consumption\n",
    "    def power_consumption(self):\n",
    "        return self.hours*self.consumption\n",
    "class Refrigerator(Appliance):\n",
    "    def __init__(self, hours, consumption):\n",
    "        self.hours = hours\n",
    "        self.consumption = consumption\n",
    "    def power_consumption(self):\n",
    "        return self.hours*self.consumption\n",
    "class MicroWave(Appliance):\n",
    "    def __init__(self, hours, consumption):\n",
    "        self.hours = hours\n",
    "        self.consumption = consumption\n",
    "    def power_consumption(self):\n",
    "        return self.hours*self.consumption\n",
    "def power_consumption(Appliance):\n",
    "    return Appliance.power_consumption()\n",
    "\n",
    "\n",
    "\n",
    "wm = WashingMachine(5,100)\n",
    "rf = Refrigerator(24,150)\n",
    "mw = MicroWave(2,100)\n",
    "\n",
    "lst = [wm,rf,mw]\n",
    "total_power_consumption = 0\n",
    "for i in range(len(lst)):\n",
    "    value = power_consumption(lst[i])\n",
    "    total_power_consumption = total_power_consumption+value\n",
    "print(total_power_consumption)"
   ]
  },
  {
   "cell_type": "code",
   "execution_count": null,
   "metadata": {},
   "outputs": [],
   "source": []
  }
 ],
 "metadata": {
  "kernelspec": {
   "display_name": "Python 3",
   "language": "python",
   "name": "python3"
  },
  "language_info": {
   "codemirror_mode": {
    "name": "ipython",
    "version": 3
   },
   "file_extension": ".py",
   "mimetype": "text/x-python",
   "name": "python",
   "nbconvert_exporter": "python",
   "pygments_lexer": "ipython3",
   "version": "3.13.0"
  }
 },
 "nbformat": 4,
 "nbformat_minor": 2
}
