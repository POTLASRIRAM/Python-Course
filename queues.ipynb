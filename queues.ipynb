{
 "cells": [
  {
   "cell_type": "code",
   "execution_count": null,
   "metadata": {},
   "outputs": [
    {
     "name": "stdout",
     "output_type": "stream",
     "text": [
      "Queue size =  4\n",
      "10\n",
      "Queue is not empty\n"
     ]
    }
   ],
   "source": [
    "## Queues -- list\n",
    "\n",
    "class Queues:\n",
    "    def __init__(self):\n",
    "        self.__queue = []\n",
    "        self.size = 0\n",
    "    def push(self,data):\n",
    "        self.__queue.append(data)\n",
    "    def queue_size(self):\n",
    "        for i in self.__queue:\n",
    "            self.size = self.size+1\n",
    "        print(\"Queue size = \",self.size)\n",
    "    def is_queue_empty(self):\n",
    "        if self.size==0:\n",
    "            print(\"Queue empty\")\n",
    "        else:\n",
    "            print(\"Queue is not empty\")\n",
    "    def queue_top_element(self):\n",
    "        if self.size>0:\n",
    "            print(self.__queue[0])\n",
    "        else:\n",
    "            print(\"Queue is empty\")\n",
    "    def queue_pop(self):\n",
    "        if self.size>0:\n",
    "            self.__queue.pop(0)\n",
    "            self.size=self.size-1\n",
    "        else:\n",
    "            print(\"Pop isn't possible\")\n",
    "\n",
    "q=Queues()\n",
    "q.push(10)\n",
    "q.push(20)\n",
    "q.push(30)\n",
    "q.push(40)\n",
    "q.queue_size()\n",
    "q.queue_top_element()\n",
    "q.is_queue_empty()\n",
    "q.queue_pop()"
   ]
  },
  {
   "cell_type": "code",
   "execution_count": 9,
   "metadata": {},
   "outputs": [
    {
     "name": "stdout",
     "output_type": "stream",
     "text": [
      "Printing queue\n",
      "\n",
      "Queue size =  0\n",
      "Queue is empty\n",
      "Queue is empty ?  True\n",
      "Printing queue\n"
     ]
    }
   ],
   "source": [
    "## Queues -- linked list\n",
    "\n",
    "class Node:\n",
    "    def __init__(self,data):\n",
    "        self.d = data\n",
    "        self.next = None\n",
    "\n",
    "class Queues:\n",
    "    def __init__(self):\n",
    "        self.head = None\n",
    "        self.size = 0\n",
    "    def enqueue(self):\n",
    "        v = int(input())\n",
    "        while v!=-1:\n",
    "            self.size = self.size+1\n",
    "            newNode = Node(v)\n",
    "            if self.head is None:\n",
    "                self.head = newNode\n",
    "            else:\n",
    "                temp=self.head\n",
    "                while temp.next is not None:\n",
    "                    temp=temp.next\n",
    "                temp.next = newNode\n",
    "            v=int(input())\n",
    "\n",
    "    def queue_size(self):\n",
    "        print(\"Queue size = \",self.size)\n",
    "    \n",
    "    def is_queue_empty(self):\n",
    "        if self.size==0:\n",
    "            return True\n",
    "        return False\n",
    "    \n",
    "    def queue_top_element(self):\n",
    "        if self.size>0:\n",
    "            print(\"Queue top element\",self.head.d)\n",
    "        else:\n",
    "            print(\"Queue is empty\")\n",
    "    def dequeue(self):\n",
    "        if self.size==0 or self.size==1:\n",
    "            self.head=None\n",
    "            return self.head\n",
    "        if self.size>1:\n",
    "            self.head=self.head.next\n",
    "    def print_queue(self):\n",
    "        print(\"Printing queue\")\n",
    "        temp=self.head\n",
    "        while temp!=None:\n",
    "            print(temp.d,end=\"-->\")\n",
    "            temp=temp.next\n",
    "\n",
    "q=Queues()\n",
    "q.enqueue()\n",
    "q.print_queue()\n",
    "print()\n",
    "q.queue_size()\n",
    "q.queue_top_element()\n",
    "ans=q.is_queue_empty()\n",
    "print(\"Queue is empty ? \",ans)\n",
    "q.dequeue()\n",
    "q.print_queue()"
   ]
  },
  {
   "cell_type": "code",
   "execution_count": null,
   "metadata": {},
   "outputs": [
    {
     "name": "stdout",
     "output_type": "stream",
     "text": [
      "5\n",
      "None\n"
     ]
    }
   ],
   "source": [
    "## Stacks and queue practice questions"
   ]
  },
  {
   "cell_type": "code",
   "execution_count": 7,
   "metadata": {},
   "outputs": [
    {
     "name": "stdout",
     "output_type": "stream",
     "text": [
      "False\n"
     ]
    }
   ],
   "source": [
    "# Valid parenthesis\n",
    "\n",
    "def is_balanced(S):\n",
    "    flower_open_count=0\n",
    "    flower_close_count=0\n",
    "    brace_open_count=0\n",
    "    brace_close_count=0\n",
    "    square_open_count=0\n",
    "    square_close_count=0\n",
    "    for i in S:\n",
    "        if i=='{':\n",
    "            flower_open_count=flower_open_count+1\n",
    "        if i=='}':\n",
    "            flower_close_count=flower_close_count+1\n",
    "        if i=='(':\n",
    "            brace_open_count=brace_open_count+1\n",
    "        if i==')':\n",
    "            brace_close_count=brace_close_count+1\n",
    "        if i=='[':\n",
    "            square_open_count=square_open_count+1\n",
    "        if i==']':\n",
    "            square_close_count=square_close_count+1\n",
    "    if flower_open_count==flower_close_count and brace_open_count==brace_close_count and square_open_count==square_close_count:\n",
    "        return True\n",
    "    return False\n",
    "\n",
    "ans = is_balanced(\"(]\")\n",
    "print(ans)"
   ]
  },
  {
   "cell_type": "code",
   "execution_count": 4,
   "metadata": {},
   "outputs": [
    {
     "name": "stdout",
     "output_type": "stream",
     "text": [
      "[3, 4, 4, -1]\n"
     ]
    }
   ],
   "source": [
    "# Next greater element\n",
    "\n",
    "def next_greater_element(a, n):\n",
    "    f_lst=[]\n",
    "    stack_lst=[-1]\n",
    "    for i in range(n-1,-1,-1):\n",
    "        while stack_lst[-1]!=-1 and a[i]>stack_lst[-1]:\n",
    "            stack_lst.pop(-1)\n",
    "        f_lst.append(stack_lst[-1])\n",
    "        stack_lst.append(a[i])\n",
    "    f_lst=f_lst[::-1]\n",
    "    return f_lst\n",
    "ans=next_greater_element([1, 3, 2, 4],4)\n",
    "print(ans) "
   ]
  },
  {
   "cell_type": "code",
   "execution_count": null,
   "metadata": {},
   "outputs": [
    {
     "name": "stdout",
     "output_type": "stream",
     "text": [
      "Appending initial stack elements : ['a']\n",
      "After poping : ['a']\n",
      "After poping : []\n",
      "Appending initial stack elements : ['c']\n",
      "['c', 'a']\n"
     ]
    }
   ],
   "source": [
    "# Remove Consecutive Duplicates\n",
    "\n",
    "def removeDuplicates(s):\n",
    "    stack=[]\n",
    "    for i in s:\n",
    "        if len(stack)==0:\n",
    "            stack.append(i)\n",
    "            print(\"Appending initial stack elements :\",stack)\n",
    "        else:\n",
    "            if i==stack[-1]:\n",
    "                stack.pop(-1)\n",
    "                print(\"After poping :\",stack)\n",
    "            else:\n",
    "                stack.append(i)\n",
    "    return stack\n",
    "\n",
    "ans=removeDuplicates(\"abbaca\")\n",
    "print(ans)"
   ]
  },
  {
   "cell_type": "code",
   "execution_count": 13,
   "metadata": {},
   "outputs": [
    {
     "name": "stdout",
     "output_type": "stream",
     "text": [
      "ay\n"
     ]
    }
   ],
   "source": [
    "# Remove Consecutive Duplicates\n",
    "\n",
    "def removeDuplicates(s):\n",
    "    stack=[]\n",
    "    for i in s:\n",
    "        if len(stack)==0 or i!=stack[-1]:\n",
    "            stack.append(i)\n",
    "        else:\n",
    "            stack.pop(-1)\n",
    "    stack=\"\".join(stack)\n",
    "    return stack\n",
    "\n",
    "ans=removeDuplicates(\"azxxzy\")\n",
    "print(ans)"
   ]
  },
  {
   "cell_type": "code",
   "execution_count": null,
   "metadata": {},
   "outputs": [],
   "source": []
  }
 ],
 "metadata": {
  "kernelspec": {
   "display_name": "Python 3",
   "language": "python",
   "name": "python3"
  },
  "language_info": {
   "codemirror_mode": {
    "name": "ipython",
    "version": 3
   },
   "file_extension": ".py",
   "mimetype": "text/x-python",
   "name": "python",
   "nbconvert_exporter": "python",
   "pygments_lexer": "ipython3",
   "version": "3.13.0"
  }
 },
 "nbformat": 4,
 "nbformat_minor": 2
}
