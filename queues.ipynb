{
 "cells": [
  {
   "cell_type": "code",
   "execution_count": null,
   "metadata": {},
   "outputs": [
    {
     "name": "stdout",
     "output_type": "stream",
     "text": [
      "Queue size =  4\n",
      "10\n",
      "Queue is not empty\n"
     ]
    }
   ],
   "source": [
    "## Queues -- list\n",
    "\n",
    "class Queues:\n",
    "    def __init__(self):\n",
    "        self.__queue = []\n",
    "        self.size = 0\n",
    "    def push(self,data):\n",
    "        self.__queue.append(data)\n",
    "    def queue_size(self):\n",
    "        for i in self.__queue:\n",
    "            self.size = self.size+1\n",
    "        print(\"Queue size = \",self.size)\n",
    "    def is_queue_empty(self):\n",
    "        if self.size==0:\n",
    "            print(\"Queue empty\")\n",
    "        else:\n",
    "            print(\"Queue is not empty\")\n",
    "    def queue_top_element(self):\n",
    "        if self.size>0:\n",
    "            print(self.__queue[0])\n",
    "        else:\n",
    "            print(\"Queue is empty\")\n",
    "    def queue_pop(self):\n",
    "        if self.size>0:\n",
    "            self.__queue.pop(0)\n",
    "            self.size=self.size-1\n",
    "        else:\n",
    "            print(\"Pop isn't possible\")\n",
    "\n",
    "q=Queues()\n",
    "q.push(10)\n",
    "q.push(20)\n",
    "q.push(30)\n",
    "q.push(40)\n",
    "q.queue_size()\n",
    "q.queue_top_element()\n",
    "q.is_queue_empty()\n",
    "q.queue_pop()"
   ]
  },
  {
   "cell_type": "code",
   "execution_count": 9,
   "metadata": {},
   "outputs": [
    {
     "name": "stdout",
     "output_type": "stream",
     "text": [
      "Printing queue\n",
      "\n",
      "Queue size =  0\n",
      "Queue is empty\n",
      "Queue is empty ?  True\n",
      "Printing queue\n"
     ]
    }
   ],
   "source": [
    "## Queues -- linked list\n",
    "\n",
    "class Node:\n",
    "    def __init__(self,data):\n",
    "        self.d = data\n",
    "        self.next = None\n",
    "\n",
    "class Queues:\n",
    "    def __init__(self):\n",
    "        self.head = None\n",
    "        self.size = 0\n",
    "    def enqueue(self):\n",
    "        v = int(input())\n",
    "        while v!=-1:\n",
    "            self.size = self.size+1\n",
    "            newNode = Node(v)\n",
    "            if self.head is None:\n",
    "                self.head = newNode\n",
    "            else:\n",
    "                temp=self.head\n",
    "                while temp.next is not None:\n",
    "                    temp=temp.next\n",
    "                temp.next = newNode\n",
    "            v=int(input())\n",
    "\n",
    "    def queue_size(self):\n",
    "        print(\"Queue size = \",self.size)\n",
    "    \n",
    "    def is_queue_empty(self):\n",
    "        if self.size==0:\n",
    "            return True\n",
    "        return False\n",
    "    \n",
    "    def queue_top_element(self):\n",
    "        if self.size>0:\n",
    "            print(\"Queue top element\",self.head.d)\n",
    "        else:\n",
    "            print(\"Queue is empty\")\n",
    "    def dequeue(self):\n",
    "        if self.size==0 or self.size==1:\n",
    "            self.head=None\n",
    "            return self.head\n",
    "        if self.size>1:\n",
    "            self.head=self.head.next\n",
    "    def print_queue(self):\n",
    "        print(\"Printing queue\")\n",
    "        temp=self.head\n",
    "        while temp!=None:\n",
    "            print(temp.d,end=\"-->\")\n",
    "            temp=temp.next\n",
    "\n",
    "q=Queues()\n",
    "q.enqueue()\n",
    "q.print_queue()\n",
    "print()\n",
    "q.queue_size()\n",
    "q.queue_top_element()\n",
    "ans=q.is_queue_empty()\n",
    "print(\"Queue is empty ? \",ans)\n",
    "q.dequeue()\n",
    "q.print_queue()"
   ]
  },
  {
   "cell_type": "code",
   "execution_count": 6,
   "metadata": {},
   "outputs": [
    {
     "name": "stdout",
     "output_type": "stream",
     "text": [
      "[5, 5, 2, 25]\n"
     ]
    }
   ],
   "source": [
    "## Stacks and queue practice questions\n",
    "\n",
    "# Next greater element\n",
    "\n",
    "def next_greater_element(a, n):\n",
    "    lst=[]\n",
    "    for i in range(len(a)-1):\n",
    "        for j in range(i,len(a)):\n",
    "            if a[j]>a[i]:\n",
    "                lst.append(a[i+1])\n",
    "                continue\n",
    "    return lst\n",
    "\n",
    "ans = next_greater_element([4,5,2,25],4)\n",
    "print(ans)\n",
    "    "
   ]
  },
  {
   "cell_type": "code",
   "execution_count": null,
   "metadata": {},
   "outputs": [],
   "source": []
  }
 ],
 "metadata": {
  "kernelspec": {
   "display_name": "Python 3",
   "language": "python",
   "name": "python3"
  },
  "language_info": {
   "codemirror_mode": {
    "name": "ipython",
    "version": 3
   },
   "file_extension": ".py",
   "mimetype": "text/x-python",
   "name": "python",
   "nbconvert_exporter": "python",
   "pygments_lexer": "ipython3",
   "version": "3.13.0"
  }
 },
 "nbformat": 4,
 "nbformat_minor": 2
}
