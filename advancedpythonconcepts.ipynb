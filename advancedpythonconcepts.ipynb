{
 "cells": [
  {
   "cell_type": "code",
   "execution_count": 7,
   "metadata": {},
   "outputs": [],
   "source": [
    "## Iterators -- An efficient way to iterate over list of elements by minimizing the memory usage.\n",
    "## We use iter() function to iteration over list and create a iter object memory location. Then using \n",
    "## iter(iter keyword) we can get the list teams one by one\n",
    "\n",
    "lst = [1,2,3,4,5]\n",
    "\n",
    "it = iter(lst)\n"
   ]
  },
  {
   "cell_type": "code",
   "execution_count": 15,
   "metadata": {},
   "outputs": [
    {
     "name": "stdout",
     "output_type": "stream",
     "text": [
      "End of list elements\n"
     ]
    }
   ],
   "source": [
    "try:\n",
    "    print(next(it))\n",
    "except StopIteration:\n",
    "    print(\"End of list elements\")"
   ]
  },
  {
   "cell_type": "code",
   "execution_count": 8,
   "metadata": {},
   "outputs": [
    {
     "name": "stdout",
     "output_type": "stream",
     "text": [
      "0\n",
      "1\n",
      "1\n",
      "2\n",
      "3\n"
     ]
    }
   ],
   "source": [
    "## Generators -- A generator function is a special type of function that returns an iterator object. \n",
    "# Instead of using return to send back a single value, generator functions use yield to produce a series of \n",
    "# results over time. This allows the function to generate values and pause its execution after each yield, \n",
    "# maintaining its state between iterations.\n",
    "\n",
    "def fibannoci(n):\n",
    "   a, b = 0, 1\n",
    "   for _ in range(n):\n",
    "        yield a\n",
    "        a, b = b, a + b\n",
    "\n",
    "\n",
    "fib = fibannoci(5)\n",
    "for n in fib:\n",
    "    print(n)"
   ]
  },
  {
   "cell_type": "code",
   "execution_count": 17,
   "metadata": {},
   "outputs": [],
   "source": [
    "## Function copy \n",
    "\n",
    "def sum(a,b):\n",
    "    return a+b\n",
    "\n"
   ]
  },
  {
   "cell_type": "code",
   "execution_count": 18,
   "metadata": {},
   "outputs": [
    {
     "name": "stdout",
     "output_type": "stream",
     "text": [
      "11\n"
     ]
    }
   ],
   "source": [
    "s = sum # copying sum method to s variable and inturn it becomes a copy of sum method \n",
    "print(s(5,6))"
   ]
  },
  {
   "cell_type": "code",
   "execution_count": 21,
   "metadata": {},
   "outputs": [
    {
     "name": "stdout",
     "output_type": "stream",
     "text": [
      "3\n"
     ]
    }
   ],
   "source": [
    "## Closures -- method inside a method\n",
    "\n",
    "def main_sum(a,b,func):\n",
    "    c = a+b\n",
    "    def sub_sum():\n",
    "        func(c)\n",
    "    sub_sum()\n",
    "main_sum(1,2,print)"
   ]
  },
  {
   "cell_type": "code",
   "execution_count": 22,
   "metadata": {},
   "outputs": [
    {
     "name": "stdout",
     "output_type": "stream",
     "text": [
      "3\n",
      "10\n"
     ]
    }
   ],
   "source": [
    "def main_sum(a,b,func,sub_s):\n",
    "    c = a+b\n",
    "    def sub_sum(d):\n",
    "        func(c)\n",
    "        print(d)\n",
    "    sub_sum(sub_s)\n",
    "main_sum(1,2,print,sub_s=10)"
   ]
  },
  {
   "cell_type": "markdown",
   "metadata": {},
   "source": [
    "Decorators are a powerful tool in Python for extending and modifying the behavior of functions and methods. They provide a clean and readable way to add functionality such as logging, timing, access control, and more without changing the original code. Understanding and using decorators effectively can significantly enhance your Python programming skills."
   ]
  },
  {
   "cell_type": "code",
   "execution_count": 29,
   "metadata": {},
   "outputs": [],
   "source": [
    "def sub(arg):\n",
    "    def sub_sub():\n",
    "        print(arg)\n",
    "    sub_sub()"
   ]
  },
  {
   "cell_type": "code",
   "execution_count": 30,
   "metadata": {},
   "outputs": [
    {
     "name": "stdout",
     "output_type": "stream",
     "text": [
      "<function val at 0x000001C5E3DCE7A0>\n"
     ]
    }
   ],
   "source": [
    "@sub\n",
    "def val():\n",
    "    print(\"Hello\")"
   ]
  },
  {
   "cell_type": "code",
   "execution_count": null,
   "metadata": {},
   "outputs": [],
   "source": []
  }
 ],
 "metadata": {
  "kernelspec": {
   "display_name": "Python 3",
   "language": "python",
   "name": "python3"
  },
  "language_info": {
   "codemirror_mode": {
    "name": "ipython",
    "version": 3
   },
   "file_extension": ".py",
   "mimetype": "text/x-python",
   "name": "python",
   "nbconvert_exporter": "python",
   "pygments_lexer": "ipython3",
   "version": "3.13.0"
  }
 },
 "nbformat": 4,
 "nbformat_minor": 2
}
