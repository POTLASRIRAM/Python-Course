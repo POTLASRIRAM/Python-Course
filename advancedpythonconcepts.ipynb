{
 "cells": [
  {
   "cell_type": "code",
   "execution_count": 7,
   "metadata": {},
   "outputs": [],
   "source": [
    "## Iterators -- An efficient way to iterate over list of elements by minimizing the memory usage.\n",
    "## We use iter() function to iteration over list and create a iter object memory location. Then using \n",
    "## iter(iter keyword) we can get the list teams one by one\n",
    "\n",
    "lst = [1,2,3,4,5]\n",
    "\n",
    "it = iter(lst)\n"
   ]
  },
  {
   "cell_type": "code",
   "execution_count": 15,
   "metadata": {},
   "outputs": [
    {
     "name": "stdout",
     "output_type": "stream",
     "text": [
      "End of list elements\n"
     ]
    }
   ],
   "source": [
    "try:\n",
    "    print(next(it))\n",
    "except StopIteration:\n",
    "    print(\"End of list elements\")"
   ]
  },
  {
   "cell_type": "code",
   "execution_count": null,
   "metadata": {},
   "outputs": [],
   "source": [
    "## Generators -- "
   ]
  }
 ],
 "metadata": {
  "kernelspec": {
   "display_name": "Python 3",
   "language": "python",
   "name": "python3"
  },
  "language_info": {
   "codemirror_mode": {
    "name": "ipython",
    "version": 3
   },
   "file_extension": ".py",
   "mimetype": "text/x-python",
   "name": "python",
   "nbconvert_exporter": "python",
   "pygments_lexer": "ipython3",
   "version": "3.13.0"
  }
 },
 "nbformat": 4,
 "nbformat_minor": 2
}
