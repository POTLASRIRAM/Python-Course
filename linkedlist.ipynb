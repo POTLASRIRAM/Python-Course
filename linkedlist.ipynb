{
 "cells": [
  {
   "cell_type": "code",
   "execution_count": 9,
   "metadata": {},
   "outputs": [
    {
     "name": "stdout",
     "output_type": "stream",
     "text": [
      "2\n",
      "None\n",
      "2\n",
      "2565164510544\n",
      "<__main__.Node object at 0x000002553FB82D50>\n",
      "2\n",
      "3\n"
     ]
    }
   ],
   "source": [
    "## Linked List\n",
    "# Basic implementation\n",
    "class Node:\n",
    "    def __init__(self,value):\n",
    "        self.data = value\n",
    "        self.next = None\n",
    "        \n",
    "n1=Node(1)\n",
    "n2=Node(2)\n",
    "n3=Node(3)\n",
    "print(n2.data)\n",
    "print(n2.next)\n",
    "n1.next=n2\n",
    "n2.next=n3\n",
    "print(n2.data)\n",
    "print(id(n3))\n",
    "print(n2.next)\n",
    "\n",
    "head=n1\n",
    "print(head.next.data)\n",
    "del(n1,n2,n3)\n",
    "print(head.next.next.data)\n",
    "\n"
   ]
  },
  {
   "cell_type": "code",
   "execution_count": 6,
   "metadata": {},
   "outputs": [
    {
     "name": "stdout",
     "output_type": "stream",
     "text": [
      "2565164511504\n"
     ]
    }
   ],
   "source": [
    "print(0x000002553FB83110)"
   ]
  },
  {
   "cell_type": "code",
   "execution_count": 13,
   "metadata": {},
   "outputs": [
    {
     "name": "stdout",
     "output_type": "stream",
     "text": [
      "1\n",
      "2\n",
      "3\n"
     ]
    }
   ],
   "source": [
    "## Creating a function \n",
    "class Node:\n",
    "    def __init__(self,value):\n",
    "        self.data = value\n",
    "        self.next = None\n",
    "def print_data(head):\n",
    "        while(head!=None):\n",
    "           print(head.data)\n",
    "           head=head.next\n",
    "        return\n",
    "        \n",
    "n1=Node(1)\n",
    "n2=Node(2)\n",
    "n3=Node(3)\n",
    "n1.next=n2\n",
    "n2.next=n3\n",
    "head=n1\n",
    "print_data(head)"
   ]
  },
  {
   "cell_type": "code",
   "execution_count": null,
   "metadata": {},
   "outputs": [
    {
     "name": "stdout",
     "output_type": "stream",
     "text": [
      "Val =  10\n",
      "Val =  20\n",
      "Val =  30\n",
      "10\n",
      "20\n",
      "30\n"
     ]
    }
   ],
   "source": [
    "## taking input in linkedlist\n",
    "\n",
    "class SingleLinkedList:\n",
    "    def __init__(self,val):\n",
    "        self.data = val\n",
    "        self.next = None\n",
    "def display(head):\n",
    "    while(head!=None):\n",
    "        print(head.data)\n",
    "        head=head.next\n",
    "def ip():\n",
    "    val = int(input())\n",
    "    head = None\n",
    "    while(val!=-1):\n",
    "        print(\"Val = \",val)\n",
    "        newList = SingleLinkedList(val)\n",
    "        if(head == None):\n",
    "            head = newList\n",
    "        else:\n",
    "            temp=head\n",
    "            while(temp.next!=None):\n",
    "                temp = temp.next\n",
    "                \n",
    "            temp.next = newList\n",
    "        val = int(input())\n",
    "    return head\n",
    "\n",
    "newHead = ip()\n",
    "display(newHead)"
   ]
  },
  {
   "cell_type": "code",
   "execution_count": 13,
   "metadata": {},
   "outputs": [
    {
     "name": "stdout",
     "output_type": "stream",
     "text": [
      "Val =  10\n",
      "Val =  20\n",
      "Val =  30\n"
     ]
    },
    {
     "data": {
      "text/plain": [
       "3"
      ]
     },
     "execution_count": 13,
     "metadata": {},
     "output_type": "execute_result"
    }
   ],
   "source": [
    "## Length of linked list\n",
    "class SingleLinkedList:\n",
    "    def __init__(self,val):\n",
    "        self.data = val\n",
    "        self.next = None\n",
    "def length(head):\n",
    "    count = 0\n",
    "    while(head!=None):\n",
    "        count = count+1\n",
    "        head=head.next\n",
    "    return count\n",
    "def ip():\n",
    "    val = int(input())\n",
    "    head = None\n",
    "    while(val!=-1):\n",
    "        print(\"Val = \",val)\n",
    "        newList = SingleLinkedList(val)\n",
    "        if(head == None):\n",
    "            head = newList\n",
    "        else:\n",
    "            temp=head\n",
    "            while(temp.next!=None):\n",
    "                temp = temp.next\n",
    "                \n",
    "            temp.next = newList\n",
    "        val = int(input())\n",
    "    return head\n",
    "\n",
    "newHead = ip()\n",
    "length(newHead)"
   ]
  },
  {
   "cell_type": "code",
   "execution_count": 4,
   "metadata": {},
   "outputs": [
    {
     "ename": "KeyboardInterrupt",
     "evalue": "",
     "output_type": "error",
     "traceback": [
      "\u001b[1;31m---------------------------------------------------------------------------\u001b[0m",
      "\u001b[1;31mKeyboardInterrupt\u001b[0m                         Traceback (most recent call last)",
      "Cell \u001b[1;32mIn[4], line 41\u001b[0m\n\u001b[0;32m     39\u001b[0m headAns \u001b[38;5;241m=\u001b[39m insert_at_head(\u001b[38;5;241m1000\u001b[39m,newHead)\n\u001b[0;32m     40\u001b[0m \u001b[38;5;66;03m#pLL(ans)\u001b[39;00m\n\u001b[1;32m---> 41\u001b[0m tailAns \u001b[38;5;241m=\u001b[39m \u001b[43minsert_at_tail\u001b[49m\u001b[43m(\u001b[49m\u001b[38;5;241;43m100000\u001b[39;49m\u001b[43m,\u001b[49m\u001b[43mheadAns\u001b[49m\u001b[43m)\u001b[49m\n",
      "Cell \u001b[1;32mIn[4], line 16\u001b[0m, in \u001b[0;36minsert_at_tail\u001b[1;34m(data, head)\u001b[0m\n\u001b[0;32m     14\u001b[0m \u001b[38;5;28;01mdef\u001b[39;00m \u001b[38;5;21minsert_at_tail\u001b[39m(data,head):\n\u001b[0;32m     15\u001b[0m     tailNode \u001b[38;5;241m=\u001b[39m SLL(data)\n\u001b[1;32m---> 16\u001b[0m     \u001b[38;5;28;01mwhile\u001b[39;00m(head\u001b[38;5;241m!=\u001b[39m\u001b[38;5;28;01mNone\u001b[39;00m):\n\u001b[0;32m     17\u001b[0m         head \u001b[38;5;241m=\u001b[39m head\u001b[38;5;241m.\u001b[39mnext\n\u001b[0;32m     18\u001b[0m         \u001b[38;5;28;01mif\u001b[39;00m(head\u001b[38;5;241m.\u001b[39mnext \u001b[38;5;241m==\u001b[39m \u001b[38;5;28;01mNone\u001b[39;00m):\n",
      "\u001b[1;31mKeyboardInterrupt\u001b[0m: "
     ]
    }
   ],
   "source": [
    "class SLL:\n",
    "    def __init__(self,val):\n",
    "        self.d = val\n",
    "        self.next = None\n",
    "def pLL(head):\n",
    "    while(head!=None):\n",
    "        print(head.d,end=\"-->\")\n",
    "        head=head.next\n",
    "def insert_at_head(data,head):\n",
    "    nnNode = SLL(data)\n",
    "    nnNode.next = head\n",
    "    head = nnNode\n",
    "    return head\n",
    "def insert_at_tail(data,head):\n",
    "    tailNode = SLL(data)\n",
    "    while(head!=None):\n",
    "        head = head.next\n",
    "        if(head.next == None):\n",
    "            head.next = tailNode\n",
    "    return head\n",
    "\n",
    "def take_ip():\n",
    "    val = int(input())\n",
    "    head=None\n",
    "    while(val!=-1):\n",
    "        nNode = SLL(val)\n",
    "        if (head == None):\n",
    "            head = nNode\n",
    "        else:\n",
    "            temp = head \n",
    "            while(temp.next!=None):\n",
    "                temp = temp.next\n",
    "            temp.next = nNode\n",
    "        val = int(input())\n",
    "    return head\n",
    "\n",
    "newHead = take_ip()\n",
    "#pLL(newHead)\n",
    "headAns = insert_at_head(1000,newHead)\n",
    "#pLL(ans)\n",
    "tailAns = insert_at_tail(100000,headAns)"
   ]
  },
  {
   "cell_type": "code",
   "execution_count": null,
   "metadata": {},
   "outputs": [],
   "source": [
    "from common import SLL,pLL\n",
    "\n",
    "def insert_at_head(data,head):\n",
    "    nnNode = SLL(data)\n",
    "    nnNode.next = head\n",
    "    head = nnNode\n",
    "    return head\n",
    "\n",
    "ans = insert_at_head(1000,head)\n",
    "pLL(ans)"
   ]
  },
  {
   "cell_type": "code",
   "execution_count": 7,
   "metadata": {},
   "outputs": [
    {
     "name": "stdout",
     "output_type": "stream",
     "text": [
      "1000-->10-->20-->30-->100000-->"
     ]
    }
   ],
   "source": [
    "class SLL:\n",
    "    def __init__(self,val):\n",
    "        self.d = val\n",
    "        self.next = None\n",
    "def pLL(head):\n",
    "    while(head!=None):\n",
    "        print(head.d,end=\"-->\")\n",
    "        head=head.next\n",
    "def insert_at_head(data,head):\n",
    "    nnNode = SLL(data)\n",
    "    nnNode.next = head\n",
    "    head = nnNode\n",
    "    return head\n",
    "def insert_at_tail(data,head):\n",
    "    tailNode = SLL(data)\n",
    "    if head==None:\n",
    "        return tailNode\n",
    "    else:\n",
    "        temp = head\n",
    "        while(temp.next!=None):\n",
    "            temp = temp.next\n",
    "        temp.next = tailNode\n",
    "    return head\n",
    "'''\n",
    "def insert_at_tail(data,head):\n",
    "    tailNode = SLL(data)\n",
    "    if head is None:\n",
    "        return tailNode\n",
    "    temp = head \n",
    "    while(temp.next!=None):\n",
    "        temp = temp.next\n",
    "    temp.next = tailNode\n",
    "    return head\n",
    "'''\n",
    "def take_ip():\n",
    "    val = int(input())\n",
    "    head=None\n",
    "    while(val!=-1):\n",
    "        nNode = SLL(val)\n",
    "        if (head == None):\n",
    "            head = nNode\n",
    "        else:\n",
    "            temp = head \n",
    "            while(temp.next!=None):\n",
    "                temp = temp.next\n",
    "            temp.next = nNode\n",
    "        val = int(input())\n",
    "    return head\n",
    "\n",
    "newHead = take_ip()\n",
    "#pLL(newHead)\n",
    "headAns = insert_at_head(1000,newHead)\n",
    "#pLL(ans)\n",
    "tailAns = insert_at_tail(100000,headAns)\n",
    "pLL(tailAns)"
   ]
  },
  {
   "cell_type": "code",
   "execution_count": null,
   "metadata": {},
   "outputs": [],
   "source": [
    "## Insert at tail -- recursive call\n",
    "\n",
    "class Node:\n",
    "    def __init__(self, data):\n",
    "        self.data = data\n",
    "        self.next = None\n",
    "\n",
    "def insert_at_tail_recursive(head, data):\n",
    "    tailNode = Node(data)\n",
    "    if head==None:\n",
    "        return tailNode\n",
    "    head.next = insert_at_tail_recursive(head.next,data)\n",
    "    return head\n",
    "\n",
    "insert_at_tail_recursive(head,100)"
   ]
  },
  {
   "cell_type": "code",
   "execution_count": null,
   "metadata": {},
   "outputs": [],
   "source": [
    "## Insert at Tail -- Recursively\n",
    "\n",
    "class Node:\n",
    "    def __init__(self, data):\n",
    "        self.data = data\n",
    "        self.next = None\n",
    "\n",
    "\n",
    "class LinkedList:\n",
    "    def __init__(self):\n",
    "        self.head = None\n",
    "\n",
    "    def insert_at_tail(self, head: Node, data: int) -> Node:\n",
    "       tailNode = Node(data)\n",
    "       if head==None:\n",
    "           return tailNode\n",
    "       head.next = self.insert_at_tail(head.next,data)\n",
    "       return head"
   ]
  },
  {
   "cell_type": "code",
   "execution_count": 6,
   "metadata": {},
   "outputs": [
    {
     "name": "stdout",
     "output_type": "stream",
     "text": [
      "1000-->10-->20-->100000-->"
     ]
    }
   ],
   "source": [
    "## Insert at an index\n",
    "\n",
    "class SLL:\n",
    "    def __init__(self,val):\n",
    "        self.d = val\n",
    "        self.next = None\n",
    "def pLL(head):\n",
    "    while(head!=None):\n",
    "        print(head.d,end=\"-->\")\n",
    "        head=head.next\n",
    "def insert_at_head(data,head):\n",
    "    nnNode = SLL(data)\n",
    "    nnNode.next = head\n",
    "    head = nnNode\n",
    "    return head\n",
    "def insert_at_tail(data,head):\n",
    "    tailNode = SLL(data)\n",
    "    if head==None:\n",
    "        return tailNode\n",
    "    else:\n",
    "        temp = head\n",
    "        while(temp.next!=None):\n",
    "            temp = temp.next\n",
    "        temp.next = tailNode\n",
    "    return head\n",
    "def insert_at_an_index(head, index, data):\n",
    "    temp = head\n",
    "    count = 0\n",
    "    if temp is None:\n",
    "        dd = SLL(data)\n",
    "        temp = dd\n",
    "        head = temp\n",
    "        return head\n",
    "    while temp is not None:\n",
    "        count += 1\n",
    "        if count == index:\n",
    "            new_node = SLL(data)\n",
    "            new_node.next = temp.next\n",
    "            temp.next = new_node\n",
    "            return head\n",
    "        temp = temp.next\n",
    "    return head\n",
    "def take_ip():\n",
    "    val = int(input())\n",
    "    head=None\n",
    "    while(val!=-1):\n",
    "        nNode = SLL(val)\n",
    "        if (head == None):\n",
    "            head = nNode\n",
    "        else:\n",
    "            temp = head \n",
    "            while(temp.next!=None):\n",
    "                temp = temp.next\n",
    "            temp.next = nNode\n",
    "        val = int(input())\n",
    "    return head\n",
    "\n",
    "newHead = take_ip()\n",
    "#pLL(newHead)\n",
    "headAns = insert_at_head(1000,newHead)\n",
    "#pLL(ans)\n",
    "tailAns = insert_at_tail(100000,headAns)\n",
    "ins_index = insert_at_an_index(tailAns,6,250)\n",
    "pLL(ins_index)"
   ]
  },
  {
   "cell_type": "code",
   "execution_count": 8,
   "metadata": {},
   "outputs": [
    {
     "name": "stdout",
     "output_type": "stream",
     "text": [
      "10-->20-->30-->40-->50-->60-->\n",
      " After deleting...\n",
      "20-->30-->40-->50-->60-->"
     ]
    }
   ],
   "source": [
    "## Delete a head node\n",
    "class SLL:\n",
    "    def __init__(self,val):\n",
    "        self.d = val\n",
    "        self.next = None\n",
    "def pLL(head):\n",
    "    while(head!=None):\n",
    "        print(head.d,end=\"-->\")\n",
    "        head=head.next\n",
    "def take_ip():\n",
    "    val = int(input())\n",
    "    head=None\n",
    "    while(val!=-1):\n",
    "        nNode = SLL(val)\n",
    "        if (head == None):\n",
    "            head = nNode\n",
    "        else:\n",
    "            temp = head \n",
    "            while(temp.next!=None):\n",
    "                temp = temp.next\n",
    "            temp.next = nNode\n",
    "        val = int(input())\n",
    "    return head\n",
    "def delete_head_node(head):\n",
    "    head=head.next\n",
    "    return head\n",
    "newHead = take_ip()\n",
    "pLL(newHead)\n",
    "del_node = delete_head_node(newHead)\n",
    "print(\"\\n After deleting...\")\n",
    "pLL(del_node)"
   ]
  },
  {
   "cell_type": "code",
   "execution_count": 31,
   "metadata": {},
   "outputs": [
    {
     "name": "stdout",
     "output_type": "stream",
     "text": [
      "1-->\n",
      " After deleting...\n"
     ]
    }
   ],
   "source": [
    "## Deleting a tail node\n",
    "\n",
    "class SLL:\n",
    "    def __init__(self,val):\n",
    "        self.d = val\n",
    "        self.next = None\n",
    "def pLL(head):\n",
    "    temp3=head\n",
    "    while(temp3!=None):\n",
    "        print(temp3.d,end=\"-->\")\n",
    "        temp3=temp3.next\n",
    "def take_ip():\n",
    "    val = int(input())\n",
    "    head=None\n",
    "    while(val!=-1):\n",
    "        nNode = SLL(val)\n",
    "        if (head == None):\n",
    "            head = nNode\n",
    "        else:\n",
    "            temp = head \n",
    "            while(temp.next!=None):\n",
    "                temp = temp.next\n",
    "            temp.next = nNode\n",
    "        val = int(input())\n",
    "    return head\n",
    "def delete_tail_node(head):\n",
    "    if head is None or head.next is None:  \n",
    "        return None\n",
    "    temp = head\n",
    "    LLength=1\n",
    "    while(temp.next!=None):\n",
    "        LLength = LLength+1\n",
    "        temp = temp.next\n",
    "    count =1\n",
    "    temp2=head\n",
    "    while(count<LLength-1):\n",
    "        temp2 = temp2.next\n",
    "        count = count+1\n",
    "    temp2.next = None\n",
    "    return head\n",
    "\n",
    "newHead = take_ip()\n",
    "pLL(newHead)\n",
    "del_node = delete_tail_node(newHead)\n",
    "print(\"\\n After deleting...\")\n",
    "pLL(del_node)"
   ]
  },
  {
   "cell_type": "code",
   "execution_count": null,
   "metadata": {},
   "outputs": [
    {
     "name": "stdout",
     "output_type": "stream",
     "text": [
      "10-->20-->30-->40-->50-->60-->\n",
      " After deletion....\n",
      "10-->20-->30-->50-->60-->"
     ]
    }
   ],
   "source": [
    "## Delete a given node \n",
    "\n",
    "class SLL:\n",
    "    def __init__(self,val):\n",
    "        self.d = val\n",
    "        self.next = None\n",
    "def pLL(head):\n",
    "    temp5=head\n",
    "    while(temp5!=None):\n",
    "        print(temp5.d,end=\"-->\")\n",
    "        temp5=temp5.next\n",
    "def take_ip():\n",
    "    val = int(input())\n",
    "    head=None\n",
    "    while(val!=-1):\n",
    "        nNode = SLL(val)\n",
    "        if (head == None):\n",
    "            head = nNode\n",
    "        else:\n",
    "            temp = head \n",
    "            while(temp.next!=None):\n",
    "                temp = temp.next\n",
    "            temp.next = nNode\n",
    "        val = int(input())\n",
    "    return head\n",
    "def delete_node_at_index(index, head):\n",
    "    if head is None:\n",
    "        return None\n",
    "    if index == 0:\n",
    "        return head.next  \n",
    "    count = 1\n",
    "    temp2 = head\n",
    "    while count < index and temp2.next is not None:\n",
    "        temp2 = temp2.next\n",
    "        count += 1\n",
    "    if temp2.next is None:\n",
    "        print(\"Index out of range.\")\n",
    "        return head  \n",
    "    temp3 = temp2.next \n",
    "    if temp3 is None: \n",
    "        return head\n",
    "    temp2.next = temp3.next\n",
    "    return head \n",
    "newHead = take_ip()\n",
    "pLL(newHead)\n",
    "del_node = delete_node_at_index(3,newHead)\n",
    "print(\"\\n After deletion....\")\n",
    "pLL(del_node)"
   ]
  },
  {
   "cell_type": "code",
   "execution_count": 3,
   "metadata": {},
   "outputs": [
    {
     "name": "stdout",
     "output_type": "stream",
     "text": [
      "1-->2-->3-->4-->5-->6-->7-->8-->9-->\n",
      " After deletion....\n"
     ]
    }
   ],
   "source": [
    "## Delete a node by value\n",
    "class SLL:\n",
    "    def __init__(self,val):\n",
    "        self.d = val\n",
    "        self.next = None\n",
    "def pLL(head):\n",
    "    temp5=head\n",
    "    while(temp5!=None):\n",
    "        print(temp5.d,end=\"-->\")\n",
    "        temp5=temp5.next\n",
    "def take_ip():\n",
    "    val = int(input())\n",
    "    head=None\n",
    "    while(val!=-1):\n",
    "        nNode = SLL(val)\n",
    "        if (head == None):\n",
    "            head = nNode\n",
    "        else:\n",
    "            temp = head \n",
    "            while(temp.next!=None):\n",
    "                temp = temp.next\n",
    "            temp.next = nNode\n",
    "        val = int(input())\n",
    "    return head\n",
    "def delete_node_at_index(value,head):\n",
    "    if head is None:\n",
    "        return None\n",
    "    temp=head\n",
    "    while (temp!=None):\n",
    "        if temp.d == value:\n",
    "            temp2=temp.next\n",
    "            temp.next = temp2.next\n",
    "        temp=temp.next\n",
    "    return temp\n",
    "    \n",
    "newHead = take_ip()\n",
    "pLL(newHead)\n",
    "del_node = delete_node_at_index(3,newHead)\n",
    "print(\"\\n After deletion....\")\n",
    "pLL(del_node)"
   ]
  },
  {
   "cell_type": "code",
   "execution_count": null,
   "metadata": {},
   "outputs": [],
   "source": []
  }
 ],
 "metadata": {
  "kernelspec": {
   "display_name": "Python 3",
   "language": "python",
   "name": "python3"
  },
  "language_info": {
   "codemirror_mode": {
    "name": "ipython",
    "version": 3
   },
   "file_extension": ".py",
   "mimetype": "text/x-python",
   "name": "python",
   "nbconvert_exporter": "python",
   "pygments_lexer": "ipython3",
   "version": "3.13.0"
  }
 },
 "nbformat": 4,
 "nbformat_minor": 2
}
