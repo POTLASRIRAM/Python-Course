{
 "cells": [
  {
   "cell_type": "code",
   "execution_count": 9,
   "metadata": {},
   "outputs": [
    {
     "name": "stdout",
     "output_type": "stream",
     "text": [
      "2\n",
      "None\n",
      "2\n",
      "2565164510544\n",
      "<__main__.Node object at 0x000002553FB82D50>\n",
      "2\n",
      "3\n"
     ]
    }
   ],
   "source": [
    "## Linked List\n",
    "# Basic implementation\n",
    "class Node:\n",
    "    def __init__(self,value):\n",
    "        self.data = value\n",
    "        self.next = None\n",
    "        \n",
    "n1=Node(1)\n",
    "n2=Node(2)\n",
    "n3=Node(3)\n",
    "print(n2.data)\n",
    "print(n2.next)\n",
    "n1.next=n2\n",
    "n2.next=n3\n",
    "print(n2.data)\n",
    "print(id(n3))\n",
    "print(n2.next)\n",
    "\n",
    "head=n1\n",
    "print(head.next.data)\n",
    "del(n1,n2,n3)\n",
    "print(head.next.next.data)\n",
    "\n"
   ]
  },
  {
   "cell_type": "code",
   "execution_count": 6,
   "metadata": {},
   "outputs": [
    {
     "name": "stdout",
     "output_type": "stream",
     "text": [
      "2565164511504\n"
     ]
    }
   ],
   "source": [
    "print(0x000002553FB83110)"
   ]
  },
  {
   "cell_type": "code",
   "execution_count": 13,
   "metadata": {},
   "outputs": [
    {
     "name": "stdout",
     "output_type": "stream",
     "text": [
      "1\n",
      "2\n",
      "3\n"
     ]
    }
   ],
   "source": [
    "## Creating a function \n",
    "class Node:\n",
    "    def __init__(self,value):\n",
    "        self.data = value\n",
    "        self.next = None\n",
    "def print_data(head):\n",
    "        while(head!=None):\n",
    "           print(head.data)\n",
    "           head=head.next\n",
    "        return\n",
    "        \n",
    "n1=Node(1)\n",
    "n2=Node(2)\n",
    "n3=Node(3)\n",
    "n1.next=n2\n",
    "n2.next=n3\n",
    "head=n1\n",
    "print_data(head)"
   ]
  },
  {
   "cell_type": "code",
   "execution_count": 10,
   "metadata": {},
   "outputs": [
    {
     "name": "stdout",
     "output_type": "stream",
     "text": [
      "Val =  10\n",
      "Val =  20\n",
      "Val =  30\n",
      "10\n",
      "20\n",
      "30\n"
     ]
    }
   ],
   "source": [
    "## taking input in linkedlist\n",
    "\n",
    "class SingleLinkedList:\n",
    "    def __init__(self,val):\n",
    "        self.data = val\n",
    "        self.next = None\n",
    "def display(head):\n",
    "    while(head!=None):\n",
    "        print(head.data)\n",
    "        head=head.next\n",
    "def ip():\n",
    "    val = int(input())\n",
    "    head = None\n",
    "    while(val!=-1):\n",
    "        print(\"Val = \",val)\n",
    "        newList = SingleLinkedList(val)\n",
    "        if(head == None):\n",
    "            head = newList\n",
    "        else:\n",
    "            temp=head\n",
    "            while(temp.next!=None):\n",
    "                temp = temp.next\n",
    "                \n",
    "            temp.next = newList\n",
    "        val = int(input())\n",
    "    return head\n",
    "\n",
    "newHead = ip()\n",
    "display(newHead)\n",
    "\n",
    "\n",
    "\n",
    "\n"
   ]
  },
  {
   "cell_type": "code",
   "execution_count": null,
   "metadata": {},
   "outputs": [],
   "source": []
  }
 ],
 "metadata": {
  "kernelspec": {
   "display_name": "Python 3",
   "language": "python",
   "name": "python3"
  },
  "language_info": {
   "codemirror_mode": {
    "name": "ipython",
    "version": 3
   },
   "file_extension": ".py",
   "mimetype": "text/x-python",
   "name": "python",
   "nbconvert_exporter": "python",
   "pygments_lexer": "ipython3",
   "version": "3.13.0"
  }
 },
 "nbformat": 4,
 "nbformat_minor": 2
}
