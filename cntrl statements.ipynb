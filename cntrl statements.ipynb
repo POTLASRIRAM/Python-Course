{
 "cells": [
  {
   "cell_type": "code",
   "execution_count": 4,
   "metadata": {},
   "outputs": [
    {
     "name": "stdout",
     "output_type": "stream",
     "text": [
      "Division :  1.0\n"
     ]
    }
   ],
   "source": [
    "## Arithmetic operations assignment using control statements\n",
    "\n",
    "a = int(input(\"Enter a number : \"))\n",
    "b = int(input(\"Enter a number : \"))\n",
    "\n",
    "optn = str(input(\"Enter an operation : + - * / // % ** \"))\n",
    "\n",
    "if optn == '+' :\n",
    "    print(\"Addition : \",a+b)\n",
    "\n",
    "elif optn == '-' :\n",
    "        print(\"Substraction : \",a-b)\n",
    "\n",
    "elif optn == '/' :\n",
    "        print(\"Division : \",a/b)\n",
    "elif optn == '//' :\n",
    "        print(\"Floor Division : \",a//b)\n",
    "elif optn == '%' :\n",
    "        print(\"Modulus : \",a%b)\n",
    "elif optn == '**' :\n",
    "        print(\"Exponentiation : \",a**b)\n",
    "elif optn == '*' :\n",
    "        print(\"Multiplication : \",a*b)\n",
    "else :\n",
    "    print(\"Enter correct operator for operation\")\n",
    "\n",
    "\n",
    "\n",
    "\n"
   ]
  },
  {
   "cell_type": "code",
   "execution_count": null,
   "metadata": {},
   "outputs": [],
   "source": []
  }
 ],
 "metadata": {
  "kernelspec": {
   "display_name": "Python 3",
   "language": "python",
   "name": "python3"
  },
  "language_info": {
   "codemirror_mode": {
    "name": "ipython",
    "version": 3
   },
   "file_extension": ".py",
   "mimetype": "text/x-python",
   "name": "python",
   "nbconvert_exporter": "python",
   "pygments_lexer": "ipython3",
   "version": "3.13.0"
  }
 },
 "nbformat": 4,
 "nbformat_minor": 2
}
