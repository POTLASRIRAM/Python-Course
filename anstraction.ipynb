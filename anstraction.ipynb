{
 "cells": [
  {
   "cell_type": "code",
   "execution_count": 4,
   "metadata": {},
   "outputs": [
    {
     "name": "stdout",
     "output_type": "stream",
     "text": [
      "Sam\n"
     ]
    }
   ],
   "source": [
    "## Abstraction -- process of hiding complex implementation details and exposing only the necessary \n",
    "## details of an object. Simply \"what\" to show and hide unnecessary complexity.\n",
    "\n",
    "from abc import ABC,abstractmethod\n",
    "\n",
    "class Student(ABC):\n",
    "    @abstractmethod\n",
    "    def student_details(self):\n",
    "        pass\n",
    "class Student1(Student):\n",
    "    def __init__(self,name):\n",
    "        super().__init__()\n",
    "        self.name = name\n",
    "    def student_details(self):\n",
    "        print(self.name)\n",
    "class Student2(Student):\n",
    "    def __init__(self,name):\n",
    "        super().__init__()\n",
    "        self.name = name\n",
    "    def student_details(self):\n",
    "        print(self.name)\n",
    "\n",
    "st1 = Student1(\"Sam\")\n",
    "st = Student2(\"Kevin\")\n",
    "def get_details(Student):\n",
    "    Student.student_details()\n",
    "get_details(st1)"
   ]
  },
  {
   "cell_type": "code",
   "execution_count": null,
   "metadata": {},
   "outputs": [],
   "source": []
  }
 ],
 "metadata": {
  "kernelspec": {
   "display_name": "Python 3",
   "language": "python",
   "name": "python3"
  },
  "language_info": {
   "codemirror_mode": {
    "name": "ipython",
    "version": 3
   },
   "file_extension": ".py",
   "mimetype": "text/x-python",
   "name": "python",
   "nbconvert_exporter": "python",
   "pygments_lexer": "ipython3",
   "version": "3.13.0"
  }
 },
 "nbformat": 4,
 "nbformat_minor": 2
}
