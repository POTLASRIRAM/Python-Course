{
 "cells": [
  {
   "cell_type": "code",
   "execution_count": 1,
   "metadata": {},
   "outputs": [],
   "source": [
    "##Encapsulation -- can be achieved using setters and getters which helps in maintaining the security of the class\n",
    "## variables by preventing accedental usage and misusage."
   ]
  },
  {
   "cell_type": "code",
   "execution_count": 4,
   "metadata": {},
   "outputs": [],
   "source": [
    "## We use access modifiers like public, private and protected to control the variable access."
   ]
  },
  {
   "cell_type": "code",
   "execution_count": 3,
   "metadata": {},
   "outputs": [],
   "source": [
    "## We use setters and getters to access and modify those protected and private varibales of a class.\n",
    "## Public ---   Can be accessed anywhere in and outside the class\n",
    "## Private --   Can only be accessed inside the class and not outside and even not by the extended classes.\n",
    "## Protected -- Can be accessed only in the class and the extented classes and not outside those classes."
   ]
  },
  {
   "cell_type": "code",
   "execution_count": 14,
   "metadata": {},
   "outputs": [
    {
     "data": {
      "text/plain": [
       "('BMW', 2023)"
      ]
     },
     "execution_count": 14,
     "metadata": {},
     "output_type": "execute_result"
    }
   ],
   "source": [
    "## Example for private access modifier\n",
    "\n",
    "class Vehicle:\n",
    "    def __init__(self,brand,year):\n",
    "        self.__brand = brand\n",
    "        self.__year = year\n",
    "\n",
    "    def get_brand_and_year(self):\n",
    "        return self.__brand,self.__year\n",
    "    \n",
    "    def set_year(self,yr):\n",
    "        if yr>0:\n",
    "            self.__year = yr\n",
    "        else:\n",
    "            print(\"Year cannot be less than 0\")\n",
    "    \n",
    "vh = Vehicle(\"BMW\",2024)\n",
    "vh.get_brand_and_year()\n",
    "vh.set_year(2023)\n",
    "vh.get_brand_and_year()"
   ]
  },
  {
   "cell_type": "code",
   "execution_count": 8,
   "metadata": {},
   "outputs": [
    {
     "ename": "AttributeError",
     "evalue": "'Vehicle' object has no attribute '__brand'",
     "output_type": "error",
     "traceback": [
      "\u001b[1;31m---------------------------------------------------------------------------\u001b[0m",
      "\u001b[1;31mAttributeError\u001b[0m                            Traceback (most recent call last)",
      "Cell \u001b[1;32mIn[8], line 6\u001b[0m\n\u001b[0;32m      3\u001b[0m \u001b[38;5;28;01mdef\u001b[39;00m \u001b[38;5;21mbrand_year\u001b[39m(vehicle):\n\u001b[0;32m      4\u001b[0m     \u001b[38;5;28;01mreturn\u001b[39;00m vehicle\u001b[38;5;241m.\u001b[39m__brand,vehicle\u001b[38;5;241m.\u001b[39m__year\n\u001b[1;32m----> 6\u001b[0m \u001b[43mbrand_year\u001b[49m\u001b[43m(\u001b[49m\u001b[43mvh\u001b[49m\u001b[43m)\u001b[49m\n",
      "Cell \u001b[1;32mIn[8], line 4\u001b[0m, in \u001b[0;36mbrand_year\u001b[1;34m(vehicle)\u001b[0m\n\u001b[0;32m      3\u001b[0m \u001b[38;5;28;01mdef\u001b[39;00m \u001b[38;5;21mbrand_year\u001b[39m(vehicle):\n\u001b[1;32m----> 4\u001b[0m     \u001b[38;5;28;01mreturn\u001b[39;00m \u001b[43mvehicle\u001b[49m\u001b[38;5;241;43m.\u001b[39;49m\u001b[43m__brand\u001b[49m,vehicle\u001b[38;5;241m.\u001b[39m__year\n",
      "\u001b[1;31mAttributeError\u001b[0m: 'Vehicle' object has no attribute '__brand'"
     ]
    }
   ],
   "source": [
    "_## If i wanna access private variable outside class using function\n",
    "\n",
    "def brand_year(vehicle):\n",
    "    return vehicle.__brand,vehicle.__year\n",
    "\n",
    "brand_year(vh)"
   ]
  },
  {
   "cell_type": "code",
   "execution_count": 9,
   "metadata": {},
   "outputs": [
    {
     "data": {
      "text/plain": [
       "['_Vehicle__brand',\n",
       " '_Vehicle__year',\n",
       " '__class__',\n",
       " '__delattr__',\n",
       " '__dict__',\n",
       " '__dir__',\n",
       " '__doc__',\n",
       " '__eq__',\n",
       " '__firstlineno__',\n",
       " '__format__',\n",
       " '__ge__',\n",
       " '__getattribute__',\n",
       " '__getstate__',\n",
       " '__gt__',\n",
       " '__hash__',\n",
       " '__init__',\n",
       " '__init_subclass__',\n",
       " '__le__',\n",
       " '__lt__',\n",
       " '__module__',\n",
       " '__ne__',\n",
       " '__new__',\n",
       " '__reduce__',\n",
       " '__reduce_ex__',\n",
       " '__repr__',\n",
       " '__setattr__',\n",
       " '__sizeof__',\n",
       " '__static_attributes__',\n",
       " '__str__',\n",
       " '__subclasshook__',\n",
       " '__weakref__',\n",
       " 'get_brand_and_year']"
      ]
     },
     "execution_count": 9,
     "metadata": {},
     "output_type": "execute_result"
    }
   ],
   "source": [
    "dir(vh)"
   ]
  },
  {
   "cell_type": "code",
   "execution_count": 12,
   "metadata": {},
   "outputs": [
    {
     "ename": "AttributeError",
     "evalue": "'Audi' object has no attribute '__brand'",
     "output_type": "error",
     "traceback": [
      "\u001b[1;31m---------------------------------------------------------------------------\u001b[0m",
      "\u001b[1;31mAttributeError\u001b[0m                            Traceback (most recent call last)",
      "Cell \u001b[1;32mIn[12], line 8\u001b[0m\n\u001b[0;32m      5\u001b[0m           \u001b[38;5;28msuper\u001b[39m()\u001b[38;5;241m.\u001b[39m\u001b[38;5;21m__init__\u001b[39m(brand, year)\n\u001b[0;32m      7\u001b[0m ad \u001b[38;5;241m=\u001b[39m Audi(\u001b[38;5;124m\"\u001b[39m\u001b[38;5;124mAudi\u001b[39m\u001b[38;5;124m\"\u001b[39m,\u001b[38;5;241m2023\u001b[39m)\n\u001b[1;32m----> 8\u001b[0m \u001b[38;5;28mprint\u001b[39m(\u001b[43mad\u001b[49m\u001b[38;5;241;43m.\u001b[39;49m\u001b[43m__brand\u001b[49m)\n",
      "\u001b[1;31mAttributeError\u001b[0m: 'Audi' object has no attribute '__brand'"
     ]
    }
   ],
   "source": [
    "## Even if we want to access it using extended class\n",
    "\n",
    "class Audi(Vehicle):\n",
    "     def __init__(self, brand, year):\n",
    "          super().__init__(brand, year)\n",
    "\n",
    "ad = Audi(\"Audi\",2023)\n",
    "print(ad.__brand)  ## Throwing error because trying to access vehicles private variable"
   ]
  },
  {
   "cell_type": "code",
   "execution_count": 18,
   "metadata": {},
   "outputs": [
    {
     "name": "stdout",
     "output_type": "stream",
     "text": [
      "electric True\n",
      "electric False\n"
     ]
    }
   ],
   "source": [
    "## Example for protected access modifier\n",
    "\n",
    "class Veh:\n",
    "    def __init__(self,type,is_selfdriving):\n",
    "        self._type = type\n",
    "        self._is_selfdriving = is_selfdriving\n",
    "\n",
    "    def get_type_and_selfdriving(self):\n",
    "        print(self._type,self._is_selfdriving)\n",
    "    \n",
    "    def set_driving(self,selfdriving):\n",
    "        self._is_selfdriving = selfdriving\n",
    "        \n",
    "    \n",
    "vh = Veh(\"electric\",True)\n",
    "vh.get_type_and_selfdriving()\n",
    "vh.set_driving(False)\n",
    "vh.get_type_and_selfdriving()"
   ]
  },
  {
   "cell_type": "code",
   "execution_count": 20,
   "metadata": {},
   "outputs": [
    {
     "name": "stdout",
     "output_type": "stream",
     "text": [
      "GAS False\n",
      "Electric False\n"
     ]
    }
   ],
   "source": [
    "## Accessing outside class by using extended class\n",
    "class Mercedes(Veh):\n",
    "    def __init__(self, type, is_selfdriving):\n",
    "        super().__init__(type, is_selfdriving)\n",
    "\n",
    "    def get_details(self):\n",
    "        print(self._type,self._is_selfdriving)\n",
    "    def set_details(self,type):\n",
    "        self._type = type\n",
    "\n",
    "md = Mercedes(\"GAS\",False)\n",
    "md.get_details()\n",
    "md.set_details(\"Electric\")\n",
    "md.get_details()"
   ]
  },
  {
   "cell_type": "code",
   "execution_count": null,
   "metadata": {},
   "outputs": [
    {
     "ename": "AttributeError",
     "evalue": "'Veh' object has no attribute 'get_details'",
     "output_type": "error",
     "traceback": [
      "\u001b[1;31m---------------------------------------------------------------------------\u001b[0m",
      "\u001b[1;31mAttributeError\u001b[0m                            Traceback (most recent call last)",
      "Cell \u001b[1;32mIn[22], line 5\u001b[0m\n\u001b[0;32m      2\u001b[0m \u001b[38;5;28;01mdef\u001b[39;00m \u001b[38;5;21mget_veh_details\u001b[39m(veh):\n\u001b[0;32m      3\u001b[0m     \u001b[38;5;28mprint\u001b[39m(veh\u001b[38;5;241m.\u001b[39mget_details())\n\u001b[1;32m----> 5\u001b[0m \u001b[43mget_veh_details\u001b[49m\u001b[43m(\u001b[49m\u001b[43mvh\u001b[49m\u001b[43m)\u001b[49m\n",
      "Cell \u001b[1;32mIn[22], line 3\u001b[0m, in \u001b[0;36mget_veh_details\u001b[1;34m(veh)\u001b[0m\n\u001b[0;32m      2\u001b[0m \u001b[38;5;28;01mdef\u001b[39;00m \u001b[38;5;21mget_veh_details\u001b[39m(veh):\n\u001b[1;32m----> 3\u001b[0m     \u001b[38;5;28mprint\u001b[39m(\u001b[43mveh\u001b[49m\u001b[38;5;241;43m.\u001b[39;49m\u001b[43mget_details\u001b[49m())\n",
      "\u001b[1;31mAttributeError\u001b[0m: 'Veh' object has no attribute 'get_details'"
     ]
    }
   ],
   "source": [
    "## Accessing outside class without extended class\n",
    "def get_veh_details(veh):\n",
    "    print(veh.get_details())\n",
    "\n",
    "get_veh_details(vh) ## Doesn't gives values since those details are protected by Veh class"
   ]
  },
  {
   "cell_type": "code",
   "execution_count": null,
   "metadata": {},
   "outputs": [],
   "source": []
  }
 ],
 "metadata": {
  "kernelspec": {
   "display_name": "Python 3",
   "language": "python",
   "name": "python3"
  },
  "language_info": {
   "codemirror_mode": {
    "name": "ipython",
    "version": 3
   },
   "file_extension": ".py",
   "mimetype": "text/x-python",
   "name": "python",
   "nbconvert_exporter": "python",
   "pygments_lexer": "ipython3",
   "version": "3.13.0"
  }
 },
 "nbformat": 4,
 "nbformat_minor": 2
}
