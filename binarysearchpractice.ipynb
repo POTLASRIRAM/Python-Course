{
 "cells": [
  {
   "cell_type": "code",
   "execution_count": 27,
   "metadata": {},
   "outputs": [
    {
     "data": {
      "text/plain": [
       "8"
      ]
     },
     "execution_count": 27,
     "metadata": {},
     "output_type": "execute_result"
    }
   ],
   "source": [
    "## Count negative no's in a matrix\n",
    "\n",
    "m = [[4, 3, -2, -1], [3, 2, 1, -1], [1, 1, -1, -2], [-1, -1, -2, -3]]\n",
    "\n",
    "def countNegatives(grid):\n",
    "    count = 0\n",
    "    for i in range(len(grid)):\n",
    "        start=0\n",
    "        end = len(grid)-1\n",
    "        for j in range(len(grid)):\n",
    "            mid = (start+end)//2\n",
    "            if grid[j][mid]>0 :\n",
    "                start = mid+1\n",
    "            if grid[j][mid]<0 :\n",
    "                count = count+1\n",
    "                start = mid+1\n",
    "    return count\n",
    "\n",
    "            \n",
    "\n",
    "countNegatives(m)"
   ]
  },
  {
   "cell_type": "code",
   "execution_count": null,
   "metadata": {},
   "outputs": [],
   "source": []
  },
  {
   "cell_type": "code",
   "execution_count": null,
   "metadata": {},
   "outputs": [],
   "source": []
  }
 ],
 "metadata": {
  "kernelspec": {
   "display_name": "Python 3",
   "language": "python",
   "name": "python3"
  },
  "language_info": {
   "codemirror_mode": {
    "name": "ipython",
    "version": 3
   },
   "file_extension": ".py",
   "mimetype": "text/x-python",
   "name": "python",
   "nbconvert_exporter": "python",
   "pygments_lexer": "ipython3",
   "version": "3.13.0"
  }
 },
 "nbformat": 4,
 "nbformat_minor": 2
}
