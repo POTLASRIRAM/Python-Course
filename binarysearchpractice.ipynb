{
 "cells": [
  {
   "cell_type": "code",
   "execution_count": 31,
   "metadata": {},
   "outputs": [
    {
     "data": {
      "text/plain": [
       "9"
      ]
     },
     "execution_count": 31,
     "metadata": {},
     "output_type": "execute_result"
    }
   ],
   "source": [
    "## Count negative no's in a matrix\n",
    "\n",
    "m = [[4, 3, -2, -1], [3, 2, 1, -1], [1, 1, -1, -2], [-1, -1, -2, -3]]\n",
    "\n",
    "def countNegatives(grid):\n",
    "    count = 0\n",
    "    for i in range(len(grid)):\n",
    "        for j in range(len(grid[i])):\n",
    "            if grid[i][j]<0:\n",
    "                count = count+1\n",
    "    return count\n",
    "\n",
    "            \n",
    "\n",
    "countNegatives(m)"
   ]
  },
  {
   "cell_type": "code",
   "execution_count": null,
   "metadata": {},
   "outputs": [
    {
     "name": "stdout",
     "output_type": "stream",
     "text": [
      "4\n",
      "4\n",
      "4\n",
      "4\n"
     ]
    },
    {
     "data": {
      "text/plain": [
       "4"
      ]
     },
     "execution_count": 6,
     "metadata": {},
     "output_type": "execute_result"
    }
   ],
   "source": []
  },
  {
   "cell_type": "code",
   "execution_count": null,
   "metadata": {},
   "outputs": [
    {
     "name": "stdout",
     "output_type": "stream",
     "text": [
      "-1\n",
      "-1\n",
      "4\n"
     ]
    }
   ],
   "source": [
    "def countNegatives(grid):\n",
    "    count = 0\n",
    "    for row in grid:\n",
    "        start, end = 0, len(row) - 1\n",
    "        while start <= end:\n",
    "            mid = (start + end) // 2\n",
    "            print(row[mid])\n",
    "            if row[mid] < 0:\n",
    "                # All elements to the right of `mid` are also negative\n",
    "                end = mid - 1\n",
    "            else:\n",
    "                # Move to the right to find negatives\n",
    "                start = mid + 1\n",
    "        # Add the number of negatives in the row\n",
    "        count += len(row) - start\n",
    "    return count\n",
    "\n",
    "# Test\n",
    "m = [[4, 3, 2, 1], [3, 2, 1, -1], [1, 1, -1, -2], [-1, -1, -2, -3]]\n",
    "print(countNegatives(m))  # Should give the correct count of negatives\n"
   ]
  },
  {
   "cell_type": "code",
   "execution_count": null,
   "metadata": {},
   "outputs": [
    {
     "data": {
      "text/plain": [
       "4"
      ]
     },
     "execution_count": 8,
     "metadata": {},
     "output_type": "execute_result"
    }
   ],
   "source": [
    "## Search in rotated sorted array\n",
    "\n",
    "nums = [4, 5, 6, 7, 0, 1, 2]\n",
    "target = 0\n",
    "\n",
    "def search(nums, target):\n",
    "    left = 0\n",
    "    right = len(nums)-1\n",
    "    for i in range(len(nums)):\n",
    "        mid = (left+right)//2\n",
    "        if nums[mid]== target:\n",
    "            return mid\n",
    "        if nums[left] <= nums[mid]:\n",
    "            if nums[left] <= target < nums[mid]:\n",
    "                right = mid - 1\n",
    "            else:\n",
    "                left = mid + 1\n",
    "        else:\n",
    "            if nums[mid] < target <= nums[right]:\n",
    "                left = mid + 1\n",
    "            else:\n",
    "                right = mid - 1\n",
    "    \n",
    "    return -1\n",
    "\n",
    "search(nums,target)"
   ]
  },
  {
   "cell_type": "code",
   "execution_count": 6,
   "metadata": {},
   "outputs": [
    {
     "data": {
      "text/plain": [
       "11"
      ]
     },
     "execution_count": 6,
     "metadata": {},
     "output_type": "execute_result"
    }
   ],
   "source": [
    "## Minimum in sorted array\n",
    "\n",
    "nums = [11, 13, 15, 17] \n",
    "\n",
    "def findMin(nums):\n",
    "    return min(nums)\n",
    "\n",
    "findMin(nums)"
   ]
  },
  {
   "cell_type": "code",
   "execution_count": 24,
   "metadata": {},
   "outputs": [
    {
     "name": "stdout",
     "output_type": "stream",
     "text": [
      "[1, 2]\n"
     ]
    }
   ],
   "source": [
    "## Find First and Last Position of Element in Sorted Array\n",
    "\n",
    "def searchRange(nums, target):\n",
    "    def findFirst(nums, target):\n",
    "        start, end = 0, len(nums) - 1\n",
    "        first_position = -1\n",
    "        while start <= end:\n",
    "            mid = (start + end) // 2\n",
    "            if nums[mid] == target:\n",
    "                first_position = mid\n",
    "                end = mid - 1  # Move left to find earlier occurrences\n",
    "            elif nums[mid] < target:\n",
    "                start = mid + 1\n",
    "            else:\n",
    "                end = mid - 1\n",
    "        return first_position\n",
    "\n",
    "    def findLast(nums, target):\n",
    "        start, end = 0, len(nums) - 1\n",
    "        last_position = -1\n",
    "        while start <= end:\n",
    "            mid = (start + end) // 2\n",
    "            if nums[mid] == target:\n",
    "                last_position = mid\n",
    "                start = mid + 1  # Move right to find later occurrences\n",
    "            elif nums[mid] < target:\n",
    "                start = mid + 1\n",
    "            else:\n",
    "                end = mid - 1\n",
    "        return last_position\n",
    "\n",
    "    first = findFirst(nums, target)\n",
    "    last = findLast(nums, target)\n",
    "    return [first, last]\n",
    "\n",
    "nums = [5, 7, 7, 8, 8, 10]\n",
    "target = 7\n",
    "print(searchRange(nums, target))\n"
   ]
  },
  {
   "cell_type": "code",
   "execution_count": 26,
   "metadata": {},
   "outputs": [
    {
     "name": "stdout",
     "output_type": "stream",
     "text": [
      "2\n",
      "[1, 2, 3, 4]\n"
     ]
    }
   ],
   "source": [
    "## Reshape Matrix\n",
    "\n",
    "mat = [[1, 2], [3, 4]]\n",
    "r = 1\n",
    "c = 4\n",
    "\n",
    "def matrix_reshape(mat, r, c):\n",
    "    size = len(mat)\n",
    "    lst = []\n",
    "    for i in range(size):\n",
    "        for j in range(size):\n",
    "            lst.append(mat[i][j])\n",
    "    print(size)\n",
    "    print(lst)\n",
    "\n",
    "\n",
    "matrix_reshape(mat,r,c)"
   ]
  },
  {
   "cell_type": "code",
   "execution_count": null,
   "metadata": {},
   "outputs": [],
   "source": []
  }
 ],
 "metadata": {
  "kernelspec": {
   "display_name": "Python 3",
   "language": "python",
   "name": "python3"
  },
  "language_info": {
   "codemirror_mode": {
    "name": "ipython",
    "version": 3
   },
   "file_extension": ".py",
   "mimetype": "text/x-python",
   "name": "python",
   "nbconvert_exporter": "python",
   "pygments_lexer": "ipython3",
   "version": "3.13.0"
  }
 },
 "nbformat": 4,
 "nbformat_minor": 2
}
