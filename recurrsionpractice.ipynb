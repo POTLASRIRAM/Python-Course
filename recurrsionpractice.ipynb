{
 "cells": [
  {
   "cell_type": "code",
   "execution_count": 7,
   "metadata": {},
   "outputs": [
    {
     "name": "stdout",
     "output_type": "stream",
     "text": [
      "120\n"
     ]
    }
   ],
   "source": [
    "## Factorial using recurrsion\n",
    "\n",
    "def factorial(n):\n",
    "    if n<0:\n",
    "        return \"N should be non negative \"\n",
    "    elif n==0:\n",
    "        return 1\n",
    "    else:\n",
    "        return n * factorial(n-1)\n",
    "\n",
    "print(factorial(5))"
   ]
  },
  {
   "cell_type": "code",
   "execution_count": 2,
   "metadata": {},
   "outputs": [
    {
     "name": "stdout",
     "output_type": "stream",
     "text": [
      "15\n"
     ]
    }
   ],
   "source": [
    "## Sum of N numbers using recurrsion\n",
    "\n",
    "def sum(n):\n",
    "    if n<0:\n",
    "        return \"N should be non negative \"\n",
    "    elif n==0:\n",
    "        return n\n",
    "    else:\n",
    "        return n + sum(n-1)\n",
    "\n",
    "print(sum(5))"
   ]
  },
  {
   "cell_type": "code",
   "execution_count": 6,
   "metadata": {},
   "outputs": [
    {
     "name": "stdout",
     "output_type": "stream",
     "text": [
      "1\n"
     ]
    }
   ],
   "source": [
    "## Number of digits in a number using recurrsion\n",
    "def count_digits(n):\n",
    "    # Base case: if n is a single digit, return 1\n",
    "    if n == 0:\n",
    "        return 0  # 0 has no digits, so it should return 0\n",
    "    elif n <= 9:\n",
    "        return 1  # Single-digit number has exactly 1 digit\n",
    "    else:\n",
    "        # Recursive case: strip off the last digit and count the remaining digits\n",
    "        return 1 + count_digits(n // 10)\n",
    "\n",
    "print(count_digits(100))  # This should output 3\n"
   ]
  },
  {
   "cell_type": "code",
   "execution_count": 14,
   "metadata": {},
   "outputs": [
    {
     "name": "stdout",
     "output_type": "stream",
     "text": [
      "[1, 2, 3, 4]\n",
      "[1, 2, 3, 4]\n",
      "[1, 2, 3, 4]\n",
      "[1, 2, 3, 4]\n",
      "[1, 2, 3, 4]\n"
     ]
    }
   ],
   "source": [
    "## Print 1 to N using Recursion\n",
    "lst = []\n",
    "def count_to_n(n):\n",
    "    \n",
    "    if n == 1:\n",
    "        return [1]\n",
    "    # Recursive case: append n to the result of count_to_n(n - 1)\n",
    "    return count_to_n(n - 1) + [n]\n",
    "    "
   ]
  },
  {
   "cell_type": "code",
   "execution_count": 16,
   "metadata": {},
   "outputs": [
    {
     "data": {
      "text/plain": [
       "[5, 4, 3, 2, 1]"
      ]
     },
     "execution_count": 16,
     "metadata": {},
     "output_type": "execute_result"
    }
   ],
   "source": [
    "## Print N to 1 using Recursion\n",
    "\n",
    "def count_down(n):\n",
    "    if n==1:\n",
    "        return [1]\n",
    "    return [n]+count_down(n-1)\n",
    "count_down(5)"
   ]
  },
  {
   "cell_type": "code",
   "execution_count": 4,
   "metadata": {},
   "outputs": [
    {
     "data": {
      "text/plain": [
       "5"
      ]
     },
     "execution_count": 4,
     "metadata": {},
     "output_type": "execute_result"
    }
   ],
   "source": [
    "## Fibanoci series using recurrsion\n",
    "\n",
    "def fibonacci(n):\n",
    "     if n==0:\n",
    "          return 0\n",
    "     elif n==1:\n",
    "          return 1\n",
    "     \n",
    "     return fibonacci(n-1)+fibonacci(n-2)\n",
    "\n",
    "\n",
    "fibonacci(5)"
   ]
  },
  {
   "cell_type": "code",
   "execution_count": null,
   "metadata": {},
   "outputs": [],
   "source": []
  }
 ],
 "metadata": {
  "kernelspec": {
   "display_name": "Python 3",
   "language": "python",
   "name": "python3"
  },
  "language_info": {
   "codemirror_mode": {
    "name": "ipython",
    "version": 3
   },
   "file_extension": ".py",
   "mimetype": "text/x-python",
   "name": "python",
   "nbconvert_exporter": "python",
   "pygments_lexer": "ipython3",
   "version": "3.13.0"
  }
 },
 "nbformat": 4,
 "nbformat_minor": 2
}
