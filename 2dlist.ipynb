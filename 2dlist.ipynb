{
 "cells": [
  {
   "cell_type": "code",
   "execution_count": 1,
   "metadata": {},
   "outputs": [],
   "source": [
    "## Pascals triangle\n",
    "\n"
   ]
  },
  {
   "cell_type": "code",
   "execution_count": 41,
   "metadata": {},
   "outputs": [
    {
     "data": {
      "text/plain": [
       "[[7, 4, 1], [8, 5, 2], [9, 6, 3]]"
      ]
     },
     "execution_count": 41,
     "metadata": {},
     "output_type": "execute_result"
    }
   ],
   "source": [
    "## Rotate image\n",
    "\n",
    "matrix = [[1, 2, 3], [4, 5, 6], [7, 8, 9]]\n",
    "\n",
    "\n",
    "def rotate(m):\n",
    "    lst1= []\n",
    "    j_range = 0\n",
    "    for j in range(len(matrix)):\n",
    "        lst2=[]\n",
    "        for i  in range(len(m)-1,-1,-1):\n",
    "           lst2.append(m[i][j_range])\n",
    "        j_range = j_range+1\n",
    "        lst1.append(lst2)\n",
    "    return lst1\n",
    "\n",
    "rotate(matrix)\n"
   ]
  },
  {
   "cell_type": "code",
   "execution_count": 51,
   "metadata": {},
   "outputs": [
    {
     "data": {
      "text/plain": [
       "False"
      ]
     },
     "execution_count": 51,
     "metadata": {},
     "output_type": "execute_result"
    }
   ],
   "source": [
    "## Matrix obtained by Rotation or not?\n",
    "\n",
    "mat = [[0, 1], [1, 1]]\n",
    "target = [[1, 0], [0, 1]]\n",
    "\n",
    "\n",
    "def can_be_rotated(mat, target):\n",
    "    lst = []\n",
    "    for i in range(len(mat)-1,-1,-1):\n",
    "        lst1 =[]\n",
    "        for j in range(len(mat)):\n",
    "            lst1.append(mat[i][j])\n",
    "            ##print(mat[i][j])\n",
    "        lst.append(lst1)\n",
    "    if lst == target:\n",
    "        return True\n",
    "    else:\n",
    "        return False\n",
    "\n",
    "can_be_rotated(mat,target)"
   ]
  },
  {
   "cell_type": "code",
   "execution_count": 53,
   "metadata": {},
   "outputs": [
    {
     "data": {
      "text/plain": [
       "True"
      ]
     },
     "execution_count": 53,
     "metadata": {},
     "output_type": "execute_result"
    }
   ],
   "source": [
    "# Search a 2D matrix\n",
    "\n",
    "matrix = [[1, 3, 5, 7], \n",
    "                 [10, 11, 16, 20], \n",
    "                 [23, 30, 34, 60]]\n",
    "target = 1\n",
    "\n",
    "def search_matrix(matrix, target):\n",
    "    for i in range(len(matrix)):\n",
    "        for j in range(len(matrix)):\n",
    "            if matrix[i][j] == target:\n",
    "                return True\n",
    "    return False\n",
    "            \n",
    "\n",
    "\n",
    "search_matrix(matrix, target)"
   ]
  },
  {
   "cell_type": "code",
   "execution_count": null,
   "metadata": {},
   "outputs": [
    {
     "data": {
      "text/plain": [
       "11"
      ]
     },
     "execution_count": 2,
     "metadata": {},
     "output_type": "execute_result"
    }
   ],
   "source": [
    "## Minimum in sorted array\n",
    "\n",
    "nums = [11, 13, 15, 17] \n",
    "\n",
    "def findMin(nums):\n",
    "    return min(nums)\n",
    "\n",
    "findMin(nums)"
   ]
  },
  {
   "cell_type": "code",
   "execution_count": null,
   "metadata": {},
   "outputs": [],
   "source": [
    "## Search in rotated sorted array\n",
    "\n",
    "nums = [4, 5, 6, 7, 0, 1, 2]\n",
    "target = 0\n",
    "\n"
   ]
  }
 ],
 "metadata": {
  "kernelspec": {
   "display_name": "Python 3",
   "language": "python",
   "name": "python3"
  },
  "language_info": {
   "codemirror_mode": {
    "name": "ipython",
    "version": 3
   },
   "file_extension": ".py",
   "mimetype": "text/x-python",
   "name": "python",
   "nbconvert_exporter": "python",
   "pygments_lexer": "ipython3",
   "version": "3.13.0"
  }
 },
 "nbformat": 4,
 "nbformat_minor": 2
}
