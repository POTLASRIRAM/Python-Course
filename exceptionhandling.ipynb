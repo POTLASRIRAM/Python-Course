{
 "cells": [
  {
   "cell_type": "code",
   "execution_count": 2,
   "metadata": {},
   "outputs": [
    {
     "name": "stdout",
     "output_type": "stream",
     "text": [
      "name 'b' is not defined\n"
     ]
    }
   ],
   "source": [
    "try:\n",
    "    a=b\n",
    "\n",
    "except Exception as EX:\n",
    "    print(EX)"
   ]
  },
  {
   "cell_type": "code",
   "execution_count": 5,
   "metadata": {},
   "outputs": [
    {
     "ename": "NameError",
     "evalue": "name 'b' is not defined",
     "output_type": "error",
     "traceback": [
      "\u001b[1;31m---------------------------------------------------------------------------\u001b[0m",
      "\u001b[1;31mNameError\u001b[0m                                 Traceback (most recent call last)",
      "Cell \u001b[1;32mIn[5], line 1\u001b[0m\n\u001b[1;32m----> 1\u001b[0m a\u001b[38;5;241m=\u001b[39m\u001b[43mb\u001b[49m\n",
      "\u001b[1;31mNameError\u001b[0m: name 'b' is not defined"
     ]
    }
   ],
   "source": [
    "a=b\n",
    "\n"
   ]
  },
  {
   "cell_type": "code",
   "execution_count": 6,
   "metadata": {},
   "outputs": [
    {
     "name": "stdout",
     "output_type": "stream",
     "text": [
      "name 'b' is not defined\n"
     ]
    }
   ],
   "source": [
    "try:\n",
    "    a=b\n",
    "\n",
    "except NameError as ne:\n",
    "    print(ne)"
   ]
  },
  {
   "cell_type": "code",
   "execution_count": null,
   "metadata": {},
   "outputs": [
    {
     "name": "stdout",
     "output_type": "stream",
     "text": [
      "name 'b' is not defined\n"
     ]
    }
   ],
   "source": [
    "## try block halts when it first encounters an exception even though it had multiple exceptions stmts in single try\n",
    "try:\n",
    "    a=b\n",
    "    c=1/0\n",
    "except Exception as ex1:\n",
    "    print(ex1)\n",
    "except Exception as ex2:\n",
    "    print(ex2)"
   ]
  },
  {
   "cell_type": "code",
   "execution_count": 16,
   "metadata": {},
   "outputs": [
    {
     "name": "stdout",
     "output_type": "stream",
     "text": [
      "division by zero\n"
     ]
    }
   ],
   "source": [
    "try:\n",
    "    n = int(input(\"Enter a number : \"))\n",
    "    m = int(input(\"Enter m value : \"))\n",
    "    div = n/m\n",
    "except ValueError as ex3:\n",
    "    print(ex3)\n",
    "except ZeroDivisionError as ex4:\n",
    "    print(ex4)"
   ]
  },
  {
   "cell_type": "code",
   "execution_count": null,
   "metadata": {},
   "outputs": [
    {
     "name": "stdout",
     "output_type": "stream",
     "text": [
      "5.0\n",
      "evrything is perfect\n"
     ]
    }
   ],
   "source": [
    "## else executes and prints whatever we want if and only if try block executes successfully\n",
    "\n",
    "try:\n",
    "    m = int(input(\"Enter m value : \"))\n",
    "    div = 10/m\n",
    "    print(div)\n",
    "except ValueError as ex3:\n",
    "    print(ex3)\n",
    "except ZeroDivisionError as ex4:\n",
    "    print(ex4)\n",
    "else:\n",
    "    print(\"evrything is perfect\")"
   ]
  },
  {
   "cell_type": "code",
   "execution_count": 21,
   "metadata": {},
   "outputs": [
    {
     "name": "stdout",
     "output_type": "stream",
     "text": [
      "division by zero\n",
      "Execution complete\n"
     ]
    }
   ],
   "source": [
    "## Finally executes regardless of fail or success or try block statements\n",
    "\n",
    "try:\n",
    "    m = int(input(\"Enter m value : \"))\n",
    "    div = 10/m\n",
    "    print(div)\n",
    "except ValueError as ex3:\n",
    "    print(ex3)\n",
    "except ZeroDivisionError as ex4:\n",
    "    print(ex4)\n",
    "else:\n",
    "    print(\"evrything is perfect\")\n",
    "finally:\n",
    "    print(\"Execution complete\")"
   ]
  },
  {
   "cell_type": "code",
   "execution_count": 23,
   "metadata": {},
   "outputs": [
    {
     "name": "stdout",
     "output_type": "stream",
     "text": [
      "name,age\n",
      "Krish,32\n",
      "\n",
      "name 'u' is not defined\n",
      "File is closed\n",
      "Execution complete\n"
     ]
    }
   ],
   "source": [
    "## File handling and Exception handling\n",
    "try:\n",
    "    f = open('example.csv')\n",
    "    con = f.read()\n",
    "    print(con)\n",
    "    i=u\n",
    "except FileNotFoundError as fe:\n",
    "    print(fe)\n",
    "except Exception as e:\n",
    "    print(e)\n",
    "else:\n",
    "    print(\"evrything is perfect\")\n",
    "finally:\n",
    "    if 'f' in locals() or f.closed():\n",
    "        f.close()\n",
    "        print(\"File is closed\")\n",
    "    print(\"Execution complete\")\n"
   ]
  },
  {
   "cell_type": "code",
   "execution_count": 57,
   "metadata": {},
   "outputs": [
    {
     "name": "stdout",
     "output_type": "stream",
     "text": [
      "character Count :  47\n",
      "lines count :  3\n",
      "word count :  11\n"
     ]
    }
   ],
   "source": [
    "## File handling assignment \n",
    "## Read text file and count no of lines,words and characters\n",
    "\n",
    "with open(r'D:\\Krish Python\\file operations\\sample.txt','r') as fl:\n",
    "    lines_count = 0\n",
    "    for lines in fl:\n",
    "        lines_count = lines_count+1\n",
    "    fl.seek(0)\n",
    "    con = fl.read()\n",
    "    chars_count = len([i for i in con if i not in {' ', '\\n'}])\n",
    "    word_lst = len(con.split())\n",
    "    print('character Count : ',chars_count)\n",
    "    print('lines count : ',lines_count)\n",
    "    print('word count : ',word_lst)"
   ]
  },
  {
   "cell_type": "code",
   "execution_count": null,
   "metadata": {},
   "outputs": [],
   "source": []
  }
 ],
 "metadata": {
  "kernelspec": {
   "display_name": "Python 3",
   "language": "python",
   "name": "python3"
  },
  "language_info": {
   "codemirror_mode": {
    "name": "ipython",
    "version": 3
   },
   "file_extension": ".py",
   "mimetype": "text/x-python",
   "name": "python",
   "nbconvert_exporter": "python",
   "pygments_lexer": "ipython3",
   "version": "3.13.0"
  }
 },
 "nbformat": 4,
 "nbformat_minor": 2
}
