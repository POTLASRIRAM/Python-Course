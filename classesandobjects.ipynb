{
 "cells": [
  {
   "cell_type": "code",
   "execution_count": null,
   "metadata": {},
   "outputs": [
    {
     "name": "stdout",
     "output_type": "stream",
     "text": [
      "Cow\n",
      "Domestic\n"
     ]
    }
   ],
   "source": [
    "## Classes and objects\n",
    "\n",
    "class Animal: ## Class name\n",
    "    name = 'Cow' ## Class variable\n",
    "    type = 'Domestic'\n",
    "\n",
    "a1 = Animal() ## Objects\n",
    "print(a1.name)\n",
    "print(a1.type)"
   ]
  },
  {
   "cell_type": "code",
   "execution_count": null,
   "metadata": {},
   "outputs": [
    {
     "name": "stdout",
     "output_type": "stream",
     "text": [
      "BMW 2014\n"
     ]
    }
   ],
   "source": [
    "## Class instance variables\n",
    "\n",
    "class Car:\n",
    "\n",
    "    ## initializing constructor to assign variables to class\n",
    "    def __init__(self,brand,year):\n",
    "        self.brand = brand\n",
    "        self.year = year\n",
    "## Assigning instance variables values using objects    \n",
    "car1 = Car('Audi',2012)\n",
    "car2 = Car('BMW',2013)\n",
    "car3 = Car('Mercedes',2014)\n",
    "\n",
    "## Accessing class instance var and printing them to output\n",
    "print(car2.brand,car3.year)"
   ]
  },
  {
   "cell_type": "code",
   "execution_count": 7,
   "metadata": {},
   "outputs": [
    {
     "name": "stdout",
     "output_type": "stream",
     "text": [
      "BMW\n",
      "2013\n"
     ]
    }
   ],
   "source": [
    "## Class instance variables and instance methods\n",
    "class Car:\n",
    "    ## initializing constructor to assign variables to class\n",
    "    def __init__(self,brand,year):\n",
    "        self.brand = brand\n",
    "        self.year = year\n",
    "    ## Instance methods and using class instance variables\n",
    "    def getModels(self): \n",
    "        print(self.brand)\n",
    "        print(self.year)\n",
    "## Assigning instance variables values using objects    \n",
    "car1 = Car('Audi',2012)\n",
    "car2 = Car('BMW',2013)\n",
    "car3 = Car('Mercedes',2014)\n",
    "## Accessing class instance methods and printing them to output\n",
    "car2.getModels()"
   ]
  },
  {
   "cell_type": "code",
   "execution_count": 1,
   "metadata": {},
   "outputs": [],
   "source": [
    "## Bank application\n",
    "\n",
    "class Bank:\n",
    "    def __init__(self,owner,balance):\n",
    "        self.owner = owner\n",
    "        self.balance = balance\n",
    "\n",
    "    def deposit(self,deposit_amount):\n",
    "       self.balance = self.balance+deposit_amount\n",
    "       print(\"Updated balance : \",self.balance)\n",
    "\n",
    "    def withdraw(self,withdraw_amount):\n",
    "       if self.balance>withdraw_amount:\n",
    "           self.balance = self.balance-withdraw_amount\n",
    "           print(\"Updated balance post withdraw : \",self.balance)\n",
    "       else:\n",
    "           print(\"Withdraw is higher than available balance\")\n",
    "\n",
    "    def getBalance(self):\n",
    "        print(\"Current balance : \",self.balance)\n",
    "\n",
    "\n",
    "name = str(input())\n",
    "balance = 0\n",
    "bank = Bank(name,balance)\n",
    "choice = str(input(\"Enter your choice : D | W | GB\"))\n",
    "if choice == 'D':\n",
    "    deposit_amount = int(input(\"Enter deposit amount \"))\n",
    "    bank.deposit(deposit_amount)\n",
    "if choice == 'W':\n",
    "    Withdraw_amount = int(input(\"Enter withdraw amount \"))\n",
    "    bank.withdraw(Withdraw_amount)\n",
    "if choice == 'GB':\n",
    "    bank.getBalance()\n"
   ]
  },
  {
   "cell_type": "code",
   "execution_count": 2,
   "metadata": {},
   "outputs": [
    {
     "name": "stdout",
     "output_type": "stream",
     "text": [
      "\n",
      "Enter your choice: D | W | GB | E (to Exit)\n",
      "Updated balance: 10000\n",
      "\n",
      "Enter your choice: D | W | GB | E (to Exit)\n",
      "Current balance: 10000\n",
      "\n",
      "Enter your choice: D | W | GB | E (to Exit)\n",
      "Thank you for using the bank!\n"
     ]
    }
   ],
   "source": [
    "class Bank:\n",
    "    def __init__(self, owner, balance):\n",
    "        self.owner = owner\n",
    "        self.balance = balance\n",
    "\n",
    "    def deposit(self, deposit_amount):\n",
    "        self.balance += deposit_amount\n",
    "        print(\"Updated balance:\", self.balance)\n",
    "\n",
    "    def withdraw(self, withdraw_amount):\n",
    "        if self.balance >= withdraw_amount:\n",
    "            self.balance -= withdraw_amount\n",
    "            print(\"Updated balance post withdraw:\", self.balance)\n",
    "        else:\n",
    "            print(\"Withdrawal amount is higher than available balance\")\n",
    "\n",
    "    def getBalance(self):\n",
    "        print(\"Current balance:\", self.balance)\n",
    "\n",
    "\n",
    "# Main Program\n",
    "name = input(\"Enter your name: \")\n",
    "balance = 0\n",
    "bank = Bank(name, balance)\n",
    "\n",
    "while True:\n",
    "    print(\"\\nEnter your choice: D | W | GB | E (to Exit)\")\n",
    "    choice = input().strip().upper()\n",
    "\n",
    "    if choice == 'D':\n",
    "        deposit_amount = int(input(\"Enter deposit amount: \"))\n",
    "        bank.deposit(deposit_amount)\n",
    "    elif choice == 'W':\n",
    "        withdraw_amount = int(input(\"Enter withdraw amount: \"))\n",
    "        bank.withdraw(withdraw_amount)\n",
    "    elif choice == 'GB':\n",
    "        bank.getBalance()\n",
    "    elif choice == 'E':\n",
    "        print(\"Thank you for using the bank!\")\n",
    "        break\n",
    "    else:\n",
    "        print(\"Invalid choice. Please try again.\")\n"
   ]
  },
  {
   "cell_type": "code",
   "execution_count": null,
   "metadata": {},
   "outputs": [],
   "source": []
  }
 ],
 "metadata": {
  "kernelspec": {
   "display_name": "Python 3",
   "language": "python",
   "name": "python3"
  },
  "language_info": {
   "codemirror_mode": {
    "name": "ipython",
    "version": 3
   },
   "file_extension": ".py",
   "mimetype": "text/x-python",
   "name": "python",
   "nbconvert_exporter": "python",
   "pygments_lexer": "ipython3",
   "version": "3.13.0"
  }
 },
 "nbformat": 4,
 "nbformat_minor": 2
}
