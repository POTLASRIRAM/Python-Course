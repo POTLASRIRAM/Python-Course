{
 "cells": [
  {
   "cell_type": "code",
   "execution_count": 4,
   "metadata": {},
   "outputs": [
    {
     "data": {
      "text/plain": [
       "False"
      ]
     },
     "execution_count": 4,
     "metadata": {},
     "output_type": "execute_result"
    }
   ],
   "source": [
    "## Check if an array is sorted or not\n",
    "\n",
    "def check(s):\n",
    "    ## Head recurrsion\n",
    "    if(len(s)==0 or len(s)==1):\n",
    "        return True\n",
    "    check(s[1:])\n",
    "    if(s[0]<s[1]):\n",
    "        return check(s[1:])\n",
    "    else:\n",
    "        return False\n",
    "\n",
    "\n",
    "'''def check(s):   \n",
    "    ## Tail Recurrsion\n",
    "    if len(s)==0 or len(s)==1:\n",
    "        return True\n",
    "    \n",
    "    if(s[0]>s[1]):\n",
    "        return False\n",
    "    \n",
    "    return check(s[1:])'''\n",
    "\n",
    "check([4,5,1,3,7,8])"
   ]
  },
  {
   "cell_type": "code",
   "execution_count": 7,
   "metadata": {},
   "outputs": [
    {
     "data": {
      "text/plain": [
       "15"
      ]
     },
     "execution_count": 7,
     "metadata": {},
     "output_type": "execute_result"
    }
   ],
   "source": [
    "## Sum of an Array using Recursion\n",
    "## Tail recurrsion\n",
    "def recursive_sum(arr):\n",
    "    if(len(arr)==0):\n",
    "        return 0\n",
    "    elif(len(arr)==1):\n",
    "        return arr[0]\n",
    "    return arr[0] + recursive_sum(arr[1:])\n",
    "\n",
    "recursive_sum([1,2,3,4,5])"
   ]
  },
  {
   "cell_type": "code",
   "execution_count": 8,
   "metadata": {},
   "outputs": [
    {
     "data": {
      "text/plain": [
       "15"
      ]
     },
     "execution_count": 8,
     "metadata": {},
     "output_type": "execute_result"
    }
   ],
   "source": [
    "## Sum of an Array using Recursion\n",
    "## Head recurrsion\n",
    "def recursive_sum(arr):\n",
    "    if(len(arr)==0):\n",
    "        return 0\n",
    "    elif(len(arr)==1):\n",
    "        return arr[0]\n",
    "    \n",
    "    ans = recursive_sum(arr[1:])\n",
    "    return arr[0]+ ans\n",
    "\n",
    "recursive_sum([1,2,3,4,5])"
   ]
  },
  {
   "cell_type": "code",
   "execution_count": 19,
   "metadata": {},
   "outputs": [
    {
     "data": {
      "text/plain": [
       "1"
      ]
     },
     "execution_count": 19,
     "metadata": {},
     "output_type": "execute_result"
    }
   ],
   "source": [
    "## First Index of an Element using Recursion\n",
    "\n",
    "def find_first_index(arr, element):\n",
    "       \n",
    "       def sub_func(arr,index):\n",
    "            if index == len(arr):\n",
    "               return -1\n",
    "            if arr[index] == element:\n",
    "               return index\n",
    "            return sub_func(arr,index+1)\n",
    "       return sub_func(arr,0)\n",
    "\n",
    "find_first_index([1,2,3,4,2],2)"
   ]
  },
  {
   "cell_type": "code",
   "execution_count": 20,
   "metadata": {},
   "outputs": [
    {
     "data": {
      "text/plain": [
       "4"
      ]
     },
     "execution_count": 20,
     "metadata": {},
     "output_type": "execute_result"
    }
   ],
   "source": [
    "## Last Index of an Element using Recursion\n",
    "\n",
    "def find_last_index(arr, element):\n",
    "       \n",
    "       def sub_func(arr,index):\n",
    "            if len(arr)==0:\n",
    "               return -1\n",
    "            if arr[index] == element:\n",
    "               return index\n",
    "            return sub_func(arr,index-1)\n",
    "       return sub_func(arr,len(arr)-1)\n",
    "\n",
    "find_last_index([1,2,3,4,2],2)"
   ]
  },
  {
   "cell_type": "code",
   "execution_count": 23,
   "metadata": {},
   "outputs": [
    {
     "data": {
      "text/plain": [
       "[1, 2, 4]"
      ]
     },
     "execution_count": 23,
     "metadata": {},
     "output_type": "execute_result"
    }
   ],
   "source": [
    "## Print all Index of Element using Recursion\n",
    "\n",
    "def find_indices(arr, element):\n",
    "       lst = []\n",
    "       def sub_func(arr,index):\n",
    "            if index == len(arr):\n",
    "               return -1\n",
    "            if arr[index] == element:\n",
    "               lst.append(index)\n",
    "            return sub_func(arr,index+1)\n",
    "       sub_func(arr,0)\n",
    "       return lst\n",
    "\n",
    "find_indices([1,2,2,4,2],2)"
   ]
  },
  {
   "cell_type": "code",
   "execution_count": null,
   "metadata": {},
   "outputs": [],
   "source": []
  }
 ],
 "metadata": {
  "kernelspec": {
   "display_name": "Python 3",
   "language": "python",
   "name": "python3"
  },
  "language_info": {
   "codemirror_mode": {
    "name": "ipython",
    "version": 3
   },
   "file_extension": ".py",
   "mimetype": "text/x-python",
   "name": "python",
   "nbconvert_exporter": "python",
   "pygments_lexer": "ipython3",
   "version": "3.13.0"
  }
 },
 "nbformat": 4,
 "nbformat_minor": 2
}
