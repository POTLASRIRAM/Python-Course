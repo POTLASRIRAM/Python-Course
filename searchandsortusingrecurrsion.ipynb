{
 "cells": [
  {
   "cell_type": "code",
   "execution_count": 4,
   "metadata": {},
   "outputs": [
    {
     "name": "stdout",
     "output_type": "stream",
     "text": [
      "True\n"
     ]
    }
   ],
   "source": [
    "## Linear search using recurrsion\n",
    "\n",
    "def linear_search(arr, target):\n",
    "    def sub_search(arr, index):\n",
    "        if index >= len(arr):  \n",
    "            return False\n",
    "        elif arr[index] == target:\n",
    "            return True\n",
    "        return sub_search(arr, index + 1)  \n",
    "\n",
    "    return sub_search(arr, index=0) \n",
    "\n",
    "\n",
    "print(linear_search([1, 2, 3, 4, 5, 6, 7], 1))  \n"
   ]
  },
  {
   "cell_type": "code",
   "execution_count": 19,
   "metadata": {},
   "outputs": [
    {
     "name": "stdout",
     "output_type": "stream",
     "text": [
      "False\n"
     ]
    }
   ],
   "source": [
    "## Binary search using recursion\n",
    "\n",
    "def binary_search(arr, target):\n",
    "    \n",
    "    for i in range(len(arr)-1):\n",
    "        if arr[i]>arr[i+1]:\n",
    "            return \"Binary search not possible\"\n",
    "    def sub_binary_search(start,end):\n",
    "         if start>end:\n",
    "             return False\n",
    "         mid = (start+end)//2\n",
    "         if arr[mid]==target:\n",
    "             return True\n",
    "         elif target<arr[mid]:\n",
    "              end = mid-1\n",
    "         elif target>arr[mid]:\n",
    "             start = mid+1 \n",
    "         \n",
    "         return sub_binary_search(start,end)\n",
    "    return sub_binary_search(start=0,end=len(arr)-1)\n",
    "\n",
    "print(binary_search([1, 2, 3, 4, 5, 6, 7], -1))  "
   ]
  },
  {
   "cell_type": "code",
   "execution_count": 22,
   "metadata": {},
   "outputs": [
    {
     "data": {
      "text/plain": [
       "[-1, 0, 1, 2, 3, 4, 5]"
      ]
     },
     "execution_count": 22,
     "metadata": {},
     "output_type": "execute_result"
    }
   ],
   "source": [
    "## Merge sort using recursion\n",
    "\n",
    "def merge_sort(arr):\n",
    "    if len(arr)>1:\n",
    "        left_arr = arr[:(len(arr)//2)]\n",
    "        right_arr = arr[len(arr)//2:]\n",
    "        merge_sort(left_arr)\n",
    "        merge_sort(right_arr)\n",
    "        \n",
    "   \n",
    "        i=0\n",
    "        m=len(left_arr)\n",
    "        j=0\n",
    "        n=len(right_arr)\n",
    "        k=0\n",
    "        while i<m and j<n:\n",
    "           if left_arr[i]<right_arr[j]:\n",
    "              arr[k]=left_arr[i]\n",
    "              i=i+1\n",
    "              k=k+1\n",
    "           elif left_arr[i]>right_arr[j]:\n",
    "            arr[k]=right_arr[j]\n",
    "            j=j+1\n",
    "            k=k+1\n",
    "        while i<len(left_arr):\n",
    "             arr[k]=left_arr[i]\n",
    "             i=i+1\n",
    "             k=k+1\n",
    "        while j<len(right_arr):\n",
    "               arr[k]=right_arr[j]\n",
    "               j=j+1\n",
    "               k=k+1\n",
    "\n",
    "    return arr \n",
    "\n",
    "arr = [3, 0, 2, 5, -1, 4, 1]\n",
    "merge_sort(arr)"
   ]
  },
  {
   "cell_type": "code",
   "execution_count": null,
   "metadata": {},
   "outputs": [],
   "source": [
    "def merge_sort(arr):\n",
    "    if len(arr) <= 1:\n",
    "        return arr\n",
    "    mid = len(arr) // 2\n",
    "    left_half = merge_sort(arr[:mid])\n",
    "    right_half = merge_sort(arr[mid:])\n",
    "    return merge(left_half, right_half)\n",
    " \n",
    "def merge(left, right):\n",
    "    sorted_list = []\n",
    "    i = j = 0\n",
    "    while i < len(left) and j < len(right):\n",
    "        if left[i] < right[j]:\n",
    "            sorted_list.append(left[i])\n",
    "            i += 1\n",
    "        else:\n",
    "            sorted_list.append(right[j])\n",
    "            j += 1\n",
    "    while i < len(left):\n",
    "        sorted_list.append(left[i])\n",
    "        i += 1\n",
    "    while j < len(right):\n",
    "        sorted_list.append(right[j])\n",
    "        j += 1\n",
    " \n",
    "    return sorted_list\n"
   ]
  }
 ],
 "metadata": {
  "kernelspec": {
   "display_name": "Python 3",
   "language": "python",
   "name": "python3"
  },
  "language_info": {
   "codemirror_mode": {
    "name": "ipython",
    "version": 3
   },
   "file_extension": ".py",
   "mimetype": "text/x-python",
   "name": "python",
   "nbconvert_exporter": "python",
   "pygments_lexer": "ipython3",
   "version": "3.13.0"
  }
 },
 "nbformat": 4,
 "nbformat_minor": 2
}
