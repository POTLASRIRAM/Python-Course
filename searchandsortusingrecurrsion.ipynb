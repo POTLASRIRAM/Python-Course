{
 "cells": [
  {
   "cell_type": "code",
   "execution_count": 4,
   "metadata": {},
   "outputs": [
    {
     "name": "stdout",
     "output_type": "stream",
     "text": [
      "True\n"
     ]
    }
   ],
   "source": [
    "## Linear search using recurrsion\n",
    "\n",
    "def linear_search(arr, target):\n",
    "    def sub_search(arr, index):\n",
    "        if index >= len(arr):  \n",
    "            return False\n",
    "        elif arr[index] == target:\n",
    "            return True\n",
    "        return sub_search(arr, index + 1)  \n",
    "\n",
    "    return sub_search(arr, index=0) \n",
    "\n",
    "\n",
    "print(linear_search([1, 2, 3, 4, 5, 6, 7], 1))  \n"
   ]
  },
  {
   "cell_type": "code",
   "execution_count": 18,
   "metadata": {},
   "outputs": [
    {
     "name": "stdout",
     "output_type": "stream",
     "text": [
      "Binary search not possible\n"
     ]
    }
   ],
   "source": [
    "## Binary search using recursion\n",
    "\n",
    "def binary_search(arr, target):\n",
    "    \n",
    "    for i in range(len(arr)-1):\n",
    "        if arr[i]>arr[i+1]:\n",
    "            return \"Binary search not possible\"\n",
    "    def sub_binary_search(start,end):\n",
    "         if start>end:\n",
    "             return False\n",
    "         mid = (start+end)//2\n",
    "         if arr[mid]==target:\n",
    "             return True\n",
    "         elif target<arr[mid]:\n",
    "              end = mid-1\n",
    "         elif target>arr[mid]:\n",
    "             start = mid+1 \n",
    "         \n",
    "         return sub_binary_search(start,end)\n",
    "    return sub_binary_search(start=0,end=len(arr)-1)\n",
    "\n",
    "print(binary_search([1, 2, 3, 4, 5, 6, 7,2], 17))  "
   ]
  },
  {
   "cell_type": "code",
   "execution_count": null,
   "metadata": {},
   "outputs": [],
   "source": []
  }
 ],
 "metadata": {
  "kernelspec": {
   "display_name": "Python 3",
   "language": "python",
   "name": "python3"
  },
  "language_info": {
   "codemirror_mode": {
    "name": "ipython",
    "version": 3
   },
   "file_extension": ".py",
   "mimetype": "text/x-python",
   "name": "python",
   "nbconvert_exporter": "python",
   "pygments_lexer": "ipython3",
   "version": "3.13.0"
  }
 },
 "nbformat": 4,
 "nbformat_minor": 2
}
