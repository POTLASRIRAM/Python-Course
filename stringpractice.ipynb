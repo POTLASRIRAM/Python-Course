{
 "cells": [
  {
   "cell_type": "code",
   "execution_count": 6,
   "metadata": {},
   "outputs": [
    {
     "name": "stdout",
     "output_type": "stream",
     "text": [
      "olleh\n"
     ]
    }
   ],
   "source": [
    "## Reverse a string\n",
    "\n",
    "string = input()\n",
    "\n",
    "def reverse_string(s):\n",
    "    lst = list(s)\n",
    "    reversed_string = [lst[i] for i in range(len(lst)-1,-1,-1)]\n",
    "\n",
    "    return ''.join(reversed_string)\n",
    "\n",
    "\n",
    "\n",
    "result = reverse_string(string)\n",
    "print(result)"
   ]
  },
  {
   "cell_type": "code",
   "execution_count": null,
   "metadata": {},
   "outputs": [
    {
     "name": "stdout",
     "output_type": "stream",
     "text": [
      "4\n"
     ]
    }
   ],
   "source": [
    "## Count Vowels in a string\n",
    "\n",
    "\n",
    "\n",
    "word = input()\n",
    "\n",
    "def count_vowels(s):\n",
    "    vowels = ['a','e','i','o','u']\n",
    "    lst = list(s)\n",
    "    count = 0\n",
    "    for i in range(len(lst)):\n",
    "        if lst[i] in vowels:\n",
    "            count = count+1\n",
    "    return count\n",
    "\n",
    "\n",
    "result = count_vowels(word)\n",
    "print(result)"
   ]
  },
  {
   "cell_type": "code",
   "execution_count": 11,
   "metadata": {},
   "outputs": [
    {
     "name": "stdout",
     "output_type": "stream",
     "text": [
      "False\n"
     ]
    }
   ],
   "source": [
    "## Check for same strings\n",
    "\n",
    "w1 = input()\n",
    "w2 = input()\n",
    "\n",
    "def check_for_strings_equality(w1,w2):\n",
    "    if w1 == w2 :\n",
    "        return True\n",
    "    else:\n",
    "        return False\n",
    "\n",
    "print(check_for_strings_equality(w1,w2))"
   ]
  },
  {
   "cell_type": "code",
   "execution_count": 24,
   "metadata": {},
   "outputs": [
    {
     "name": "stdout",
     "output_type": "stream",
     "text": [
      "['a', 'm', 'a', 'n', 'a', 'p', 'l', 'a', 'n', 'a', 'c', 'a', 'n', 'a', 'l', 'p', 'a', 'n', 'a', 'm', 'a']\n",
      "True\n"
     ]
    }
   ],
   "source": [
    "## Check Palindrome\n",
    "\n",
    "snt  = input()\n",
    "sent = str.lower(snt)\n",
    "def is_palindrome(s):\n",
    "    string = s.replace(\" \",\"\")\n",
    "    lst1 = list(string)\n",
    "    lst2 = [lst1[i] for i in range(len(lst1)-1,-1,-1)]\n",
    "    print(lst1)\n",
    "    if lst1 == lst2 :\n",
    "        return True\n",
    "    else:\n",
    "        return False\n",
    "    \n",
    "\n",
    "\n",
    "\n",
    "print(is_palindrome(sent))"
   ]
  },
  {
   "cell_type": "code",
   "execution_count": null,
   "metadata": {},
   "outputs": [
    {
     "name": "stdout",
     "output_type": "stream",
     "text": [
      "4\n"
     ]
    }
   ],
   "source": [
    "## Detect words in a sentence\n",
    "\n",
    "word = input()\n",
    "\n",
    "def count_words(s):\n",
    "    \n",
    "    lst = list(str.split(s,\" \"))\n",
    "    if len(lst)>0:\n",
    "        return len(lst)\n",
    "    else:\n",
    "        return 0\n",
    "\n",
    "\n",
    "result = count_words(word)\n",
    "print(result)"
   ]
  },
  {
   "cell_type": "code",
   "execution_count": null,
   "metadata": {},
   "outputs": [
    {
     "name": "stdout",
     "output_type": "stream",
     "text": [
      "progamin\n"
     ]
    }
   ],
   "source": [
    "## Remove Duplicates in a string\n",
    "\n",
    "word = input()\n",
    "\n",
    "def remove_duplicates(s):\n",
    "    lst1 = list(s)\n",
    "    lst2 = []\n",
    "    strng = str()\n",
    "    for i in lst1:\n",
    "        if i not in lst2:\n",
    "            lst2.append(i)\n",
    "    for i in lst2:\n",
    "        strng = strng+i\n",
    "    return strng\n",
    "\n",
    "\n",
    "result = remove_duplicates(word)\n",
    "print(result)"
   ]
  },
  {
   "cell_type": "code",
   "execution_count": null,
   "metadata": {},
   "outputs": [
    {
     "name": "stdout",
     "output_type": "stream",
     "text": [
      "['p', 'y', 't', 'h', 'o', 'n', ' ', 'p', 'r', 'o', 'g', 'r', 'a', 'm', 'm', 'i', 'n', 'g']\n",
      "13\n"
     ]
    }
   ],
   "source": [
    "## Count consonants in a string\n",
    "\n",
    "word = input()\n",
    "\n",
    "def count_consonants(s):\n",
    "    consonants = ['b', 'c', 'd', 'f', 'g', 'h', 'j', 'k', 'l', 'm', 'n', 'p', 'q', 'r', 's', 't', 'v', 'w', 'x', 'y', 'z']\n",
    "\n",
    "    lst = list(str.lower(s))\n",
    "    count = 0\n",
    "    for i in range(len(lst)):\n",
    "        if lst[i] in consonants:\n",
    "            count = count+1\n",
    "    return count\n",
    "\n",
    "\n",
    "result = count_consonants(word)\n",
    "print(result)"
   ]
  },
  {
   "cell_type": "code",
   "execution_count": 34,
   "metadata": {},
   "outputs": [
    {
     "name": "stdout",
     "output_type": "stream",
     "text": [
      "True\n"
     ]
    }
   ],
   "source": [
    "## Check for anagrams\n",
    "\n",
    "word = input()\n",
    "t = input()\n",
    "def count_anagram(s,t):\n",
    "    if len(s) == len(t):\n",
    "        stng = str.lower(s)\n",
    "        up_stng = stng.replace(\" \",\"\")\n",
    "        lst = list(up_stng)\n",
    "        stng_t = str.lower(t)\n",
    "        up_t = stng_t.replace(\" \",\"\")\n",
    "        count = 0\n",
    "        for char in up_t:\n",
    "           if char in lst:\n",
    "              count = count+1\n",
    "        if count == len(up_t):\n",
    "           return True\n",
    "        else:\n",
    "           return False\n",
    "    else:\n",
    "       return False\n",
    "    \n",
    "\n",
    "result = count_anagram(word,t)\n",
    "print(result)"
   ]
  },
  {
   "cell_type": "code",
   "execution_count": null,
   "metadata": {},
   "outputs": [
    {
     "name": "stdout",
     "output_type": "stream",
     "text": [
      "False\n"
     ]
    }
   ],
   "source": [
    "## Check for Substring\n",
    "\n",
    "s = input()\n",
    "t = input()\n",
    "def is_substring(s,t):\n",
    "    if s is '' or t is '':\n",
    "        return False\n",
    "    else:\n",
    "      lst = list(str.split(s,\" \"))\n",
    "      if t in lst:\n",
    "        return True\n",
    "      else:\n",
    "        return False\n",
    "\n",
    "result = is_substring(s,t)\n",
    "print(result)"
   ]
  },
  {
   "cell_type": "code",
   "execution_count": 40,
   "metadata": {},
   "outputs": [
    {
     "name": "stdout",
     "output_type": "stream",
     "text": [
      "5\n"
     ]
    }
   ],
   "source": [
    "## Length of the Longest Word\n",
    "\n",
    "s = input()\n",
    "def longest_word_length(s):\n",
    "    if s == '':\n",
    "        return False\n",
    "    else:\n",
    "      lst = list(str.split(s,\" \"))\n",
    "      length = 0\n",
    "      for wd in lst:\n",
    "         if len(wd)>length:\n",
    "            length = len(wd)\n",
    "      return length\n",
    "\n",
    "result = longest_word_length(s)\n",
    "print(result)"
   ]
  },
  {
   "cell_type": "code",
   "execution_count": null,
   "metadata": {},
   "outputs": [],
   "source": []
  }
 ],
 "metadata": {
  "kernelspec": {
   "display_name": "Python 3",
   "language": "python",
   "name": "python3"
  },
  "language_info": {
   "codemirror_mode": {
    "name": "ipython",
    "version": 3
   },
   "file_extension": ".py",
   "mimetype": "text/x-python",
   "name": "python",
   "nbconvert_exporter": "python",
   "pygments_lexer": "ipython3",
   "version": "3.13.0"
  }
 },
 "nbformat": 4,
 "nbformat_minor": 2
}
