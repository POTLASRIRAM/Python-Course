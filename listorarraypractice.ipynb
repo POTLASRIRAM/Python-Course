{
 "cells": [
  {
   "cell_type": "code",
   "execution_count": 3,
   "metadata": {},
   "outputs": [
    {
     "data": {
      "text/plain": [
       "5"
      ]
     },
     "execution_count": 3,
     "metadata": {},
     "output_type": "execute_result"
    }
   ],
   "source": [
    "## Maximum element in a list\n",
    "\n",
    "lst =[1,2,3,4,5]\n",
    "\n",
    "def find_max_element(lst):\n",
    "    return max(lst)\n",
    "\n",
    "\n",
    "find_max_element(lst)"
   ]
  },
  {
   "cell_type": "code",
   "execution_count": 7,
   "metadata": {},
   "outputs": [
    {
     "data": {
      "text/plain": [
       "-9"
      ]
     },
     "execution_count": 7,
     "metadata": {},
     "output_type": "execute_result"
    }
   ],
   "source": [
    "## Sum of elements in a list\n",
    "\n",
    "lst =[1,2,-3,-4,-5]\n",
    "\n",
    "def sum_of_elements(lst):\n",
    "    sum = 0\n",
    "    for i in lst:\n",
    "        sum = sum+i\n",
    "    return sum\n",
    "\n",
    "\n",
    "\n",
    "sum_of_elements(lst)"
   ]
  },
  {
   "cell_type": "code",
   "execution_count": 12,
   "metadata": {},
   "outputs": [
    {
     "data": {
      "text/plain": [
       "True"
      ]
     },
     "execution_count": 12,
     "metadata": {},
     "output_type": "execute_result"
    }
   ],
   "source": [
    "## Palindrome list\n",
    "\n",
    "lst = [1, 2, 3, 2, 1]\n",
    "\n",
    "def is_palindrome(lst):\n",
    "    if lst == lst[::-1]:\n",
    "        return True\n",
    "    else:\n",
    "        return False\n",
    "\n",
    "is_palindrome(lst)"
   ]
  },
  {
   "cell_type": "code",
   "execution_count": 13,
   "metadata": {},
   "outputs": [
    {
     "data": {
      "text/plain": [
       "[5, 4, 3, 2, 1]"
      ]
     },
     "execution_count": 13,
     "metadata": {},
     "output_type": "execute_result"
    }
   ],
   "source": [
    "## reverse a list\n",
    "\n",
    "lst = [1, 2, 3, 4, 5]\n",
    "\n",
    "def reverse_list(lst):\n",
    "\n",
    "    return lst[::-1]\n",
    "\n",
    "\n",
    "reverse_list(lst)"
   ]
  },
  {
   "cell_type": "code",
   "execution_count": 29,
   "metadata": {},
   "outputs": [
    {
     "data": {
      "text/plain": [
       "[40, 50, 10, 20, 30]"
      ]
     },
     "execution_count": 29,
     "metadata": {},
     "output_type": "execute_result"
    }
   ],
   "source": [
    "## Rotate a list\n",
    "\n",
    "ARR = [10, 20, 30, 40, 50]\n",
    "D = 3\n",
    "\n",
    "def rotate_left(ARR, D):\n",
    "    lst = []\n",
    "    s = len(ARR)\n",
    "    for i in range(D,s):\n",
    "        lst.append(ARR[i])\n",
    "    for j in range(D):\n",
    "        lst.append(ARR[j])\n",
    "    return lst\n",
    "\n",
    "\n",
    "rotate_left(ARR, D)"
   ]
  },
  {
   "cell_type": "code",
   "execution_count": 44,
   "metadata": {},
   "outputs": [
    {
     "data": {
      "text/plain": [
       "[1, 2, 4]"
      ]
     },
     "execution_count": 44,
     "metadata": {},
     "output_type": "execute_result"
    }
   ],
   "source": [
    "## Plus one in the Number\n",
    "\n",
    "d = [1,2,3]\n",
    "def plus_one(d):\n",
    "  stng = str()\n",
    "  for i in range(len(d)):\n",
    "     stng = stng+str(d[i])\n",
    "  stng = str(int(stng)+int(1))\n",
    "  return [int(char) for char in stng]\n",
    "  \n",
    "plus_one(d)"
   ]
  },
  {
   "cell_type": "code",
   "execution_count": 46,
   "metadata": {},
   "outputs": [
    {
     "data": {
      "text/plain": [
       "5"
      ]
     },
     "execution_count": 46,
     "metadata": {},
     "output_type": "execute_result"
    }
   ],
   "source": [
    "## Missing number\n",
    "\n",
    "nums = [8, 7, 6, 4, 3, 2, 0, 1]\n",
    "\n",
    "def find_missing_number(nums):\n",
    "    for i in range(0,len(nums)+1):\n",
    "        if i not in nums:\n",
    "            return i\n",
    "        \n",
    "\n",
    "\n",
    "find_missing_number(nums)"
   ]
  },
  {
   "cell_type": "code",
   "execution_count": 6,
   "metadata": {},
   "outputs": [
    {
     "data": {
      "text/plain": [
       "False"
      ]
     },
     "execution_count": 6,
     "metadata": {},
     "output_type": "execute_result"
    }
   ],
   "source": [
    "## Is array sorted?\n",
    "arr = [1, 2, 8, 4, 5]\n",
    "\n",
    "def is_sorted(arr):\n",
    "\n",
    "    for i in range(len(arr)-1):\n",
    "        if arr[i]>arr[i+1]:      \n",
    "            return False\n",
    "    return True\n",
    "\n",
    "\n",
    "is_sorted(arr)"
   ]
  },
  {
   "cell_type": "code",
   "execution_count": 21,
   "metadata": {},
   "outputs": [
    {
     "data": {
      "text/plain": [
       "[4, 2, 4, 3, 5, 1, 0, 0, 0, 0]"
      ]
     },
     "execution_count": 21,
     "metadata": {},
     "output_type": "execute_result"
    }
   ],
   "source": [
    "## Move Zeroes\n",
    "\n",
    "lst = [4, 2, 4, 0, 0, 3, 0, 5, 1, 0]\n",
    "\n",
    "for i in range(len(lst) - 1, -1, -1):\n",
    "    if lst[i] == 0:\n",
    "        lst.pop(i)\n",
    "        lst.append(0)\n",
    "\n",
    "lst"
   ]
  },
  {
   "cell_type": "code",
   "execution_count": 28,
   "metadata": {},
   "outputs": [
    {
     "data": {
      "text/plain": [
       "[3]"
      ]
     },
     "execution_count": 28,
     "metadata": {},
     "output_type": "execute_result"
    }
   ],
   "source": [
    "## Intersection of two sets\n",
    "\n",
    "nums1 = [1, 2, 3]\n",
    "nums2 = [4,3, 5, 6]\n",
    "\n",
    "def intersection(nums1, nums2):\n",
    "    s1 = set(nums1)\n",
    "    s2 = set(nums2)\n",
    "    return list(s1.intersection(s2))\n",
    "    ##print(lst)\n",
    "intersection(nums1,nums2)"
   ]
  },
  {
   "cell_type": "code",
   "execution_count": 45,
   "metadata": {},
   "outputs": [
    {
     "data": {
      "text/plain": [
       "2"
      ]
     },
     "execution_count": 45,
     "metadata": {},
     "output_type": "execute_result"
    }
   ],
   "source": [
    "## Max consecutive ones\n",
    "\n",
    "lst = [1,0,1,1,0,1]\n",
    "\n",
    "def find_max_consecutive_ones(lst):\n",
    "    max_ones_count = 0\n",
    "    count = 0\n",
    "    for i in range(len(lst)):\n",
    "        if lst[i] == 1:\n",
    "            count = count+1\n",
    "        else:\n",
    "            count = 0\n",
    "            continue\n",
    "        if max_ones_count < count :\n",
    "            max_ones_count = count\n",
    "            \n",
    "    return max_ones_count\n",
    "\n",
    "find_max_consecutive_ones(lst)"
   ]
  },
  {
   "cell_type": "code",
   "execution_count": null,
   "metadata": {},
   "outputs": [],
   "source": [
    "## Maximum subarray sum\n",
    "\n",
    "arr = [-2, 1, -3, 4, -1, 2, 1, -5, 4]\n",
    "\n"
   ]
  }
 ],
 "metadata": {
  "kernelspec": {
   "display_name": "Python 3",
   "language": "python",
   "name": "python3"
  },
  "language_info": {
   "codemirror_mode": {
    "name": "ipython",
    "version": 3
   },
   "file_extension": ".py",
   "mimetype": "text/x-python",
   "name": "python",
   "nbconvert_exporter": "python",
   "pygments_lexer": "ipython3",
   "version": "3.13.0"
  }
 },
 "nbformat": 4,
 "nbformat_minor": 2
}
