{
 "cells": [
  {
   "cell_type": "code",
   "execution_count": 1,
   "metadata": {},
   "outputs": [
    {
     "name": "stdout",
     "output_type": "stream",
     "text": [
      "['mike', 'is', 'a', 'bad', 'boy', 'not', 'a', 'good', 'boy']\n"
     ]
    }
   ],
   "source": [
    "word  = \" mike is a bad boy not a good boy\"\n",
    "lst = word.split()\n",
    "print(lst)"
   ]
  },
  {
   "cell_type": "code",
   "execution_count": 2,
   "metadata": {},
   "outputs": [
    {
     "name": "stdout",
     "output_type": "stream",
     "text": [
      "{'mike', 'is', 'a', 'good', 'boy', 'not', 'bad'}\n"
     ]
    }
   ],
   "source": [
    "word_set = set(lst)\n",
    "print(word_set)"
   ]
  },
  {
   "cell_type": "code",
   "execution_count": 5,
   "metadata": {},
   "outputs": [
    {
     "name": "stdout",
     "output_type": "stream",
     "text": [
      "['m', 'i', 'k', 'e']\n"
     ]
    }
   ],
   "source": [
    "word  = \"mike\"\n",
    "lst = []\n",
    "for i in word :\n",
    "    lst.append(i)\n",
    "\n",
    "print(lst)"
   ]
  },
  {
   "cell_type": "code",
   "execution_count": 9,
   "metadata": {},
   "outputs": [
    {
     "name": "stdout",
     "output_type": "stream",
     "text": [
      "{'i', 'e', 'm', 'k'}\n"
     ]
    }
   ],
   "source": [
    "word  = \"mikee\"\n",
    "sett = set()\n",
    "for i in word :\n",
    "    sett.add(i)\n",
    "\n",
    "print(sett)"
   ]
  },
  {
   "cell_type": "code",
   "execution_count": 10,
   "metadata": {},
   "outputs": [
    {
     "name": "stdout",
     "output_type": "stream",
     "text": [
      "['mikee', 'is', 'a', 'good', 'robot']\n"
     ]
    }
   ],
   "source": [
    "word  = \"mikee is a good robot\"\n",
    "sett = word.split()\n",
    "print(sett)"
   ]
  },
  {
   "cell_type": "code",
   "execution_count": 24,
   "metadata": {},
   "outputs": [
    {
     "name": "stdout",
     "output_type": "stream",
     "text": [
      "Unique words count :  8\n"
     ]
    }
   ],
   "source": [
    "## Counting unique words in a sentence\n",
    "words  = str(input(\"Enter text\"))\n",
    "word_set = set(words.split())\n",
    "count = 0\n",
    "for i in word_set :\n",
    "    count = count+1\n",
    "print(\"Unique words count : \",count)"
   ]
  },
  {
   "cell_type": "code",
   "execution_count": null,
   "metadata": {},
   "outputs": [],
   "source": []
  }
 ],
 "metadata": {
  "kernelspec": {
   "display_name": "Python 3",
   "language": "python",
   "name": "python3"
  },
  "language_info": {
   "codemirror_mode": {
    "name": "ipython",
    "version": 3
   },
   "file_extension": ".py",
   "mimetype": "text/x-python",
   "name": "python",
   "nbconvert_exporter": "python",
   "pygments_lexer": "ipython3",
   "version": "3.13.0"
  }
 },
 "nbformat": 4,
 "nbformat_minor": 2
}
