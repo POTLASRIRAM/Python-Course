{
 "cells": [
  {
   "cell_type": "code",
   "execution_count": 19,
   "metadata": {},
   "outputs": [
    {
     "name": "stdout",
     "output_type": "stream",
     "text": [
      "['a', 'b', 'a', 'b', 'a', 'a', 'a']\n",
      "R lst : ['a', 'a', 'a', 'b', 'a', 'b', 'a']\n",
      "rev lst :  ['a', 'a', 'a', 'b', 'a', 'b', 'a']\n"
     ]
    }
   ],
   "source": [
    "## Palindrome with recursion\n",
    "def reversed_string(s):\n",
    "    rlst = []\n",
    "    for i in range(len(s)-1,-1,-1):\n",
    "        rlst.append(s[i])\n",
    "    print(\"R lst :\",rlst)\n",
    "    return rlst\n",
    "\n",
    "def is_palindrome(s):\n",
    "    lst = [c for c in s]\n",
    "    print(lst)\n",
    "    rev_lst = reversed_string(s)\n",
    "    print(\"rev lst : \",rev_lst)\n",
    "    i=0\n",
    "    def sub_palindrome(lst,k):\n",
    "        pass\n",
    "        ##return sub_palindrome(lst,k-1)\n",
    "\n",
    "    return sub_palindrome(lst,k=-1)\n",
    "\n",
    "is_palindrome(\"ababa\")"
   ]
  },
  {
   "cell_type": "code",
   "execution_count": 7,
   "metadata": {},
   "outputs": [
    {
     "name": "stdout",
     "output_type": "stream",
     "text": [
      "-2\n"
     ]
    }
   ],
   "source": [
    "def is_palindrome(s):\n",
    "    lst = [c for c in s]\n",
    "    print(lst)\n",
    "\n",
    "    reversed_lst = []\n",
    "    def sub_palindrome(lst,k):\n",
    "        \n",
    "        \n",
    "        reversed_lst.append(lst[k])\n",
    "        print(\"k = \",k,reversed_lst)\n",
    "        return sub_palindrome(lst,k-1)\n",
    "\n",
    "    return sub_palindrome(lst,k=-1)\n",
    "\n",
    "is_palindrome(\"ababa\")"
   ]
  },
  {
   "cell_type": "code",
   "execution_count": 8,
   "metadata": {},
   "outputs": [
    {
     "name": "stdout",
     "output_type": "stream",
     "text": [
      "-3\n"
     ]
    }
   ],
   "source": [
    "i=i-1\n",
    "print(i)"
   ]
  },
  {
   "cell_type": "code",
   "execution_count": null,
   "metadata": {},
   "outputs": [],
   "source": []
  }
 ],
 "metadata": {
  "kernelspec": {
   "display_name": "Python 3",
   "language": "python",
   "name": "python3"
  },
  "language_info": {
   "codemirror_mode": {
    "name": "ipython",
    "version": 3
   },
   "file_extension": ".py",
   "mimetype": "text/x-python",
   "name": "python",
   "nbconvert_exporter": "python",
   "pygments_lexer": "ipython3",
   "version": "3.13.0"
  }
 },
 "nbformat": 4,
 "nbformat_minor": 2
}
