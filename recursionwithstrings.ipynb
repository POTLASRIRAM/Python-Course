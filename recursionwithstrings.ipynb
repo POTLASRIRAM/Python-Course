{
 "cells": [
  {
   "cell_type": "code",
   "execution_count": 31,
   "metadata": {},
   "outputs": [
    {
     "name": "stdout",
     "output_type": "stream",
     "text": [
      "True\n"
     ]
    }
   ],
   "source": [
    "## Palindrome with recursion\n",
    "def reversed_string(s):\n",
    "    rlst = []\n",
    "    for i in range(len(s)-1,-1,-1):\n",
    "        rlst.append(s[i])\n",
    "    return rlst\n",
    "\n",
    "def is_palindrome(s):\n",
    "    lst = [c for c in s]\n",
    "    rev_lst = reversed_string(s)\n",
    "    def sub_palindrome(lst,k):\n",
    "        if k >= len(lst): \n",
    "            return True\n",
    "        if lst[k] != rev_lst[k]:\n",
    "            return False\n",
    "        \n",
    "        return sub_palindrome(lst,k+1)\n",
    "\n",
    "    return sub_palindrome(lst,k=0)\n",
    "\n",
    "print(is_palindrome(\"racecar\"))"
   ]
  },
  {
   "cell_type": "code",
   "execution_count": 11,
   "metadata": {},
   "outputs": [
    {
     "ename": "TypeError",
     "evalue": "can only concatenate str (not \"list\") to str",
     "output_type": "error",
     "traceback": [
      "\u001b[1;31m---------------------------------------------------------------------------\u001b[0m",
      "\u001b[1;31mTypeError\u001b[0m                                 Traceback (most recent call last)",
      "Cell \u001b[1;32mIn[11], line 17\u001b[0m\n\u001b[0;32m     14\u001b[0m     \u001b[38;5;28;01mreturn\u001b[39;00m myLst\n\u001b[0;32m     16\u001b[0m s\u001b[38;5;241m=\u001b[39m\u001b[38;5;124m\"\u001b[39m\u001b[38;5;124mabcd\u001b[39m\u001b[38;5;124m\"\u001b[39m\n\u001b[1;32m---> 17\u001b[0m l1\u001b[38;5;241m=\u001b[39m\u001b[43msubsequences\u001b[49m\u001b[43m(\u001b[49m\u001b[43ms\u001b[49m\u001b[43m)\u001b[49m\n\u001b[0;32m     18\u001b[0m \u001b[38;5;28mprint\u001b[39m(l1)\n",
      "Cell \u001b[1;32mIn[11], line 7\u001b[0m, in \u001b[0;36msubsequences\u001b[1;34m(s)\u001b[0m\n\u001b[0;32m      5\u001b[0m     myLst \u001b[38;5;241m=\u001b[39m [\u001b[38;5;124m'\u001b[39m\u001b[38;5;124m'\u001b[39m]\n\u001b[0;32m      6\u001b[0m     \u001b[38;5;28;01mreturn\u001b[39;00m myLst\n\u001b[1;32m----> 7\u001b[0m smallAns \u001b[38;5;241m=\u001b[39m \u001b[43msubsequences\u001b[49m\u001b[43m(\u001b[49m\u001b[43ms\u001b[49m\u001b[43m[\u001b[49m\u001b[38;5;241;43m1\u001b[39;49m\u001b[43m:\u001b[49m\u001b[43m]\u001b[49m\u001b[43m)\u001b[49m\n\u001b[0;32m      8\u001b[0m ans \u001b[38;5;241m=\u001b[39m s[\u001b[38;5;241m0\u001b[39m]\n\u001b[0;32m      9\u001b[0m myLst \u001b[38;5;241m=\u001b[39m []\n",
      "Cell \u001b[1;32mIn[11], line 7\u001b[0m, in \u001b[0;36msubsequences\u001b[1;34m(s)\u001b[0m\n\u001b[0;32m      5\u001b[0m     myLst \u001b[38;5;241m=\u001b[39m [\u001b[38;5;124m'\u001b[39m\u001b[38;5;124m'\u001b[39m]\n\u001b[0;32m      6\u001b[0m     \u001b[38;5;28;01mreturn\u001b[39;00m myLst\n\u001b[1;32m----> 7\u001b[0m smallAns \u001b[38;5;241m=\u001b[39m \u001b[43msubsequences\u001b[49m\u001b[43m(\u001b[49m\u001b[43ms\u001b[49m\u001b[43m[\u001b[49m\u001b[38;5;241;43m1\u001b[39;49m\u001b[43m:\u001b[49m\u001b[43m]\u001b[49m\u001b[43m)\u001b[49m\n\u001b[0;32m      8\u001b[0m ans \u001b[38;5;241m=\u001b[39m s[\u001b[38;5;241m0\u001b[39m]\n\u001b[0;32m      9\u001b[0m myLst \u001b[38;5;241m=\u001b[39m []\n",
      "Cell \u001b[1;32mIn[11], line 7\u001b[0m, in \u001b[0;36msubsequences\u001b[1;34m(s)\u001b[0m\n\u001b[0;32m      5\u001b[0m     myLst \u001b[38;5;241m=\u001b[39m [\u001b[38;5;124m'\u001b[39m\u001b[38;5;124m'\u001b[39m]\n\u001b[0;32m      6\u001b[0m     \u001b[38;5;28;01mreturn\u001b[39;00m myLst\n\u001b[1;32m----> 7\u001b[0m smallAns \u001b[38;5;241m=\u001b[39m \u001b[43msubsequences\u001b[49m\u001b[43m(\u001b[49m\u001b[43ms\u001b[49m\u001b[43m[\u001b[49m\u001b[38;5;241;43m1\u001b[39;49m\u001b[43m:\u001b[49m\u001b[43m]\u001b[49m\u001b[43m)\u001b[49m\n\u001b[0;32m      8\u001b[0m ans \u001b[38;5;241m=\u001b[39m s[\u001b[38;5;241m0\u001b[39m]\n\u001b[0;32m      9\u001b[0m myLst \u001b[38;5;241m=\u001b[39m []\n",
      "Cell \u001b[1;32mIn[11], line 12\u001b[0m, in \u001b[0;36msubsequences\u001b[1;34m(s)\u001b[0m\n\u001b[0;32m     10\u001b[0m myLst\u001b[38;5;241m.\u001b[39mextend(smallAns)\n\u001b[0;32m     11\u001b[0m \u001b[38;5;28;01mfor\u001b[39;00m i \u001b[38;5;129;01min\u001b[39;00m smallAns:\n\u001b[1;32m---> 12\u001b[0m     myLst\u001b[38;5;241m.\u001b[39mappend(\u001b[43mans\u001b[49m\u001b[38;5;241;43m+\u001b[39;49m\u001b[43msmallAns\u001b[49m)\n\u001b[0;32m     14\u001b[0m \u001b[38;5;28;01mreturn\u001b[39;00m myLst\n",
      "\u001b[1;31mTypeError\u001b[0m: can only concatenate str (not \"list\") to str"
     ]
    }
   ],
   "source": [
    "## Subsequences of a string using recursion\n",
    "\n",
    "def subsequences(s):\n",
    "    if s=='':\n",
    "        myLst = ['']\n",
    "        return myLst\n",
    "    smallAns = subsequences(s[1:])\n",
    "    ans = s[0]\n",
    "    myLst = []\n",
    "    myLst.extend(smallAns)\n",
    "    for i in smallAns:\n",
    "        myLst.append(ans+smallAns)\n",
    "\n",
    "    return myLst\n",
    "\n",
    "s=\"abcd\"\n",
    "l1=subsequences(s)\n",
    "print(l1)"
   ]
  },
  {
   "cell_type": "code",
   "execution_count": 8,
   "metadata": {},
   "outputs": [
    {
     "name": "stdout",
     "output_type": "stream",
     "text": [
      "-3\n"
     ]
    }
   ],
   "source": []
  },
  {
   "cell_type": "code",
   "execution_count": null,
   "metadata": {},
   "outputs": [],
   "source": []
  }
 ],
 "metadata": {
  "kernelspec": {
   "display_name": "Python 3",
   "language": "python",
   "name": "python3"
  },
  "language_info": {
   "codemirror_mode": {
    "name": "ipython",
    "version": 3
   },
   "file_extension": ".py",
   "mimetype": "text/x-python",
   "name": "python",
   "nbconvert_exporter": "python",
   "pygments_lexer": "ipython3",
   "version": "3.13.0"
  }
 },
 "nbformat": 4,
 "nbformat_minor": 2
}
