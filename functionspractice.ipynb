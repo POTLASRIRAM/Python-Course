{
 "cells": [
  {
   "cell_type": "code",
   "execution_count": 1,
   "metadata": {},
   "outputs": [
    {
     "name": "stdout",
     "output_type": "stream",
     "text": [
      "120.0\n"
     ]
    }
   ],
   "source": [
    "## Distance Covered by a vehicle\n",
    "\n",
    "s = float(input())\n",
    "t = float(input())\n",
    "\n",
    "def distance_covered(speed, time):\n",
    "    \n",
    "    distance = float(speed * time)\n",
    "    \n",
    "    return distance\n",
    "\n",
    "result = distance_covered(s,t)\n",
    "print(result)\n"
   ]
  },
  {
   "cell_type": "code",
   "execution_count": null,
   "metadata": {},
   "outputs": [],
   "source": [
    "## Area of Rectangle\n",
    "\n",
    "l = float(input())\n",
    "b = float(input())\n",
    "\n",
    "def area_of_rectangle(length, breadth):\n",
    "    \n",
    "    area = float(length * breadth)\n",
    "    \n",
    "    return area\n",
    "\n",
    "result = area_of_rectangle(l,b)\n",
    "print(result)\n"
   ]
  }
 ],
 "metadata": {
  "kernelspec": {
   "display_name": "Python 3",
   "language": "python",
   "name": "python3"
  },
  "language_info": {
   "codemirror_mode": {
    "name": "ipython",
    "version": 3
   },
   "file_extension": ".py",
   "mimetype": "text/x-python",
   "name": "python",
   "nbconvert_exporter": "python",
   "pygments_lexer": "ipython3",
   "version": "3.13.0"
  }
 },
 "nbformat": 4,
 "nbformat_minor": 2
}
