{
 "cells": [
  {
   "cell_type": "code",
   "execution_count": 1,
   "metadata": {},
   "outputs": [
    {
     "name": "stdout",
     "output_type": "stream",
     "text": [
      "120.0\n"
     ]
    }
   ],
   "source": [
    "## Distance Covered by a vehicle\n",
    "\n",
    "s = float(input())\n",
    "t = float(input())\n",
    "\n",
    "def distance_covered(speed, time):\n",
    "    \n",
    "    distance = float(speed * time)\n",
    "    \n",
    "    return distance\n",
    "\n",
    "result = distance_covered(s,t)\n",
    "print(result)\n"
   ]
  },
  {
   "cell_type": "code",
   "execution_count": 1,
   "metadata": {},
   "outputs": [
    {
     "name": "stdout",
     "output_type": "stream",
     "text": [
      "4.0\n"
     ]
    }
   ],
   "source": [
    "## Area of Rectangle\n",
    "\n",
    "l = float(input())\n",
    "b = float(input())\n",
    "\n",
    "def area_of_rectangle(length, breadth):\n",
    "    \n",
    "    area = float(length * breadth)\n",
    "    \n",
    "    return area\n",
    "\n",
    "result = area_of_rectangle(l,b)\n",
    "print(result)\n"
   ]
  },
  {
   "cell_type": "code",
   "execution_count": 6,
   "metadata": {},
   "outputs": [
    {
     "name": "stdout",
     "output_type": "stream",
     "text": [
      "2\n"
     ]
    }
   ],
   "source": [
    "## Number of Rounds of lift\n",
    "\n",
    "n = int(input()) ##10\n",
    "c = int(input()) ##3\n",
    "\n",
    "def no_of_rounds(n,c): ##10 3\n",
    "    no = n\n",
    "    capacity = c\n",
    "    count = 0\n",
    "\n",
    "    while(no>capacity):   ## 10>3\n",
    "        if no>capacity :    ## true\n",
    "          no = no-capacity  ## 10-3 7\n",
    "          count = count + 1 ## 1\n",
    "        if no<capacity:\n",
    "          count = count+1\n",
    "\n",
    "    return count    \n",
    "\n",
    "\n",
    "result = no_of_rounds(n,c)\n",
    "\n",
    "print(result)"
   ]
  },
  {
   "cell_type": "code",
   "execution_count": null,
   "metadata": {},
   "outputs": [],
   "source": []
  }
 ],
 "metadata": {
  "kernelspec": {
   "display_name": "Python 3",
   "language": "python",
   "name": "python3"
  },
  "language_info": {
   "codemirror_mode": {
    "name": "ipython",
    "version": 3
   },
   "file_extension": ".py",
   "mimetype": "text/x-python",
   "name": "python",
   "nbconvert_exporter": "python",
   "pygments_lexer": "ipython3",
   "version": "3.13.0"
  }
 },
 "nbformat": 4,
 "nbformat_minor": 2
}
