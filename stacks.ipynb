{
 "cells": [
  {
   "cell_type": "code",
   "execution_count": 4,
   "metadata": {},
   "outputs": [
    {
     "name": "stdout",
     "output_type": "stream",
     "text": [
      "Stack size is zero\n",
      "Size =  3\n",
      "Stack length =  2\n"
     ]
    }
   ],
   "source": [
    "class Stack:\n",
    "    def __init__(self):\n",
    "        self.__stack = []\n",
    "    def stack_size(self):\n",
    "        if len(self.__stack)>0:\n",
    "            print(\"Size = \",len(self.__stack))\n",
    "        else:\n",
    "            print(\"Stack size is zero\")\n",
    "    def stack_push(self,data):\n",
    "        self.__stack.append(data)\n",
    "    def stack_pop(self):\n",
    "        if len(self.__stack)>0:\n",
    "            self.__stack.pop(-1)\n",
    "        else:\n",
    "            print(\"Stack pop is not possible\")\n",
    "    def stack_empt(self):\n",
    "        if len(self.__stack)==0:\n",
    "            print(\"Stack is empty\")\n",
    "        else:\n",
    "            print(\"Stack length = \",len(self.__stack))\n",
    "s=Stack()\n",
    "s.stack_size()\n",
    "s.stack_push(10)\n",
    "s.stack_push(20)\n",
    "s.stack_push(300)\n",
    "s.stack_size()\n",
    "s.stack_pop()\n",
    "s.stack_empt()\n",
    "\n"
   ]
  },
  {
   "cell_type": "code",
   "execution_count": null,
   "metadata": {},
   "outputs": [],
   "source": []
  }
 ],
 "metadata": {
  "kernelspec": {
   "display_name": "Python 3",
   "language": "python",
   "name": "python3"
  },
  "language_info": {
   "codemirror_mode": {
    "name": "ipython",
    "version": 3
   },
   "file_extension": ".py",
   "mimetype": "text/x-python",
   "name": "python",
   "nbconvert_exporter": "python",
   "pygments_lexer": "ipython3",
   "version": "3.13.0"
  }
 },
 "nbformat": 4,
 "nbformat_minor": 2
}
