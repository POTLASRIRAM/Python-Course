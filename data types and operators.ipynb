{
 "cells": [
  {
   "cell_type": "code",
   "execution_count": 3,
   "metadata": {},
   "outputs": [
    {
     "name": "stdout",
     "output_type": "stream",
     "text": [
      "<class 'int'>\n"
     ]
    }
   ],
   "source": [
    "## Integer\n",
    "a=10\n",
    "print(type(a))"
   ]
  },
  {
   "cell_type": "code",
   "execution_count": 4,
   "metadata": {},
   "outputs": [
    {
     "name": "stdout",
     "output_type": "stream",
     "text": [
      "<class 'float'>\n"
     ]
    }
   ],
   "source": [
    "## Float\n",
    "b=10.0\n",
    "print(type(b))"
   ]
  },
  {
   "cell_type": "code",
   "execution_count": 5,
   "metadata": {},
   "outputs": [
    {
     "name": "stdout",
     "output_type": "stream",
     "text": [
      "<class 'str'>\n",
      "<class 'str'>\n"
     ]
    }
   ],
   "source": [
    "## String\n",
    "c = 'Sam'\n",
    "d = '10'\n",
    "print(type(c))\n",
    "print(type(d))"
   ]
  },
  {
   "cell_type": "code",
   "execution_count": 6,
   "metadata": {},
   "outputs": [
    {
     "name": "stdout",
     "output_type": "stream",
     "text": [
      "<class 'bool'>\n"
     ]
    }
   ],
   "source": [
    "## boolean\n",
    "e = True\n",
    "print(type(e))"
   ]
  },
  {
   "cell_type": "code",
   "execution_count": 7,
   "metadata": {},
   "outputs": [
    {
     "name": "stdout",
     "output_type": "stream",
     "text": [
      "Addition :  4\n",
      "Substraction :  0\n",
      "Multiplication :  4\n",
      "Modulus :  1.0\n",
      "Floor Modulus :  1\n",
      "Division :  0\n",
      "Exponentiation : 4\n"
     ]
    }
   ],
   "source": [
    "## Arithmetic operator\n",
    "f = 2\n",
    "g = 2\n",
    "\n",
    "print(\"Addition : \",f+g) ## Addition\n",
    "print(\"Substraction : \",f-g) ## Sub\n",
    "print(\"Multiplication : \",f*g) ## Multiplication\n",
    "print(\"Modulus : \",f/g) ## Modulus\n",
    "print('Floor Modulus : ',f//g) ## Floor modulus\n",
    "print('Division : ',f%g) ## Division\n",
    "print('Exponentiation :',f**g) ## Exponents"
   ]
  },
  {
   "cell_type": "code",
   "execution_count": 8,
   "metadata": {},
   "outputs": [
    {
     "name": "stdout",
     "output_type": "stream",
     "text": [
      "False\n",
      "True\n",
      "False\n",
      "True\n",
      "False\n"
     ]
    }
   ],
   "source": [
    "## Comparison operator\n",
    "h = 10\n",
    "i = 11\n",
    "print(h>i) ## Greater than\n",
    "print(h<i) ## Less than\n",
    "print(h>=i) ## Greater than or equal to\n",
    "print(h<=i) ## Less than or equal to\n",
    "print(h==i) ## equals to"
   ]
  },
  {
   "cell_type": "code",
   "execution_count": 12,
   "metadata": {},
   "outputs": [
    {
     "name": "stdout",
     "output_type": "stream",
     "text": [
      "Logical And :  False\n",
      "Logical Or : True\n",
      "Logical Not : True\n",
      "Logical Not : False\n"
     ]
    }
   ],
   "source": [
    "## Logical operator\n",
    "j = True\n",
    "k = False\n",
    "print(\"Logical And : \",j and k)\n",
    "print(\"Logical Or :\",j or k)\n",
    "print(\"Logical Not :\", not k)\n",
    "print(\"Logical Not :\",  not j)"
   ]
  },
  {
   "cell_type": "code",
   "execution_count": null,
   "metadata": {},
   "outputs": [],
   "source": []
  }
 ],
 "metadata": {
  "kernelspec": {
   "display_name": "Python 3",
   "language": "python",
   "name": "python3"
  },
  "language_info": {
   "codemirror_mode": {
    "name": "ipython",
    "version": 3
   },
   "file_extension": ".py",
   "mimetype": "text/x-python",
   "name": "python",
   "nbconvert_exporter": "python",
   "pygments_lexer": "ipython3",
   "version": "3.13.0"
  }
 },
 "nbformat": 4,
 "nbformat_minor": 2
}
