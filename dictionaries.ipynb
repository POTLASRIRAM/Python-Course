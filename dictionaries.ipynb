{
 "cells": [
  {
   "cell_type": "code",
   "execution_count": 1,
   "metadata": {},
   "outputs": [
    {
     "name": "stdout",
     "output_type": "stream",
     "text": [
      "[1, 2, 9, 4, 4, 5, 6, 7, 2, 4]\n"
     ]
    }
   ],
   "source": [
    "## Counting the frequencies of elements in list using dictionaires\n",
    "lst = [1,2,3,4,4,5,6,7,2,4]\n",
    "lst[2]=9\n",
    "print(lst)"
   ]
  },
  {
   "cell_type": "code",
   "execution_count": 3,
   "metadata": {},
   "outputs": [
    {
     "name": "stdout",
     "output_type": "stream",
     "text": [
      "{1: 1, 2: 2, 9: 1, 4: 3, 5: 1, 6: 1, 7: 1}\n"
     ]
    }
   ],
   "source": [
    "dictionary = {}\n",
    "for i in lst :\n",
    "    if i in dictionary :\n",
    "        dictionary[i]+= 1\n",
    "    else :\n",
    "        dictionary[i] = 1\n",
    "print(dictionary)\n"
   ]
  },
  {
   "cell_type": "code",
   "execution_count": null,
   "metadata": {},
   "outputs": [],
   "source": []
  }
 ],
 "metadata": {
  "kernelspec": {
   "display_name": "Python 3",
   "language": "python",
   "name": "python3"
  },
  "language_info": {
   "codemirror_mode": {
    "name": "ipython",
    "version": 3
   },
   "file_extension": ".py",
   "mimetype": "text/x-python",
   "name": "python",
   "nbconvert_exporter": "python",
   "pygments_lexer": "ipython3",
   "version": "3.13.0"
  }
 },
 "nbformat": 4,
 "nbformat_minor": 2
}
