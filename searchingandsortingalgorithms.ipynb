{
 "cells": [
  {
   "cell_type": "code",
   "execution_count": null,
   "metadata": {},
   "outputs": [
    {
     "name": "stdout",
     "output_type": "stream",
     "text": [
      "0 3\n",
      "1 7\n",
      "2 2\n",
      "2\n"
     ]
    }
   ],
   "source": [
    "## Linear search\n",
    "import array as ar\n",
    "\n",
    "n1 = int(input(\"Enter list 1 size\"))\n",
    "arr = ar.array('i',[])\n",
    "for i in range(n1):\n",
    "    arr.append(int(input()))\n",
    "k = int(input(\"Enter target value : \"))\n",
    "\n",
    "def linear_search(arr, k):\n",
    "    for i in range(len(arr)):\n",
    "        if arr[i] == k:\n",
    "            return i\n",
    "    return -1\n",
    "     \n",
    "result = linear_search(arr, k)\n",
    "print(result)"
   ]
  },
  {
   "cell_type": "code",
   "execution_count": null,
   "metadata": {},
   "outputs": [],
   "source": []
  }
 ],
 "metadata": {
  "kernelspec": {
   "display_name": "Python 3",
   "language": "python",
   "name": "python3"
  },
  "language_info": {
   "codemirror_mode": {
    "name": "ipython",
    "version": 3
   },
   "file_extension": ".py",
   "mimetype": "text/x-python",
   "name": "python",
   "nbconvert_exporter": "python",
   "pygments_lexer": "ipython3",
   "version": "3.13.0"
  }
 },
 "nbformat": 4,
 "nbformat_minor": 2
}
