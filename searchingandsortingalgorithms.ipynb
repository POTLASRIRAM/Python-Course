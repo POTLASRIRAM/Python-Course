{
 "cells": [
  {
   "cell_type": "code",
   "execution_count": null,
   "metadata": {},
   "outputs": [
    {
     "name": "stdout",
     "output_type": "stream",
     "text": [
      "0 3\n",
      "1 7\n",
      "2 2\n",
      "2\n"
     ]
    }
   ],
   "source": [
    "## Linear search\n",
    "import array as ar\n",
    "\n",
    "n1 = int(input(\"Enter list 1 size\"))\n",
    "arr = ar.array('i',[])\n",
    "for i in range(n1):\n",
    "    arr.append(int(input()))\n",
    "k = int(input(\"Enter target value : \"))\n",
    "\n",
    "def linear_search(arr, k):\n",
    "    for i in range(len(arr)):\n",
    "        if arr[i] == k:\n",
    "            return i\n",
    "    return -1\n",
    "     \n",
    "result = linear_search(arr, k)\n",
    "print(result)"
   ]
  },
  {
   "cell_type": "code",
   "execution_count": 3,
   "metadata": {},
   "outputs": [
    {
     "name": "stdout",
     "output_type": "stream",
     "text": [
      "[1, 2, 3, 4, 5]\n",
      "1\n",
      "0\n"
     ]
    }
   ],
   "source": [
    "## Binary Search algorithm\n",
    "\n",
    "size = int(input())\n",
    "lst = []\n",
    "for i in range(size):\n",
    "    lst.append(int(input()))\n",
    "tar = int(input(\"Enter the target :\"))\n",
    "print(lst)\n",
    "print(tar)\n",
    "def binary_search(lst,tar):\n",
    "\n",
    "    start = 0\n",
    "    end = size - 1\n",
    "    while(start<=end):\n",
    "        mid = (start+end)//2\n",
    "\n",
    "        if lst[mid] == tar:\n",
    "            return mid\n",
    "        elif lst[mid]>tar :\n",
    "            end = mid - 1\n",
    "        elif lst[mid]<tar :\n",
    "            start = mid+1\n",
    "    return -1\n",
    "\n",
    "\n",
    "result = binary_search(lst,tar)\n",
    "print(result)\n"
   ]
  },
  {
   "cell_type": "code",
   "execution_count": null,
   "metadata": {},
   "outputs": [],
   "source": []
  }
 ],
 "metadata": {
  "kernelspec": {
   "display_name": "Python 3",
   "language": "python",
   "name": "python3"
  },
  "language_info": {
   "codemirror_mode": {
    "name": "ipython",
    "version": 3
   },
   "file_extension": ".py",
   "mimetype": "text/x-python",
   "name": "python",
   "nbconvert_exporter": "python",
   "pygments_lexer": "ipython3",
   "version": "3.13.0"
  }
 },
 "nbformat": 4,
 "nbformat_minor": 2
}
