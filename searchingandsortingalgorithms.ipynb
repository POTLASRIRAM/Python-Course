{
 "cells": [
  {
   "cell_type": "code",
   "execution_count": null,
   "metadata": {},
   "outputs": [
    {
     "name": "stdout",
     "output_type": "stream",
     "text": [
      "0 3\n",
      "1 7\n",
      "2 2\n",
      "2\n"
     ]
    }
   ],
   "source": [
    "## Linear search\n",
    "import array as ar\n",
    "\n",
    "n1 = int(input(\"Enter list 1 size\"))\n",
    "arr = ar.array('i',[])\n",
    "for i in range(n1):\n",
    "    arr.append(int(input()))\n",
    "k = int(input(\"Enter target value : \"))\n",
    "\n",
    "def linear_search(arr, k):\n",
    "    for i in range(len(arr)):\n",
    "        if arr[i] == k:\n",
    "            return i\n",
    "    return -1\n",
    "     \n",
    "result = linear_search(arr, k)\n",
    "print(result)"
   ]
  },
  {
   "cell_type": "code",
   "execution_count": null,
   "metadata": {},
   "outputs": [],
   "source": [
    "## Binary Search algorithm\n",
    "\n",
    "size = int(input())\n",
    "lst = []\n",
    "for i in range(size):\n",
    "    lst.append(int(input()))\n",
    "tar = int(input(\"Enter the target :\"))\n",
    "print(lst)\n",
    "print(tar)\n",
    "def binary_search(lst,tar):\n",
    "\n",
    "    start = 0\n",
    "    end = size - 1\n",
    "    while(start<=end):\n",
    "        mid = (start+end)//2\n",
    "\n",
    "        if lst[mid] == tar:\n",
    "            return mid\n",
    "        elif lst[mid]>tar :\n",
    "            end = mid - 1\n",
    "        elif lst[mid]<tar :\n",
    "            start = mid+1\n",
    "    return -1\n",
    "\n",
    "\n",
    "result = binary_search(lst,tar)\n",
    "print(result)\n"
   ]
  },
  {
   "cell_type": "code",
   "execution_count": null,
   "metadata": {},
   "outputs": [
    {
     "name": "stdout",
     "output_type": "stream",
     "text": [
      "[4, 2, 6, 4, 5]\n",
      "[2, 4, 4, 5, 6]\n"
     ]
    }
   ],
   "source": [
    "## Bubble Sort algorithm\n",
    "\n",
    "s = int(input())\n",
    "lst = []\n",
    "for i in range(s):\n",
    "    lst.append(int(input()))\n",
    "print(lst)\n",
    "def bubble_sort(lst):\n",
    "    \n",
    "    size = len(lst)\n",
    "    for i in range(size-1):\n",
    "        for j in range(size-1):\n",
    "            if lst[j]<lst[j+1]:\n",
    "                continue\n",
    "            elif lst[j] == lst[j+1]:\n",
    "                continue\n",
    "            else:\n",
    "                temp = lst[j+1]\n",
    "                lst[j+1]=lst[j]\n",
    "                lst[j]=temp         \n",
    "    return lst\n",
    "result = bubble_sort(lst)\n",
    "print(result)"
   ]
  },
  {
   "cell_type": "code",
   "execution_count": 13,
   "metadata": {},
   "outputs": [
    {
     "name": "stdout",
     "output_type": "stream",
     "text": [
      "[64, 25, 12, 22, 11]\n",
      "[11, 12, 22, 25, 64]\n"
     ]
    }
   ],
   "source": [
    "## selection sort\n",
    "\n",
    "s = int(input())\n",
    "lst = []\n",
    "for i in range(s):\n",
    "    lst.append(int(input()))\n",
    "print(lst)\n",
    "def selection_sort(lst):\n",
    "    size = len(lst)\n",
    "    for i in range(size-1):\n",
    "            temp = min(lst[i:size])\n",
    "            \n",
    "            lst[lst.index(temp)] = lst[i]\n",
    "            lst[i]=temp\n",
    "\n",
    "    return lst\n",
    "\n",
    "\n",
    "    \n",
    "result = selection_sort(lst)\n",
    "print(result)\n"
   ]
  },
  {
   "cell_type": "code",
   "execution_count": null,
   "metadata": {},
   "outputs": [
    {
     "name": "stdout",
     "output_type": "stream",
     "text": [
      "[12, 11, 13, 5, 6]\n",
      "[5, 6, 11, 12, 13]\n"
     ]
    }
   ],
   "source": [
    "## Insertion Sort Algorithm\n",
    "\n",
    "s = int(input())\n",
    "lst = []\n",
    "for i in range(s):\n",
    "    lst.append(int(input()))\n",
    "print(lst)\n",
    "def selection_sort(lst):\n",
    "    size = len(lst)\n",
    "    for i in range(1, size): \n",
    "        key = lst[i]\n",
    "        j = i - 1\n",
    "        while j >= 0 and key < lst[j]: \n",
    "            lst[j + 1] = lst[j]\n",
    "            j -= 1\n",
    "        lst[j + 1] = key \n",
    "    return lst\n",
    "result = selection_sort(lst)\n",
    "print(result)"
   ]
  },
  {
   "cell_type": "code",
   "execution_count": null,
   "metadata": {},
   "outputs": [],
   "source": []
  }
 ],
 "metadata": {
  "kernelspec": {
   "display_name": "Python 3",
   "language": "python",
   "name": "python3"
  },
  "language_info": {
   "codemirror_mode": {
    "name": "ipython",
    "version": 3
   },
   "file_extension": ".py",
   "mimetype": "text/x-python",
   "name": "python",
   "nbconvert_exporter": "python",
   "pygments_lexer": "ipython3",
   "version": "3.13.0"
  }
 },
 "nbformat": 4,
 "nbformat_minor": 2
}
