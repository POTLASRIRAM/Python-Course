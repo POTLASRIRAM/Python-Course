{
 "cells": [
  {
   "cell_type": "code",
   "execution_count": 10,
   "metadata": {},
   "outputs": [
    {
     "name": "stdout",
     "output_type": "stream",
     "text": [
      "4\n"
     ]
    }
   ],
   "source": [
    "## Search Insert Position\n",
    "\n",
    "def searchInsert(nums,target):\n",
    "    s=0\n",
    "    e=len(nums)-1\n",
    "    while s<=e:\n",
    "        if target == nums[s]:\n",
    "            return s\n",
    "        elif target<nums[s]:\n",
    "            return s\n",
    "        elif target>nums[s]:\n",
    "            s=s+1\n",
    "    return s\n",
    "\n",
    "l = searchInsert(nums=[1,3,5,6],target=7)\n",
    "print(l)"
   ]
  },
  {
   "cell_type": "code",
   "execution_count": 14,
   "metadata": {},
   "outputs": [
    {
     "name": "stdout",
     "output_type": "stream",
     "text": [
      "Mid =  1\n",
      "Mid =  2\n",
      "Mid =  3\n",
      "4\n"
     ]
    }
   ],
   "source": [
    "## Search Insert Position using binary search\n",
    "def searchInsert(nums,target):\n",
    "    s=0\n",
    "    e=len(nums)-1\n",
    "    while s<=e:\n",
    "        mid = (s+e)//2\n",
    "        print(\"Mid = \",mid)\n",
    "        if target == nums[mid]:\n",
    "            return mid\n",
    "        elif target<nums[mid]:\n",
    "            e=mid-1\n",
    "            \n",
    "        elif target>nums[mid]:\n",
    "            s=mid+1\n",
    "    return s\n",
    "\n",
    "l = searchInsert(nums=[1,3,5,6],target=7)\n",
    "print(l)"
   ]
  },
  {
   "cell_type": "code",
   "execution_count": 18,
   "metadata": {},
   "outputs": [],
   "source": [
    "## Sqrt(x)\n",
    "import math\n",
    "class Solution:\n",
    "    def mySqrt(x):\n",
    "        return math.floor(math.sqrt(x))\n",
    "        \n",
    "\n",
    "    mySqrt(8)\n"
   ]
  },
  {
   "cell_type": "code",
   "execution_count": 20,
   "metadata": {},
   "outputs": [
    {
     "name": "stdout",
     "output_type": "stream",
     "text": [
      "2.8284271247461903\n"
     ]
    }
   ],
   "source": [
    "print(8**(1/2))"
   ]
  },
  {
   "cell_type": "code",
   "execution_count": 4,
   "metadata": {},
   "outputs": [
    {
     "name": "stdout",
     "output_type": "stream",
     "text": [
      "['jmp', 'jmq', 'jmr', 'jms', 'jnp', 'jnq', 'jnr', 'jns', 'jop', 'joq', 'jor', 'jos', 'kmp', 'kmq', 'kmr', 'kms', 'knp', 'knq', 'knr', 'kns', 'kop', 'koq', 'kor', 'kos', 'lmp', 'lmq', 'lmr', 'lms', 'lnp', 'lnq', 'lnr', 'lns', 'lop', 'loq', 'lor', 'los']\n"
     ]
    }
   ],
   "source": [
    "## Letter combinations of a phone number\n",
    "keys = {'1':'','2':'abc','3':'def','4':'ghi','5':'jkl','6':'mno','7':'pqrs','8':'tuv','9':'wxyz'}\n",
    "def return_combinations(digit):\n",
    "        ans =[]\n",
    "        if digit ==\"\":\n",
    "             return ['']\n",
    "    \n",
    "        digits = digit[1:]\n",
    "        digit_combination = return_combinations(digits)\n",
    "        keyLetters = keys[digit[0]]\n",
    "        for i in keyLetters:\n",
    "            for j in digit_combination:\n",
    "                ans.append(i+j)\n",
    "        return ans\n",
    "class Solution:\n",
    "    def letterCombinations(d):\n",
    "        \n",
    "        if d ==\"\":\n",
    "             return []\n",
    "        return return_combinations(d)\n",
    "    print(letterCombinations(\"567\"))"
   ]
  },
  {
   "cell_type": "code",
   "execution_count": 28,
   "metadata": {},
   "outputs": [
    {
     "name": "stdout",
     "output_type": "stream",
     "text": [
      "[1, 2, 3, 2, 5, 6]\n",
      "[1, 2, 2, 3, 5, 6]\n"
     ]
    }
   ],
   "source": [
    "## Merge sorted array\n",
    "\n",
    "class Solution:\n",
    "    def merge_array(self,num1,num2,m,n):\n",
    "        i=0\n",
    "        while i<n:\n",
    "            k=num2[i]\n",
    "            num1[m]=k\n",
    "            i=i+1\n",
    "            m=m+1\n",
    "        print(num1)\n",
    "        l=sorted(num1)\n",
    "        print(l)\n",
    "        \n",
    "            \n",
    "\n",
    "num1=[1,2,3,0,0,0]\n",
    "num2=[2,5,6]\n",
    "m=3\n",
    "n=3\n",
    "s=Solution()\n",
    "s.merge_array(num1,num2,m,n)"
   ]
  },
  {
   "cell_type": "code",
   "execution_count": 42,
   "metadata": {},
   "outputs": [
    {
     "data": {
      "text/plain": [
       "4"
      ]
     },
     "execution_count": 42,
     "metadata": {},
     "output_type": "execute_result"
    }
   ],
   "source": [
    "## Remove Element\n",
    "\n",
    "def remove_element(nums,val):\n",
    "    if len(nums)==0:\n",
    "        return []\n",
    "    s=0\n",
    "    e=len(nums)-1\n",
    "    while s<=e:\n",
    "        if nums[s]==val:\n",
    "            del nums[s]\n",
    "            e=e-1\n",
    "        else:\n",
    "            s=s+1\n",
    "    return len(nums)\n",
    "remove_element([0,1,2,2,3,2,4,2],2)"
   ]
  },
  {
   "cell_type": "code",
   "execution_count": null,
   "metadata": {},
   "outputs": [],
   "source": [
    "nums[:] = [x for x in nums if x != val]  # Modify `nums` in place\n",
    "    return len(nums) "
   ]
  },
  {
   "cell_type": "code",
   "execution_count": 2,
   "metadata": {},
   "outputs": [
    {
     "name": "stdout",
     "output_type": "stream",
     "text": [
      "[1, 3, 4, 5, 6]\n"
     ]
    }
   ],
   "source": [
    "lst =[1,2,3,4,5,6]\n",
    "del lst[1]\n",
    "print(lst)"
   ]
  },
  {
   "cell_type": "code",
   "execution_count": 6,
   "metadata": {},
   "outputs": [
    {
     "name": "stdout",
     "output_type": "stream",
     "text": [
      "[0, 1, 2, 3, 4]\n"
     ]
    }
   ],
   "source": [
    "#### Remove Duplicates from Sorted Array\n",
    "def remove_duplicates(nums):\n",
    "    n = []\n",
    "    for i in range(len(nums)):\n",
    "        if nums[i] not in n:\n",
    "            n.append(nums[i])\n",
    "    return n\n",
    "\n",
    "print(remove_duplicates([0,0,1,1,1,2,2,3,3,4]))\n"
   ]
  },
  {
   "cell_type": "code",
   "execution_count": 36,
   "metadata": {},
   "outputs": [
    {
     "data": {
      "text/plain": [
       "3"
      ]
     },
     "execution_count": 36,
     "metadata": {},
     "output_type": "execute_result"
    }
   ],
   "source": [
    "## Majority Element\n",
    "\n",
    "def majorityElement(nums):\n",
    "    global_count =0\n",
    "    val=0\n",
    "    for i in range(len(nums)):\n",
    "        #print(\"Iteration : \",i)\n",
    "        initial_count = nums.count(nums[i])\n",
    "        #print(\"Initial count : \",initial_count)\n",
    "        if initial_count>=global_count:\n",
    "            global_count = initial_count\n",
    "            #print(\"Global count : \",global_count)\n",
    "            val=nums[i]\n",
    "            #print(\"Val :\",val)\n",
    "    return val\n",
    "\n",
    "majorityElement(nums=[3,2,3])"
   ]
  },
  {
   "cell_type": "code",
   "execution_count": 8,
   "metadata": {},
   "outputs": [
    {
     "data": {
      "text/plain": [
       "4"
      ]
     },
     "execution_count": 8,
     "metadata": {},
     "output_type": "execute_result"
    }
   ],
   "source": [
    "## Length of last word\n",
    "\n",
    "def lengthOfLastWord(s):\n",
    "    \n",
    "    lst = str.split(str.strip(s),' ')\n",
    "    return len(lst[-1])\n",
    "lengthOfLastWord(\"   Hi hello how are you?   \")"
   ]
  },
  {
   "cell_type": "code",
   "execution_count": 21,
   "metadata": {},
   "outputs": [
    {
     "data": {
      "text/plain": [
       "0"
      ]
     },
     "execution_count": 21,
     "metadata": {},
     "output_type": "execute_result"
    }
   ],
   "source": [
    "## Find the Index of the First Occurrence in a String\n",
    "def strStr(haystack,needle):\n",
    "    if needle in haystack:\n",
    "        return haystack.find(needle)\n",
    "    return -1\n",
    "strStr(\"sadbutsad\",\"sad\")\n"
   ]
  },
  {
   "cell_type": "code",
   "execution_count": 15,
   "metadata": {},
   "outputs": [
    {
     "data": {
      "text/plain": [
       "False"
      ]
     },
     "execution_count": 15,
     "metadata": {},
     "output_type": "execute_result"
    }
   ],
   "source": [
    "## Valid Palindrome\n",
    "\n",
    "def isPalindrome(s):\n",
    "    lst=[str.lower(i) for i in s if i.isalnum()]\n",
    "    if lst == lst[::-1]:\n",
    "        return True\n",
    "    return False\n",
    "isPalindrome(\"Marge, let's \\\"[went].\\\" I await {news} telegram.\")"
   ]
  },
  {
   "cell_type": "code",
   "execution_count": 11,
   "metadata": {},
   "outputs": [
    {
     "name": "stdout",
     "output_type": "stream",
     "text": [
      "['a', 'a', 'c', 'c']\n",
      "['a', 'c', 'c', 'c']\n"
     ]
    },
    {
     "data": {
      "text/plain": [
       "False"
      ]
     },
     "execution_count": 11,
     "metadata": {},
     "output_type": "execute_result"
    }
   ],
   "source": [
    "## Valid Anagram\n",
    "\n",
    "def isAnagram(s,t):\n",
    "    if len(s)==len(t):\n",
    "        \n",
    "       l1=sorted(s)\n",
    "       print(l1)\n",
    "       l2=sorted(t)\n",
    "       print(l2)\n",
    "       if l1==l2:\n",
    "           return True\n",
    "    \n",
    "    return False\n",
    "    \n",
    "isAnagram(\"aacc\",\"ccac\")"
   ]
  },
  {
   "cell_type": "code",
   "execution_count": 20,
   "metadata": {},
   "outputs": [
    {
     "data": {
      "text/plain": [
       "True"
      ]
     },
     "execution_count": 20,
     "metadata": {},
     "output_type": "execute_result"
    }
   ],
   "source": [
    "## Valid pattern\n",
    "\n",
    "def wordPattern(pattern, s):\n",
    "    l1=set(pattern)\n",
    "    l2=set(str.split(s,\" \"))\n",
    "    if len(l1)==len(l2):\n",
    "        return True\n",
    "    return False\n",
    "\n",
    "wordPattern(\"aab\",\"cat cat cat dog\")"
   ]
  },
  {
   "cell_type": "code",
   "execution_count": 40,
   "metadata": {},
   "outputs": [
    {
     "data": {
      "text/plain": [
       "[1, 0]"
      ]
     },
     "execution_count": 40,
     "metadata": {},
     "output_type": "execute_result"
    }
   ],
   "source": [
    "## Plus one\n",
    "\n",
    "def plusOne(digits):\n",
    "    n=str()\n",
    "    for i in digits:\n",
    "        n=n+str(i)\n",
    "    no = str(int(n)+1)\n",
    "    return [int(i) for i in no]\n",
    "plusOne([9])"
   ]
  },
  {
   "cell_type": "code",
   "execution_count": 38,
   "metadata": {},
   "outputs": [
    {
     "name": "stdout",
     "output_type": "stream",
     "text": [
      "[1, 2, 3, 4]\n"
     ]
    }
   ],
   "source": [
    "l=1234\n",
    "type(l)\n",
    "lst=[]\n",
    "for i in str(l):\n",
    "    lst.append(int(i))\n",
    "print(lst)"
   ]
  },
  {
   "cell_type": "code",
   "execution_count": 64,
   "metadata": {},
   "outputs": [
    {
     "ename": "IndexError",
     "evalue": "list index out of range",
     "output_type": "error",
     "traceback": [
      "\u001b[1;31m---------------------------------------------------------------------------\u001b[0m",
      "\u001b[1;31mIndexError\u001b[0m                                Traceback (most recent call last)",
      "Cell \u001b[1;32mIn[64], line 13\u001b[0m\n\u001b[0;32m      9\u001b[0m                      \u001b[38;5;28;01mreturn\u001b[39;00m \u001b[38;5;28;01mTrue\u001b[39;00m\n\u001b[0;32m     10\u001b[0m     \u001b[38;5;28;01mreturn\u001b[39;00m \u001b[38;5;28;01mFalse\u001b[39;00m\n\u001b[1;32m---> 13\u001b[0m \u001b[43msearchMatrix\u001b[49m\u001b[43m(\u001b[49m\u001b[43m[\u001b[49m\u001b[43m[\u001b[49m\u001b[38;5;241;43m1\u001b[39;49m\u001b[43m,\u001b[49m\u001b[38;5;241;43m3\u001b[39;49m\u001b[43m]\u001b[49m\u001b[43m,\u001b[49m\u001b[43m[\u001b[49m\u001b[38;5;241;43m4\u001b[39;49m\u001b[43m,\u001b[49m\u001b[38;5;241;43m5\u001b[39;49m\u001b[43m]\u001b[49m\u001b[43m]\u001b[49m\u001b[43m,\u001b[49m\u001b[38;5;241;43m6\u001b[39;49m\u001b[43m)\u001b[49m\n",
      "Cell \u001b[1;32mIn[64], line 6\u001b[0m, in \u001b[0;36msearchMatrix\u001b[1;34m(matrix, target)\u001b[0m\n\u001b[0;32m      4\u001b[0m \u001b[38;5;28;01mfor\u001b[39;00m i \u001b[38;5;129;01min\u001b[39;00m \u001b[38;5;28mrange\u001b[39m(\u001b[38;5;241m0\u001b[39m,\u001b[38;5;28mlen\u001b[39m(matrix)):\n\u001b[0;32m      5\u001b[0m     \u001b[38;5;28;01mfor\u001b[39;00m j \u001b[38;5;129;01min\u001b[39;00m \u001b[38;5;28mrange\u001b[39m(\u001b[38;5;28mlen\u001b[39m(matrix),\u001b[38;5;241m-\u001b[39m\u001b[38;5;241m1\u001b[39m,\u001b[38;5;241m-\u001b[39m\u001b[38;5;241m1\u001b[39m):\n\u001b[1;32m----> 6\u001b[0m             \u001b[38;5;28;01mif\u001b[39;00m target\u001b[38;5;241m>\u001b[39m \u001b[43mmatrix\u001b[49m\u001b[43m[\u001b[49m\u001b[43mi\u001b[49m\u001b[43m]\u001b[49m\u001b[43m[\u001b[49m\u001b[43mj\u001b[49m\u001b[43m]\u001b[49m:\n\u001b[0;32m      7\u001b[0m                  \u001b[38;5;28;01mcontinue\u001b[39;00m\n\u001b[0;32m      8\u001b[0m             \u001b[38;5;28;01melif\u001b[39;00m target\u001b[38;5;241m==\u001b[39mmatrix[i][j]:\n",
      "\u001b[1;31mIndexError\u001b[0m: list index out of range"
     ]
    }
   ],
   "source": [
    "## Search a 2D Matrix\n",
    "\n",
    "def searchMatrix(matrix,target):\n",
    "    for i in range(0,len(matrix)):\n",
    "        for j in range(len(matrix),-1,-1):\n",
    "                if target> matrix[i][j]:\n",
    "                     continue\n",
    "                elif target==matrix[i][j]:\n",
    "                     return True\n",
    "    return False\n",
    "                     \n",
    "\n",
    "searchMatrix([[1,3],[4,5]],6)"
   ]
  },
  {
   "cell_type": "code",
   "execution_count": null,
   "metadata": {},
   "outputs": [],
   "source": [
    "class Solution:\n",
    "    def searchMatrix(self, matrix: List[List[int]], target: int) -> bool:\n",
    "        for i in range(0,len(matrix)):\n",
    "             for j in range(len(matrix),-1,-1):\n",
    "                if target> matrix[i][j]:\n",
    "                     continue\n",
    "                elif target==matrix[i][j]:\n",
    "                     return True\n",
    "        return False\n",
    "        "
   ]
  },
  {
   "cell_type": "code",
   "execution_count": 33,
   "metadata": {},
   "outputs": [
    {
     "name": "stdout",
     "output_type": "stream",
     "text": [
      "[1, 1, 2, 2, 3]\n"
     ]
    },
    {
     "data": {
      "text/plain": [
       "5"
      ]
     },
     "execution_count": 33,
     "metadata": {},
     "output_type": "execute_result"
    }
   ],
   "source": [
    "## Remove Duplicates from Sorted Array II\n",
    "\n",
    "def removeDuplicates(nums):\n",
    "    e=len(nums)\n",
    "    count =0\n",
    "    for i in range(e-1,-1,-1):\n",
    "        if i==e-1:\n",
    "            if nums[i]==nums[i-1]:\n",
    "                \n",
    "                #print(\"Nums[i] = \",nums[i])\n",
    "                count = count+1\n",
    "                #print(\"Count = \",count)\n",
    "        else:\n",
    "            if nums[i]==nums[i-1] or nums[i]==nums[i+1]:\n",
    "                count = count+1\n",
    "                #print(\"Count = \",count)\n",
    "\n",
    "        if count >2:\n",
    "            del nums[i]\n",
    "            count =0\n",
    "            e=e-1\n",
    "    print(nums)\n",
    "    return len(nums)\n",
    "\n",
    "removeDuplicates([1,1,1,2,2,3])"
   ]
  },
  {
   "cell_type": "code",
   "execution_count": 96,
   "metadata": {},
   "outputs": [
    {
     "name": "stdout",
     "output_type": "stream",
     "text": [
      "[5, 6, 7, 1, 2, 3, 4]\n"
     ]
    }
   ],
   "source": [
    "lst=[1,2,3,4,5,6,7]\n",
    "n=0\n",
    "for i in range(n,4):\n",
    "    lst.append(lst[n])\n",
    "    del lst[0]\n",
    "    \n",
    "\n",
    "print(lst)"
   ]
  },
  {
   "cell_type": "code",
   "execution_count": 70,
   "metadata": {},
   "outputs": [
    {
     "data": {
      "text/plain": [
       "'example good a'"
      ]
     },
     "execution_count": 70,
     "metadata": {},
     "output_type": "execute_result"
    }
   ],
   "source": [
    "## Reverse Words in a String\n",
    "\n",
    "def reverseWords(s):\n",
    "    \n",
    "    lst = str.split(s)\n",
    "    string =str()\n",
    "    for i in range(len(lst)-1,-1,-1):\n",
    "        string = string+\" \"+(lst[i])\n",
    "    return str.strip(string)\n",
    "    \n",
    "reverseWords(\"a good  example\")"
   ]
  },
  {
   "cell_type": "code",
   "execution_count": 107,
   "metadata": {},
   "outputs": [
    {
     "name": "stdout",
     "output_type": "stream",
     "text": [
      "Modified nums :  [2, 3, 4, 5, 6, 7, 1]\n",
      "Modified nums :  [3, 4, 5, 6, 7, 1, 2]\n",
      "Modified nums :  [4, 5, 6, 7, 1, 2, 3]\n"
     ]
    },
    {
     "data": {
      "text/plain": [
       "[4, 5, 6, 7, 1, 2, 3]"
      ]
     },
     "execution_count": 107,
     "metadata": {},
     "output_type": "execute_result"
    }
   ],
   "source": [
    "## Rotate Array\n",
    "\n",
    "def rotate(nums,k):\n",
    "    n=0\n",
    "    for i in range(n,k):\n",
    "        nums.append(nums[n])\n",
    "        del nums[0]\n",
    "        print(\"Modified nums : \",nums)\n",
    "    return nums\n",
    "rotate([1,2,3,4,5,6,7],3)"
   ]
  },
  {
   "cell_type": "code",
   "execution_count": null,
   "metadata": {},
   "outputs": [],
   "source": []
  }
 ],
 "metadata": {
  "kernelspec": {
   "display_name": "Python 3",
   "language": "python",
   "name": "python3"
  },
  "language_info": {
   "codemirror_mode": {
    "name": "ipython",
    "version": 3
   },
   "file_extension": ".py",
   "mimetype": "text/x-python",
   "name": "python",
   "nbconvert_exporter": "python",
   "pygments_lexer": "ipython3",
   "version": "3.13.0"
  }
 },
 "nbformat": 4,
 "nbformat_minor": 2
}
