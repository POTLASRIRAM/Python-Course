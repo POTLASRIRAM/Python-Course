{
 "cells": [
  {
   "cell_type": "code",
   "execution_count": 10,
   "metadata": {},
   "outputs": [
    {
     "name": "stdout",
     "output_type": "stream",
     "text": [
      "4\n"
     ]
    }
   ],
   "source": [
    "## Search Insert Position\n",
    "\n",
    "def searchInsert(nums,target):\n",
    "    s=0\n",
    "    e=len(nums)-1\n",
    "    while s<=e:\n",
    "        if target == nums[s]:\n",
    "            return s\n",
    "        elif target<nums[s]:\n",
    "            return s\n",
    "        elif target>nums[s]:\n",
    "            s=s+1\n",
    "    return s\n",
    "\n",
    "l = searchInsert(nums=[1,3,5,6],target=7)\n",
    "print(l)"
   ]
  },
  {
   "cell_type": "code",
   "execution_count": 14,
   "metadata": {},
   "outputs": [
    {
     "name": "stdout",
     "output_type": "stream",
     "text": [
      "Mid =  1\n",
      "Mid =  2\n",
      "Mid =  3\n",
      "4\n"
     ]
    }
   ],
   "source": [
    "## Search Insert Position using binary search\n",
    "def searchInsert(nums,target):\n",
    "    s=0\n",
    "    e=len(nums)-1\n",
    "    while s<=e:\n",
    "        mid = (s+e)//2\n",
    "        print(\"Mid = \",mid)\n",
    "        if target == nums[mid]:\n",
    "            return mid\n",
    "        elif target<nums[mid]:\n",
    "            e=mid-1\n",
    "            \n",
    "        elif target>nums[mid]:\n",
    "            s=mid+1\n",
    "    return s\n",
    "\n",
    "l = searchInsert(nums=[1,3,5,6],target=7)\n",
    "print(l)"
   ]
  },
  {
   "cell_type": "code",
   "execution_count": 18,
   "metadata": {},
   "outputs": [],
   "source": [
    "## Sqrt(x)\n",
    "import math\n",
    "class Solution:\n",
    "    def mySqrt(x):\n",
    "        return math.floor(math.sqrt(x))\n",
    "        \n",
    "\n",
    "    mySqrt(8)\n"
   ]
  },
  {
   "cell_type": "code",
   "execution_count": 20,
   "metadata": {},
   "outputs": [
    {
     "name": "stdout",
     "output_type": "stream",
     "text": [
      "2.8284271247461903\n"
     ]
    }
   ],
   "source": [
    "print(8**(1/2))"
   ]
  },
  {
   "cell_type": "code",
   "execution_count": 4,
   "metadata": {},
   "outputs": [
    {
     "name": "stdout",
     "output_type": "stream",
     "text": [
      "['jmp', 'jmq', 'jmr', 'jms', 'jnp', 'jnq', 'jnr', 'jns', 'jop', 'joq', 'jor', 'jos', 'kmp', 'kmq', 'kmr', 'kms', 'knp', 'knq', 'knr', 'kns', 'kop', 'koq', 'kor', 'kos', 'lmp', 'lmq', 'lmr', 'lms', 'lnp', 'lnq', 'lnr', 'lns', 'lop', 'loq', 'lor', 'los']\n"
     ]
    }
   ],
   "source": [
    "## Letter combinations of a phone number\n",
    "keys = {'1':'','2':'abc','3':'def','4':'ghi','5':'jkl','6':'mno','7':'pqrs','8':'tuv','9':'wxyz'}\n",
    "def return_combinations(digit):\n",
    "        ans =[]\n",
    "        if digit ==\"\":\n",
    "             return ['']\n",
    "    \n",
    "        digits = digit[1:]\n",
    "        digit_combination = return_combinations(digits)\n",
    "        keyLetters = keys[digit[0]]\n",
    "        for i in keyLetters:\n",
    "            for j in digit_combination:\n",
    "                ans.append(i+j)\n",
    "        return ans\n",
    "class Solution:\n",
    "    def letterCombinations(d):\n",
    "        \n",
    "        if d ==\"\":\n",
    "             return []\n",
    "        return return_combinations(d)\n",
    "    print(letterCombinations(\"567\"))"
   ]
  },
  {
   "cell_type": "code",
   "execution_count": 28,
   "metadata": {},
   "outputs": [
    {
     "name": "stdout",
     "output_type": "stream",
     "text": [
      "[1, 2, 3, 2, 5, 6]\n",
      "[1, 2, 2, 3, 5, 6]\n"
     ]
    }
   ],
   "source": [
    "## Merge sorted array\n",
    "\n",
    "class Solution:\n",
    "    def merge_array(self,num1,num2,m,n):\n",
    "        i=0\n",
    "        while i<n:\n",
    "            k=num2[i]\n",
    "            num1[m]=k\n",
    "            i=i+1\n",
    "            m=m+1\n",
    "        print(num1)\n",
    "        l=sorted(num1)\n",
    "        print(l)\n",
    "        \n",
    "            \n",
    "\n",
    "num1=[1,2,3,0,0,0]\n",
    "num2=[2,5,6]\n",
    "m=3\n",
    "n=3\n",
    "s=Solution()\n",
    "s.merge_array(num1,num2,m,n)"
   ]
  },
  {
   "cell_type": "code",
   "execution_count": 42,
   "metadata": {},
   "outputs": [
    {
     "data": {
      "text/plain": [
       "4"
      ]
     },
     "execution_count": 42,
     "metadata": {},
     "output_type": "execute_result"
    }
   ],
   "source": [
    "## Remove Element\n",
    "\n",
    "def remove_element(nums,val):\n",
    "    if len(nums)==0:\n",
    "        return []\n",
    "    s=0\n",
    "    e=len(nums)-1\n",
    "    while s<=e:\n",
    "        if nums[s]==val:\n",
    "            del nums[s]\n",
    "            e=e-1\n",
    "        else:\n",
    "            s=s+1\n",
    "    return len(nums)\n",
    "remove_element([0,1,2,2,3,2,4,2],2)"
   ]
  },
  {
   "cell_type": "code",
   "execution_count": null,
   "metadata": {},
   "outputs": [],
   "source": [
    "nums[:] = [x for x in nums if x != val]  # Modify `nums` in place\n",
    "    return len(nums) "
   ]
  },
  {
   "cell_type": "code",
   "execution_count": 2,
   "metadata": {},
   "outputs": [
    {
     "name": "stdout",
     "output_type": "stream",
     "text": [
      "[1, 3, 4, 5, 6]\n"
     ]
    }
   ],
   "source": [
    "lst =[1,2,3,4,5,6]\n",
    "del lst[1]\n",
    "print(lst)"
   ]
  },
  {
   "cell_type": "code",
   "execution_count": 6,
   "metadata": {},
   "outputs": [
    {
     "name": "stdout",
     "output_type": "stream",
     "text": [
      "[0, 1, 2, 3, 4]\n"
     ]
    }
   ],
   "source": [
    "#### Remove Duplicates from Sorted Array\n",
    "def remove_duplicates(nums):\n",
    "    n = []\n",
    "    for i in range(len(nums)):\n",
    "        if nums[i] not in n:\n",
    "            n.append(nums[i])\n",
    "    return n\n",
    "\n",
    "print(remove_duplicates([0,0,1,1,1,2,2,3,3,4]))\n"
   ]
  },
  {
   "cell_type": "code",
   "execution_count": 36,
   "metadata": {},
   "outputs": [
    {
     "data": {
      "text/plain": [
       "3"
      ]
     },
     "execution_count": 36,
     "metadata": {},
     "output_type": "execute_result"
    }
   ],
   "source": [
    "## Majority Element\n",
    "\n",
    "def majorityElement(nums):\n",
    "    global_count =0\n",
    "    val=0\n",
    "    for i in range(len(nums)):\n",
    "        #print(\"Iteration : \",i)\n",
    "        initial_count = nums.count(nums[i])\n",
    "        #print(\"Initial count : \",initial_count)\n",
    "        if initial_count>=global_count:\n",
    "            global_count = initial_count\n",
    "            #print(\"Global count : \",global_count)\n",
    "            val=nums[i]\n",
    "            #print(\"Val :\",val)\n",
    "    return val\n",
    "\n",
    "majorityElement(nums=[3,2,3])"
   ]
  },
  {
   "cell_type": "code",
   "execution_count": 8,
   "metadata": {},
   "outputs": [
    {
     "data": {
      "text/plain": [
       "4"
      ]
     },
     "execution_count": 8,
     "metadata": {},
     "output_type": "execute_result"
    }
   ],
   "source": [
    "## Length of last word\n",
    "\n",
    "def lengthOfLastWord(s):\n",
    "    \n",
    "    lst = str.split(str.strip(s),' ')\n",
    "    return len(lst[-1])\n",
    "lengthOfLastWord(\"   Hi hello how are you?   \")"
   ]
  },
  {
   "cell_type": "code",
   "execution_count": 21,
   "metadata": {},
   "outputs": [
    {
     "data": {
      "text/plain": [
       "0"
      ]
     },
     "execution_count": 21,
     "metadata": {},
     "output_type": "execute_result"
    }
   ],
   "source": [
    "## Find the Index of the First Occurrence in a String\n",
    "def strStr(haystack,needle):\n",
    "    if needle in haystack:\n",
    "        return haystack.find(needle)\n",
    "    return -1\n",
    "strStr(\"sadbutsad\",\"sad\")\n"
   ]
  },
  {
   "cell_type": "code",
   "execution_count": 15,
   "metadata": {},
   "outputs": [
    {
     "data": {
      "text/plain": [
       "False"
      ]
     },
     "execution_count": 15,
     "metadata": {},
     "output_type": "execute_result"
    }
   ],
   "source": [
    "## Valid Palindrome\n",
    "\n",
    "def isPalindrome(s):\n",
    "    lst=[str.lower(i) for i in s if i.isalnum()]\n",
    "    if lst == lst[::-1]:\n",
    "        return True\n",
    "    return False\n",
    "isPalindrome(\"Marge, let's \\\"[went].\\\" I await {news} telegram.\")"
   ]
  },
  {
   "cell_type": "code",
   "execution_count": 35,
   "metadata": {},
   "outputs": [
    {
     "name": "stdout",
     "output_type": "stream",
     "text": [
      "[]\n"
     ]
    }
   ],
   "source": [
    "## Is Subsequence\n",
    "\n",
    "def isSubsequence(s,t):\n",
    "    lst=[n for n in s]\n",
    "    lst1=[m for m in t]\n",
    "    i=0\n",
    "    j=0\n",
    "    while i<len(lst) and j<len(lst1):\n",
    "        \n",
    "    \n",
    "    \n",
    "    \n",
    "    \n",
    "    \n",
    "    for i in range(len(lst)):\n",
    "        for j in range(len(lst1)-1,-1,-1):\n",
    "            if lst1[j]!=lst[i]:\n",
    "                del lst1[j]\n",
    "                j=j-1\n",
    "    \n",
    "    #print(lst)\n",
    "    print(lst1)\n",
    "isSubsequence(\"abc\",\"ahbgdc\")"
   ]
  },
  {
   "cell_type": "code",
   "execution_count": null,
   "metadata": {},
   "outputs": [],
   "source": []
  }
 ],
 "metadata": {
  "kernelspec": {
   "display_name": "Python 3",
   "language": "python",
   "name": "python3"
  },
  "language_info": {
   "codemirror_mode": {
    "name": "ipython",
    "version": 3
   },
   "file_extension": ".py",
   "mimetype": "text/x-python",
   "name": "python",
   "nbconvert_exporter": "python",
   "pygments_lexer": "ipython3",
   "version": "3.13.0"
  }
 },
 "nbformat": 4,
 "nbformat_minor": 2
}
