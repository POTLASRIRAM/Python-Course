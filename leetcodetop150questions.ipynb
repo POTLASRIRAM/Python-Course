{
 "cells": [
  {
   "cell_type": "code",
   "execution_count": 10,
   "metadata": {},
   "outputs": [
    {
     "name": "stdout",
     "output_type": "stream",
     "text": [
      "4\n"
     ]
    }
   ],
   "source": [
    "## Search Insert Position\n",
    "\n",
    "def searchInsert(nums,target):\n",
    "    s=0\n",
    "    e=len(nums)-1\n",
    "    while s<=e:\n",
    "        if target == nums[s]:\n",
    "            return s\n",
    "        elif target<nums[s]:\n",
    "            return s\n",
    "        elif target>nums[s]:\n",
    "            s=s+1\n",
    "    return s\n",
    "\n",
    "l = searchInsert(nums=[1,3,5,6],target=7)\n",
    "print(l)"
   ]
  },
  {
   "cell_type": "code",
   "execution_count": 14,
   "metadata": {},
   "outputs": [
    {
     "name": "stdout",
     "output_type": "stream",
     "text": [
      "Mid =  1\n",
      "Mid =  2\n",
      "Mid =  3\n",
      "4\n"
     ]
    }
   ],
   "source": [
    "## Search Insert Position using binary search\n",
    "def searchInsert(nums,target):\n",
    "    s=0\n",
    "    e=len(nums)-1\n",
    "    while s<=e:\n",
    "        mid = (s+e)//2\n",
    "        print(\"Mid = \",mid)\n",
    "        if target == nums[mid]:\n",
    "            return mid\n",
    "        elif target<nums[mid]:\n",
    "            e=mid-1\n",
    "            \n",
    "        elif target>nums[mid]:\n",
    "            s=mid+1\n",
    "    return s\n",
    "\n",
    "l = searchInsert(nums=[1,3,5,6],target=7)\n",
    "print(l)"
   ]
  },
  {
   "cell_type": "code",
   "execution_count": 18,
   "metadata": {},
   "outputs": [],
   "source": [
    "## Sqrt(x)\n",
    "import math\n",
    "class Solution:\n",
    "    def mySqrt(x):\n",
    "        return math.floor(math.sqrt(x))\n",
    "        \n",
    "\n",
    "    mySqrt(8)\n"
   ]
  },
  {
   "cell_type": "code",
   "execution_count": 20,
   "metadata": {},
   "outputs": [
    {
     "name": "stdout",
     "output_type": "stream",
     "text": [
      "2.8284271247461903\n"
     ]
    }
   ],
   "source": [
    "print(8**(1/2))"
   ]
  },
  {
   "cell_type": "code",
   "execution_count": 4,
   "metadata": {},
   "outputs": [
    {
     "name": "stdout",
     "output_type": "stream",
     "text": [
      "['jmp', 'jmq', 'jmr', 'jms', 'jnp', 'jnq', 'jnr', 'jns', 'jop', 'joq', 'jor', 'jos', 'kmp', 'kmq', 'kmr', 'kms', 'knp', 'knq', 'knr', 'kns', 'kop', 'koq', 'kor', 'kos', 'lmp', 'lmq', 'lmr', 'lms', 'lnp', 'lnq', 'lnr', 'lns', 'lop', 'loq', 'lor', 'los']\n"
     ]
    }
   ],
   "source": [
    "## Letter combinations of a phone number\n",
    "keys = {'1':'','2':'abc','3':'def','4':'ghi','5':'jkl','6':'mno','7':'pqrs','8':'tuv','9':'wxyz'}\n",
    "def return_combinations(digit):\n",
    "        ans =[]\n",
    "        if digit ==\"\":\n",
    "             return ['']\n",
    "    \n",
    "        digits = digit[1:]\n",
    "        digit_combination = return_combinations(digits)\n",
    "        keyLetters = keys[digit[0]]\n",
    "        for i in keyLetters:\n",
    "            for j in digit_combination:\n",
    "                ans.append(i+j)\n",
    "        return ans\n",
    "class Solution:\n",
    "    def letterCombinations(d):\n",
    "        \n",
    "        if d ==\"\":\n",
    "             return []\n",
    "        return return_combinations(d)\n",
    "    print(letterCombinations(\"567\"))"
   ]
  },
  {
   "cell_type": "code",
   "execution_count": 28,
   "metadata": {},
   "outputs": [
    {
     "name": "stdout",
     "output_type": "stream",
     "text": [
      "[1, 2, 3, 2, 5, 6]\n",
      "[1, 2, 2, 3, 5, 6]\n"
     ]
    }
   ],
   "source": [
    "## Merge sorted array\n",
    "\n",
    "class Solution:\n",
    "    def merge_array(self,num1,num2,m,n):\n",
    "        i=0\n",
    "        while i<n:\n",
    "            k=num2[i]\n",
    "            num1[m]=k\n",
    "            i=i+1\n",
    "            m=m+1\n",
    "        print(num1)\n",
    "        l=sorted(num1)\n",
    "        print(l)\n",
    "        \n",
    "            \n",
    "\n",
    "num1=[1,2,3,0,0,0]\n",
    "num2=[2,5,6]\n",
    "m=3\n",
    "n=3\n",
    "s=Solution()\n",
    "s.merge_array(num1,num2,m,n)"
   ]
  },
  {
   "cell_type": "code",
   "execution_count": 42,
   "metadata": {},
   "outputs": [
    {
     "data": {
      "text/plain": [
       "4"
      ]
     },
     "execution_count": 42,
     "metadata": {},
     "output_type": "execute_result"
    }
   ],
   "source": [
    "## Remove Element\n",
    "\n",
    "def remove_element(nums,val):\n",
    "    if len(nums)==0:\n",
    "        return []\n",
    "    s=0\n",
    "    e=len(nums)-1\n",
    "    while s<=e:\n",
    "        if nums[s]==val:\n",
    "            del nums[s]\n",
    "            e=e-1\n",
    "        else:\n",
    "            s=s+1\n",
    "    return len(nums)\n",
    "remove_element([0,1,2,2,3,2,4,2],2)"
   ]
  },
  {
   "cell_type": "code",
   "execution_count": null,
   "metadata": {},
   "outputs": [],
   "source": [
    "nums[:] = [x for x in nums if x != val]  # Modify `nums` in place\n",
    "    return len(nums) "
   ]
  },
  {
   "cell_type": "code",
   "execution_count": 2,
   "metadata": {},
   "outputs": [
    {
     "name": "stdout",
     "output_type": "stream",
     "text": [
      "[1, 3, 4, 5, 6]\n"
     ]
    }
   ],
   "source": [
    "lst =[1,2,3,4,5,6]\n",
    "del lst[1]\n",
    "print(lst)"
   ]
  },
  {
   "cell_type": "code",
   "execution_count": 6,
   "metadata": {},
   "outputs": [
    {
     "name": "stdout",
     "output_type": "stream",
     "text": [
      "[0, 1, 2, 3, 4]\n"
     ]
    }
   ],
   "source": [
    "#### Remove Duplicates from Sorted Array\n",
    "def remove_duplicates(nums):\n",
    "    n = []\n",
    "    for i in range(len(nums)):\n",
    "        if nums[i] not in n:\n",
    "            n.append(nums[i])\n",
    "    return n\n",
    "\n",
    "print(remove_duplicates([0,0,1,1,1,2,2,3,3,4]))\n"
   ]
  },
  {
   "cell_type": "code",
   "execution_count": 36,
   "metadata": {},
   "outputs": [
    {
     "data": {
      "text/plain": [
       "3"
      ]
     },
     "execution_count": 36,
     "metadata": {},
     "output_type": "execute_result"
    }
   ],
   "source": [
    "## Majority Element\n",
    "\n",
    "def majorityElement(nums):\n",
    "    global_count =0\n",
    "    val=0\n",
    "    for i in range(len(nums)):\n",
    "        #print(\"Iteration : \",i)\n",
    "        initial_count = nums.count(nums[i])\n",
    "        #print(\"Initial count : \",initial_count)\n",
    "        if initial_count>=global_count:\n",
    "            global_count = initial_count\n",
    "            #print(\"Global count : \",global_count)\n",
    "            val=nums[i]\n",
    "            #print(\"Val :\",val)\n",
    "    return val\n",
    "\n",
    "majorityElement(nums=[3,2,3])"
   ]
  },
  {
   "cell_type": "code",
   "execution_count": 8,
   "metadata": {},
   "outputs": [
    {
     "data": {
      "text/plain": [
       "4"
      ]
     },
     "execution_count": 8,
     "metadata": {},
     "output_type": "execute_result"
    }
   ],
   "source": [
    "## Length of last word\n",
    "\n",
    "def lengthOfLastWord(s):\n",
    "    \n",
    "    lst = str.split(str.strip(s),' ')\n",
    "    return len(lst[-1])\n",
    "lengthOfLastWord(\"   Hi hello how are you?   \")"
   ]
  },
  {
   "cell_type": "code",
   "execution_count": 21,
   "metadata": {},
   "outputs": [
    {
     "data": {
      "text/plain": [
       "0"
      ]
     },
     "execution_count": 21,
     "metadata": {},
     "output_type": "execute_result"
    }
   ],
   "source": [
    "## Find the Index of the First Occurrence in a String\n",
    "def strStr(haystack,needle):\n",
    "    if needle in haystack:\n",
    "        return haystack.find(needle)\n",
    "    return -1\n",
    "strStr(\"sadbutsad\",\"sad\")\n"
   ]
  },
  {
   "cell_type": "code",
   "execution_count": 15,
   "metadata": {},
   "outputs": [
    {
     "data": {
      "text/plain": [
       "False"
      ]
     },
     "execution_count": 15,
     "metadata": {},
     "output_type": "execute_result"
    }
   ],
   "source": [
    "## Valid Palindrome\n",
    "\n",
    "def isPalindrome(s):\n",
    "    lst=[str.lower(i) for i in s if i.isalnum()]\n",
    "    if lst == lst[::-1]:\n",
    "        return True\n",
    "    return False\n",
    "isPalindrome(\"Marge, let's \\\"[went].\\\" I await {news} telegram.\")"
   ]
  },
  {
   "cell_type": "code",
   "execution_count": 11,
   "metadata": {},
   "outputs": [
    {
     "name": "stdout",
     "output_type": "stream",
     "text": [
      "['a', 'a', 'c', 'c']\n",
      "['a', 'c', 'c', 'c']\n"
     ]
    },
    {
     "data": {
      "text/plain": [
       "False"
      ]
     },
     "execution_count": 11,
     "metadata": {},
     "output_type": "execute_result"
    }
   ],
   "source": [
    "## Valid Anagram\n",
    "\n",
    "def isAnagram(s,t):\n",
    "    if len(s)==len(t):\n",
    "        \n",
    "       l1=sorted(s)\n",
    "       print(l1)\n",
    "       l2=sorted(t)\n",
    "       print(l2)\n",
    "       if l1==l2:\n",
    "           return True\n",
    "    \n",
    "    return False\n",
    "    \n",
    "isAnagram(\"aacc\",\"ccac\")"
   ]
  },
  {
   "cell_type": "code",
   "execution_count": 20,
   "metadata": {},
   "outputs": [
    {
     "data": {
      "text/plain": [
       "True"
      ]
     },
     "execution_count": 20,
     "metadata": {},
     "output_type": "execute_result"
    }
   ],
   "source": [
    "## Valid pattern\n",
    "\n",
    "def wordPattern(pattern, s):\n",
    "    l1=set(pattern)\n",
    "    l2=set(str.split(s,\" \"))\n",
    "    if len(l1)==len(l2):\n",
    "        return True\n",
    "    return False\n",
    "\n",
    "wordPattern(\"aab\",\"cat cat cat dog\")"
   ]
  },
  {
   "cell_type": "code",
   "execution_count": 40,
   "metadata": {},
   "outputs": [
    {
     "data": {
      "text/plain": [
       "[1, 0]"
      ]
     },
     "execution_count": 40,
     "metadata": {},
     "output_type": "execute_result"
    }
   ],
   "source": [
    "## Plus one\n",
    "\n",
    "def plusOne(digits):\n",
    "    n=str()\n",
    "    for i in digits:\n",
    "        n=n+str(i)\n",
    "    no = str(int(n)+1)\n",
    "    return [int(i) for i in no]\n",
    "plusOne([9])"
   ]
  },
  {
   "cell_type": "code",
   "execution_count": 38,
   "metadata": {},
   "outputs": [
    {
     "name": "stdout",
     "output_type": "stream",
     "text": [
      "[1, 2, 3, 4]\n"
     ]
    }
   ],
   "source": [
    "l=1234\n",
    "type(l)\n",
    "lst=[]\n",
    "for i in str(l):\n",
    "    lst.append(int(i))\n",
    "print(lst)"
   ]
  },
  {
   "cell_type": "code",
   "execution_count": 64,
   "metadata": {},
   "outputs": [
    {
     "ename": "IndexError",
     "evalue": "list index out of range",
     "output_type": "error",
     "traceback": [
      "\u001b[1;31m---------------------------------------------------------------------------\u001b[0m",
      "\u001b[1;31mIndexError\u001b[0m                                Traceback (most recent call last)",
      "Cell \u001b[1;32mIn[64], line 13\u001b[0m\n\u001b[0;32m      9\u001b[0m                      \u001b[38;5;28;01mreturn\u001b[39;00m \u001b[38;5;28;01mTrue\u001b[39;00m\n\u001b[0;32m     10\u001b[0m     \u001b[38;5;28;01mreturn\u001b[39;00m \u001b[38;5;28;01mFalse\u001b[39;00m\n\u001b[1;32m---> 13\u001b[0m \u001b[43msearchMatrix\u001b[49m\u001b[43m(\u001b[49m\u001b[43m[\u001b[49m\u001b[43m[\u001b[49m\u001b[38;5;241;43m1\u001b[39;49m\u001b[43m,\u001b[49m\u001b[38;5;241;43m3\u001b[39;49m\u001b[43m]\u001b[49m\u001b[43m,\u001b[49m\u001b[43m[\u001b[49m\u001b[38;5;241;43m4\u001b[39;49m\u001b[43m,\u001b[49m\u001b[38;5;241;43m5\u001b[39;49m\u001b[43m]\u001b[49m\u001b[43m]\u001b[49m\u001b[43m,\u001b[49m\u001b[38;5;241;43m6\u001b[39;49m\u001b[43m)\u001b[49m\n",
      "Cell \u001b[1;32mIn[64], line 6\u001b[0m, in \u001b[0;36msearchMatrix\u001b[1;34m(matrix, target)\u001b[0m\n\u001b[0;32m      4\u001b[0m \u001b[38;5;28;01mfor\u001b[39;00m i \u001b[38;5;129;01min\u001b[39;00m \u001b[38;5;28mrange\u001b[39m(\u001b[38;5;241m0\u001b[39m,\u001b[38;5;28mlen\u001b[39m(matrix)):\n\u001b[0;32m      5\u001b[0m     \u001b[38;5;28;01mfor\u001b[39;00m j \u001b[38;5;129;01min\u001b[39;00m \u001b[38;5;28mrange\u001b[39m(\u001b[38;5;28mlen\u001b[39m(matrix),\u001b[38;5;241m-\u001b[39m\u001b[38;5;241m1\u001b[39m,\u001b[38;5;241m-\u001b[39m\u001b[38;5;241m1\u001b[39m):\n\u001b[1;32m----> 6\u001b[0m             \u001b[38;5;28;01mif\u001b[39;00m target\u001b[38;5;241m>\u001b[39m \u001b[43mmatrix\u001b[49m\u001b[43m[\u001b[49m\u001b[43mi\u001b[49m\u001b[43m]\u001b[49m\u001b[43m[\u001b[49m\u001b[43mj\u001b[49m\u001b[43m]\u001b[49m:\n\u001b[0;32m      7\u001b[0m                  \u001b[38;5;28;01mcontinue\u001b[39;00m\n\u001b[0;32m      8\u001b[0m             \u001b[38;5;28;01melif\u001b[39;00m target\u001b[38;5;241m==\u001b[39mmatrix[i][j]:\n",
      "\u001b[1;31mIndexError\u001b[0m: list index out of range"
     ]
    }
   ],
   "source": [
    "## Search a 2D Matrix\n",
    "\n",
    "def searchMatrix(matrix,target):\n",
    "    for i in range(0,len(matrix)):\n",
    "        for j in range(len(matrix),-1,-1):\n",
    "                if target> matrix[i][j]:\n",
    "                     continue\n",
    "                elif target==matrix[i][j]:\n",
    "                     return True\n",
    "    return False\n",
    "                     \n",
    "\n",
    "searchMatrix([[1,3],[4,5]],6)"
   ]
  },
  {
   "cell_type": "code",
   "execution_count": null,
   "metadata": {},
   "outputs": [],
   "source": [
    "class Solution:\n",
    "    def searchMatrix(self, matrix: List[List[int]], target: int) -> bool:\n",
    "        for i in range(0,len(matrix)):\n",
    "             for j in range(len(matrix),-1,-1):\n",
    "                if target> matrix[i][j]:\n",
    "                     continue\n",
    "                elif target==matrix[i][j]:\n",
    "                     return True\n",
    "        return False\n",
    "        "
   ]
  },
  {
   "cell_type": "code",
   "execution_count": 33,
   "metadata": {},
   "outputs": [
    {
     "name": "stdout",
     "output_type": "stream",
     "text": [
      "[1, 1, 2, 2, 3]\n"
     ]
    },
    {
     "data": {
      "text/plain": [
       "5"
      ]
     },
     "execution_count": 33,
     "metadata": {},
     "output_type": "execute_result"
    }
   ],
   "source": [
    "## Remove Duplicates from Sorted Array II\n",
    "\n",
    "def removeDuplicates(nums):\n",
    "    e=len(nums)\n",
    "    count =0\n",
    "    for i in range(e-1,-1,-1):\n",
    "        if i==e-1:\n",
    "            if nums[i]==nums[i-1]:\n",
    "                \n",
    "                #print(\"Nums[i] = \",nums[i])\n",
    "                count = count+1\n",
    "                #print(\"Count = \",count)\n",
    "        else:\n",
    "            if nums[i]==nums[i-1] or nums[i]==nums[i+1]:\n",
    "                count = count+1\n",
    "                #print(\"Count = \",count)\n",
    "\n",
    "        if count >2:\n",
    "            del nums[i]\n",
    "            count =0\n",
    "            e=e-1\n",
    "    print(nums)\n",
    "    return len(nums)\n",
    "\n",
    "removeDuplicates([1,1,1,2,2,3])"
   ]
  },
  {
   "cell_type": "code",
   "execution_count": 96,
   "metadata": {},
   "outputs": [
    {
     "name": "stdout",
     "output_type": "stream",
     "text": [
      "[5, 6, 7, 1, 2, 3, 4]\n"
     ]
    }
   ],
   "source": [
    "lst=[1,2,3,4,5,6,7]\n",
    "n=0\n",
    "for i in range(n,4):\n",
    "    lst.append(lst[n])\n",
    "    del lst[0]\n",
    "    \n",
    "\n",
    "print(lst)"
   ]
  },
  {
   "cell_type": "code",
   "execution_count": 70,
   "metadata": {},
   "outputs": [
    {
     "data": {
      "text/plain": [
       "'example good a'"
      ]
     },
     "execution_count": 70,
     "metadata": {},
     "output_type": "execute_result"
    }
   ],
   "source": [
    "## Reverse Words in a String\n",
    "\n",
    "def reverseWords(s):\n",
    "    \n",
    "    lst = str.split(s)\n",
    "    string =str()\n",
    "    for i in range(len(lst)-1,-1,-1):\n",
    "        string = string+\" \"+(lst[i])\n",
    "    return str.strip(string)\n",
    "    \n",
    "reverseWords(\"a good  example\")"
   ]
  },
  {
   "cell_type": "code",
   "execution_count": 20,
   "metadata": {},
   "outputs": [
    {
     "name": "stdout",
     "output_type": "stream",
     "text": [
      "Modified nums :  [7, 1, 2, 3, 4, 5, 6]\n",
      "Modified nums :  [6, 7, 1, 2, 3, 4, 5]\n",
      "Modified nums :  [5, 6, 7, 1, 2, 3, 4]\n"
     ]
    },
    {
     "data": {
      "text/plain": [
       "[5, 6, 7, 1, 2, 3, 4]"
      ]
     },
     "execution_count": 20,
     "metadata": {},
     "output_type": "execute_result"
    }
   ],
   "source": [
    "## Rotate Array\n",
    "\n",
    "def rotate(nums,k):\n",
    "    \n",
    "    for i in range(len(nums)-1,k,-1):\n",
    "        #print(\"N = \",n)\n",
    "        nums.insert(0,nums[-1])\n",
    "        del nums[-1]\n",
    "        print(\"Modified nums : \",nums)\n",
    "    return nums\n",
    "rotate([1,2,3,4,5,6,7],3)"
   ]
  },
  {
   "cell_type": "code",
   "execution_count": null,
   "metadata": {},
   "outputs": [],
   "source": [
    "def rotate(nums,k):\n",
    "    n=0\n",
    "    for i in range(n,k):\n",
    "        list.insert\n",
    "        del nums[0]\n",
    "        print(\"Modified nums : \",nums)\n",
    "    return nums\n",
    "rotate([1,2,3,4,5,6,7],3)"
   ]
  },
  {
   "cell_type": "code",
   "execution_count": 37,
   "metadata": {},
   "outputs": [
    {
     "name": "stdout",
     "output_type": "stream",
     "text": [
      "{'z', 'a', 'b'}\n",
      "a\n",
      "z\n",
      "[0, 4, 2]\n"
     ]
    },
    {
     "data": {
      "text/plain": [
       "False"
      ]
     },
     "execution_count": 37,
     "metadata": {},
     "output_type": "execute_result"
    }
   ],
   "source": [
    "## Is Subsequence\n",
    "\n",
    "def isSubsequence(x,t):\n",
    "    s=set(x)\n",
    "    print(set(t))\n",
    "    lst =[ch for ch in t]\n",
    "    id = []\n",
    "    for i in s:\n",
    "        print(i)\n",
    "        for j in range(len(lst)):\n",
    "            if i==lst[j] and :\n",
    "                id.append(j)\n",
    "    print(id)\n",
    "    for n in range(len(id)-1,0,-1):\n",
    "        if id[n]>id[n-1]:\n",
    "            continue\n",
    "        else:\n",
    "            return False\n",
    "    return True\n",
    "\n",
    "isSubsequence(\"aza\",\"abzba\")"
   ]
  },
  {
   "cell_type": "code",
   "execution_count": 5,
   "metadata": {},
   "outputs": [
    {
     "name": "stdout",
     "output_type": "stream",
     "text": [
      "9.26100\n"
     ]
    }
   ],
   "source": [
    "## Pow(x,N)\n",
    "\n",
    "class Solution:\n",
    "    def myPow(self, x: float, n: int) -> float:\n",
    "        return x**n"
   ]
  },
  {
   "cell_type": "code",
   "execution_count": 11,
   "metadata": {},
   "outputs": [
    {
     "data": {
      "text/plain": [
       "True"
      ]
     },
     "execution_count": 11,
     "metadata": {},
     "output_type": "execute_result"
    }
   ],
   "source": [
    "## Palindrome Number\n",
    "\n",
    "def isPalindrome(x):\n",
    "    n = str(x)\n",
    "    lst = list(n)\n",
    "    if lst == lst[::-1]:\n",
    "        return True\n",
    "    return False\n",
    "\n",
    "isPalindrome(101)"
   ]
  },
  {
   "cell_type": "code",
   "execution_count": 16,
   "metadata": {},
   "outputs": [
    {
     "data": {
      "text/plain": [
       "0"
      ]
     },
     "execution_count": 16,
     "metadata": {},
     "output_type": "execute_result"
    }
   ],
   "source": [
    "## Best Time to Buy and Sell Stock\n",
    "\n",
    "def maxProfit(prices):\n",
    "    lst_min = prices.index(min(prices))\n",
    "    lst_max =0\n",
    "    max_val=min(prices)\n",
    "    if lst_min == len(prices)-1:\n",
    "        return 0\n",
    "    else:\n",
    "        for i in range(lst_min,len(prices)):\n",
    "            if prices[i]>max_val:\n",
    "                max_val = prices[i]\n",
    "                lst_max=i\n",
    "    return prices[lst_max]-prices[lst_min]\n",
    "    \n",
    "\n",
    "maxProfit([2,4,1])"
   ]
  },
  {
   "cell_type": "code",
   "execution_count": 17,
   "metadata": {},
   "outputs": [
    {
     "name": "stdout",
     "output_type": "stream",
     "text": [
      "5\n",
      "0\n"
     ]
    }
   ],
   "source": [
    "def maxProfit(prices):\n",
    "    lst_min = prices.index(min(prices))\n",
    "    lst_max = 0\n",
    "    max_val = min(prices)\n",
    "    if lst_min == len(prices) - 1:\n",
    "        return 0\n",
    "    else:\n",
    "        for i in range(lst_min, len(prices)):\n",
    "            if prices[i] > max_val:\n",
    "                max_val = prices[i]\n",
    "                lst_max = i  # Use the current index `i` directly\n",
    "    return prices[lst_max] - prices[lst_min]\n",
    "\n",
    "# Test cases\n",
    "print(maxProfit([7, 1, 5, 3, 6, 4]))  # Output: 5\n",
    "print(maxProfit([2, 4, 1]))           # Output: 2\n"
   ]
  },
  {
   "cell_type": "code",
   "execution_count": 18,
   "metadata": {},
   "outputs": [
    {
     "name": "stdout",
     "output_type": "stream",
     "text": [
      "5\n",
      "2\n"
     ]
    }
   ],
   "source": [
    "def maxProfit(prices):\n",
    "    lst_min = 0\n",
    "    max_profit = 0\n",
    "\n",
    "    for i in range(1, len(prices)):\n",
    "        if prices[i] < prices[lst_min]:\n",
    "            lst_min = i  # Update the minimum price index\n",
    "        else:\n",
    "            # Calculate profit if sold at the current price\n",
    "            max_profit = max(max_profit, prices[i] - prices[lst_min])\n",
    "\n",
    "    return max_profit\n",
    "\n",
    "# Test cases\n",
    "print(maxProfit([7, 1, 5, 3, 6, 4]))  # Output: 5\n",
    "print(maxProfit([2, 4, 1]))           # Output: 2\n"
   ]
  },
  {
   "cell_type": "code",
   "execution_count": 11,
   "metadata": {},
   "outputs": [
    {
     "data": {
      "text/plain": [
       "4"
      ]
     },
     "execution_count": 11,
     "metadata": {},
     "output_type": "execute_result"
    }
   ],
   "source": [
    "## Search in rotated sorted array\n",
    "\n",
    "class Solution:\n",
    "    def search(self, nums, target):\n",
    "        s=0\n",
    "        e=len(nums)-1\n",
    "        while s<=e:\n",
    "           if nums[s]==target:\n",
    "               return s\n",
    "           else:\n",
    "               s=s+1\n",
    "        return -1\n",
    "s=Solution()    \n",
    "s.search([4,5,6,7,0,1,2],0)"
   ]
  },
  {
   "cell_type": "code",
   "execution_count": null,
   "metadata": {},
   "outputs": [],
   "source": [
    "class Solution:\n",
    "    def search(self, nums, target):\n",
    "        s = 0\n",
    "        e = len(nums) - 1\n",
    "        \n",
    "        while s <= e:\n",
    "            mid = (s + e) // 2  \n",
    "            \n",
    "            if nums[mid] == target:\n",
    "                return mid  \n",
    "            if nums[s] <= nums[mid]:\n",
    "                if nums[s] <= target < nums[mid]:  \n",
    "                    e = mid - 1\n",
    "                else:  \n",
    "                    s = mid + 1\n",
    "            \n",
    "           \n",
    "            else:\n",
    "                if nums[mid] < target <= nums[e]:  \n",
    "                    s = mid + 1\n",
    "                else:  \n",
    "                    e = mid - 1\n",
    "        \n",
    "        return -1  \n",
    "\n",
    "s = Solution()\n",
    "print(s.search([4, 5, 6, 7, 0, 1, 2], 0))  # Output: 4\n"
   ]
  },
  {
   "cell_type": "code",
   "execution_count": 28,
   "metadata": {},
   "outputs": [
    {
     "ename": "ValueError",
     "evalue": "Exceeds the limit (4300 digits) for integer string conversion; use sys.set_int_max_str_digits() to increase the limit",
     "output_type": "error",
     "traceback": [
      "\u001b[1;31m---------------------------------------------------------------------------\u001b[0m",
      "\u001b[1;31mValueError\u001b[0m                                Traceback (most recent call last)",
      "Cell \u001b[1;32mIn[28], line 25\u001b[0m\n\u001b[0;32m     13\u001b[0m     \u001b[38;5;28mprint\u001b[39m(fact)\n\u001b[0;32m     14\u001b[0m \u001b[38;5;250m    \u001b[39m\u001b[38;5;124;03m'''\u001b[39;00m\n\u001b[0;32m     15\u001b[0m \u001b[38;5;124;03m    lst = list(str(fact))\u001b[39;00m\n\u001b[0;32m     16\u001b[0m \u001b[38;5;124;03m    count = 0\u001b[39;00m\n\u001b[1;32m   (...)\u001b[0m\n\u001b[0;32m     21\u001b[0m \u001b[38;5;124;03m            return count\u001b[39;00m\n\u001b[0;32m     22\u001b[0m \u001b[38;5;124;03m    '''\u001b[39;00m\n\u001b[1;32m---> 25\u001b[0m \u001b[43mtrailingzeroes\u001b[49m\u001b[43m(\u001b[49m\u001b[38;5;241;43m1574\u001b[39;49m\u001b[43m)\u001b[49m\n",
      "Cell \u001b[1;32mIn[28], line 13\u001b[0m, in \u001b[0;36mtrailingzeroes\u001b[1;34m(n)\u001b[0m\n\u001b[0;32m     10\u001b[0m \u001b[38;5;28;01mdef\u001b[39;00m \u001b[38;5;21mtrailingzeroes\u001b[39m(n):\n\u001b[0;32m     12\u001b[0m     fact \u001b[38;5;241m=\u001b[39m factorial(n)\n\u001b[1;32m---> 13\u001b[0m     \u001b[38;5;28;43mprint\u001b[39;49m\u001b[43m(\u001b[49m\u001b[43mfact\u001b[49m\u001b[43m)\u001b[49m\n\u001b[0;32m     14\u001b[0m \u001b[38;5;250m    \u001b[39m\u001b[38;5;124;03m'''\u001b[39;00m\n\u001b[0;32m     15\u001b[0m \u001b[38;5;124;03m    lst = list(str(fact))\u001b[39;00m\n\u001b[0;32m     16\u001b[0m \u001b[38;5;124;03m    count = 0\u001b[39;00m\n\u001b[1;32m   (...)\u001b[0m\n\u001b[0;32m     21\u001b[0m \u001b[38;5;124;03m            return count\u001b[39;00m\n\u001b[0;32m     22\u001b[0m \u001b[38;5;124;03m    '''\u001b[39;00m\n",
      "\u001b[1;31mValueError\u001b[0m: Exceeds the limit (4300 digits) for integer string conversion; use sys.set_int_max_str_digits() to increase the limit"
     ]
    }
   ],
   "source": [
    "## Factorial Trailing Zeroes\n",
    "def factorial(n):\n",
    "    if n==0:\n",
    "        return 0\n",
    "    elif n==1:\n",
    "        return 1\n",
    "    else:\n",
    "        return n*factorial(n-1)\n",
    "\n",
    "def trailingzeroes(n):\n",
    "\n",
    "    fact = factorial(n)\n",
    "    print(fact)\n",
    "    '''\n",
    "    lst = list(str(fact))\n",
    "    count = 0\n",
    "    for i in range(len(lst)-1,-1,-1):\n",
    "        if lst[i]=='0':\n",
    "            count = count+1\n",
    "        else:\n",
    "            return count\n",
    "    '''\n",
    "    \n",
    "    \n",
    "trailingzeroes(1574)\n"
   ]
  },
  {
   "cell_type": "code",
   "execution_count": 1,
   "metadata": {},
   "outputs": [
    {
     "ename": "ModuleNotFoundError",
     "evalue": "No module named 'numpy'",
     "output_type": "error",
     "traceback": [
      "\u001b[1;31m---------------------------------------------------------------------------\u001b[0m",
      "\u001b[1;31mModuleNotFoundError\u001b[0m                       Traceback (most recent call last)",
      "Cell \u001b[1;32mIn[1], line 2\u001b[0m\n\u001b[0;32m      1\u001b[0m \u001b[38;5;66;03m## Reverse bits\u001b[39;00m\n\u001b[1;32m----> 2\u001b[0m \u001b[38;5;28;01mimport\u001b[39;00m \u001b[38;5;21;01mnumpy\u001b[39;00m \u001b[38;5;28;01mas\u001b[39;00m \u001b[38;5;21;01mnp\u001b[39;00m\n\u001b[0;32m      3\u001b[0m n \u001b[38;5;241m=\u001b[39m np\u001b[38;5;241m.\u001b[39mint32(\u001b[38;5;241m0b00000010100101000001111010011100\u001b[39m)\n",
      "\u001b[1;31mModuleNotFoundError\u001b[0m: No module named 'numpy'"
     ]
    }
   ],
   "source": [
    "## Reverse bits\n",
    "import numpy as np\n",
    "n = np.int32(0b00000010100101000001111010011100)\n"
   ]
  },
  {
   "cell_type": "code",
   "execution_count": 3,
   "metadata": {},
   "outputs": [
    {
     "data": {
      "text/plain": [
       "1"
      ]
     },
     "execution_count": 3,
     "metadata": {},
     "output_type": "execute_result"
    }
   ],
   "source": [
    "7//5"
   ]
  },
  {
   "cell_type": "code",
   "execution_count": 4,
   "metadata": {},
   "outputs": [
    {
     "data": {
      "text/plain": [
       "0"
      ]
     },
     "execution_count": 4,
     "metadata": {},
     "output_type": "execute_result"
    }
   ],
   "source": [
    "1//5"
   ]
  },
  {
   "cell_type": "code",
   "execution_count": null,
   "metadata": {},
   "outputs": [],
   "source": [
    "## Word pattern\n",
    "\n",
    "class Solution:\n",
    "    def wordPattern(self, pattern: str, s: str) -> bool:\n",
    "        l1=set(pattern)\n",
    "        l2=set(str.split(s,\" \"))\n",
    "        if len(l1)==len(l2):\n",
    "            return True\n",
    "        return False"
   ]
  },
  {
   "cell_type": "code",
   "execution_count": null,
   "metadata": {},
   "outputs": [],
   "source": [
    "## Pascal triangle 2\n",
    "\n",
    "class Solution:\n",
    "    def getRow(self, n: int) -> List[int]:\n",
    "        n=n+1\n",
    "        lst = []\n",
    "        lst_final=[]\n",
    "        for i in range(n):\n",
    "            if i==0:\n",
    "                lst.append(1)\n",
    "                lst_final.append(lst.copy())\n",
    "                lst.clear()\n",
    "    \n",
    "            else:\n",
    "                for j in range(i+1):\n",
    "                    if j==0 or j==(i):\n",
    "                        lst.append(1)\n",
    "                    else:\n",
    "                        lst.append(lst_final[i-1][j-1]+lst_final[i-1][j])\n",
    "                lst_final.append(lst.copy())\n",
    "                lst.clear()          \n",
    "        return lst_final[-1]\n",
    "        "
   ]
  },
  {
   "cell_type": "code",
   "execution_count": null,
   "metadata": {},
   "outputs": [],
   "source": [
    "## Contains Duplicate\n",
    "\n",
    "class Solution:\n",
    "    def containsDuplicate(self, nums: List[int]) -> bool:\n",
    "        return len(set(nums))!=len(nums)"
   ]
  },
  {
   "cell_type": "code",
   "execution_count": 24,
   "metadata": {},
   "outputs": [
    {
     "name": "stdout",
     "output_type": "stream",
     "text": [
      "True\n"
     ]
    }
   ],
   "source": [
    "## Happy number\n",
    "\n",
    "def isHappy(n):\n",
    "    if n>=1 and n<10:\n",
    "        if n==1 or n==7:\n",
    "            return True\n",
    "        else:\n",
    "            return False\n",
    "    m=0\n",
    "    for i in str(n):\n",
    "       m= m+int(i)**2\n",
    "    return isHappy(m)\n",
    "print(isHappy(7))\n",
    "\n",
    "    "
   ]
  },
  {
   "cell_type": "code",
   "execution_count": 8,
   "metadata": {},
   "outputs": [
    {
     "data": {
      "text/plain": [
       "81"
      ]
     },
     "execution_count": 8,
     "metadata": {},
     "output_type": "execute_result"
    }
   ],
   "source": [
    "(19%10)**2"
   ]
  },
  {
   "cell_type": "code",
   "execution_count": 10,
   "metadata": {},
   "outputs": [
    {
     "name": "stdout",
     "output_type": "stream",
     "text": [
      "163\n"
     ]
    }
   ],
   "source": [
    "n=0\n",
    "for i in str(199):\n",
    "    n= n+int(i)**2\n",
    "print(n)\n"
   ]
  },
  {
   "cell_type": "code",
   "execution_count": 17,
   "metadata": {},
   "outputs": [
    {
     "name": "stdout",
     "output_type": "stream",
     "text": [
      "m[i][k]= 0\n",
      "m[i][k]= 0\n",
      "m[i][k]= 0\n",
      "m[j][n]= 0\n",
      "m[j][n]= 0\n",
      "m[j][n]= 0\n"
     ]
    },
    {
     "data": {
      "text/plain": [
       "[[0, 0, 0], [1, 1, 1], [1, 1, 1]]"
      ]
     },
     "execution_count": 17,
     "metadata": {},
     "output_type": "execute_result"
    }
   ],
   "source": [
    "## Set to zeroes\n",
    "\n",
    "m=[[0,1,1],\n",
    "   [1,1,1],\n",
    "   [1,1,1]]\n",
    "\n",
    "for i in range(len(m)):\n",
    "    for j in range(len(m)):\n",
    "        if m[i][j]==0:\n",
    "            for k in range(len(m[0])):\n",
    "                m[i][k]=0\n",
    "                print(\"m[i][k]=\",m[i][k])\n",
    "            for n in range(len(m)):\n",
    "                m[j][n]=0\n",
    "                print(\"m[j][n]=\",m[j][n])\n",
    "        break\n",
    "m\n",
    "\n"
   ]
  },
  {
   "cell_type": "code",
   "execution_count": 4,
   "metadata": {},
   "outputs": [
    {
     "data": {
      "text/plain": [
       "[[1, 1, 1], [0, 0, 0], [1, 1, 1]]"
      ]
     },
     "execution_count": 4,
     "metadata": {},
     "output_type": "execute_result"
    }
   ],
   "source": [
    "m"
   ]
  },
  {
   "cell_type": "code",
   "execution_count": 16,
   "metadata": {},
   "outputs": [
    {
     "name": "stdout",
     "output_type": "stream",
     "text": [
      "J is running.. 0\n",
      "J value =  0\n",
      "J is running.. 1\n",
      "J value =  1\n",
      "J is running.. 2\n",
      "J value =  2\n",
      "J is running.. 0\n",
      "J value =  0\n",
      "J is running.. 1\n",
      "Entered into m[i][j]...\n",
      "Entered into k loop...\n",
      "0\n",
      "After i updation [[1, 1, 1], [0, 0, 1], [1, 1, 1]]\n",
      "0\n",
      "After j updation [[1, 1, 1], [0, 0, 1], [1, 1, 1]]\n",
      "Entered into k loop...\n",
      "0\n",
      "After i updation [[1, 1, 1], [0, 0, 1], [1, 1, 1]]\n",
      "0\n",
      "After j updation [[1, 1, 1], [0, 0, 1], [1, 1, 1]]\n",
      "Entered into k loop...\n",
      "0\n",
      "After i updation [[1, 1, 1], [0, 0, 0], [1, 1, 1]]\n",
      "0\n",
      "After j updation [[1, 1, 1], [0, 0, 0], [1, 1, 1]]\n",
      "J value =  1\n",
      "J is running.. 2\n",
      "Entered into m[i][j]...\n",
      "Entered into k loop...\n",
      "0\n",
      "After i updation [[1, 1, 1], [0, 0, 0], [1, 1, 1]]\n",
      "0\n",
      "After j updation [[1, 1, 1], [0, 0, 0], [0, 1, 1]]\n",
      "Entered into k loop...\n",
      "0\n",
      "After i updation [[1, 1, 1], [0, 0, 0], [0, 1, 1]]\n",
      "0\n",
      "After j updation [[1, 1, 1], [0, 0, 0], [0, 0, 1]]\n",
      "Entered into k loop...\n",
      "0\n",
      "After i updation [[1, 1, 1], [0, 0, 0], [0, 0, 1]]\n",
      "0\n",
      "After j updation [[1, 1, 1], [0, 0, 0], [0, 0, 0]]\n",
      "J value =  2\n",
      "J is running.. 0\n",
      "Entered into m[i][j]...\n",
      "Entered into k loop...\n",
      "0\n",
      "After i updation [[1, 1, 1], [0, 0, 0], [0, 0, 0]]\n",
      "0\n",
      "After j updation [[0, 1, 1], [0, 0, 0], [0, 0, 0]]\n",
      "Entered into k loop...\n",
      "0\n",
      "After i updation [[0, 1, 1], [0, 0, 0], [0, 0, 0]]\n",
      "0\n",
      "After j updation [[0, 0, 1], [0, 0, 0], [0, 0, 0]]\n",
      "Entered into k loop...\n",
      "0\n",
      "After i updation [[0, 0, 1], [0, 0, 0], [0, 0, 0]]\n",
      "0\n",
      "After j updation [[0, 0, 0], [0, 0, 0], [0, 0, 0]]\n",
      "J value =  0\n",
      "J is running.. 1\n",
      "Entered into m[i][j]...\n",
      "Entered into k loop...\n",
      "0\n",
      "After i updation [[0, 0, 0], [0, 0, 0], [0, 0, 0]]\n",
      "0\n",
      "After j updation [[0, 0, 0], [0, 0, 0], [0, 0, 0]]\n",
      "Entered into k loop...\n",
      "0\n",
      "After i updation [[0, 0, 0], [0, 0, 0], [0, 0, 0]]\n",
      "0\n",
      "After j updation [[0, 0, 0], [0, 0, 0], [0, 0, 0]]\n",
      "Entered into k loop...\n",
      "0\n",
      "After i updation [[0, 0, 0], [0, 0, 0], [0, 0, 0]]\n",
      "0\n",
      "After j updation [[0, 0, 0], [0, 0, 0], [0, 0, 0]]\n",
      "J value =  1\n",
      "J is running.. 2\n",
      "Entered into m[i][j]...\n",
      "Entered into k loop...\n",
      "0\n",
      "After i updation [[0, 0, 0], [0, 0, 0], [0, 0, 0]]\n",
      "0\n",
      "After j updation [[0, 0, 0], [0, 0, 0], [0, 0, 0]]\n",
      "Entered into k loop...\n",
      "0\n",
      "After i updation [[0, 0, 0], [0, 0, 0], [0, 0, 0]]\n",
      "0\n",
      "After j updation [[0, 0, 0], [0, 0, 0], [0, 0, 0]]\n",
      "Entered into k loop...\n",
      "0\n",
      "After i updation [[0, 0, 0], [0, 0, 0], [0, 0, 0]]\n",
      "0\n",
      "After j updation [[0, 0, 0], [0, 0, 0], [0, 0, 0]]\n",
      "J value =  2\n"
     ]
    },
    {
     "data": {
      "text/plain": [
       "[[0, 0, 0], [0, 0, 0], [0, 0, 0]]"
      ]
     },
     "execution_count": 16,
     "metadata": {},
     "output_type": "execute_result"
    }
   ],
   "source": [
    "## Set to zeroes\n",
    "\n",
    "m=[[1,1,1],\n",
    "   [1,0,1],\n",
    "   [1,1,1]]\n",
    "\n",
    "for i in range(len(m)):\n",
    "    for j in range(len(m)):\n",
    "        print(\"J is running..\",j)\n",
    "        if m[i][j]==0:\n",
    "            print(\"Entered into m[i][j]...\")\n",
    "            for k in range(len(m[0])):\n",
    "                print(\"Entered into k loop...\")\n",
    "                m[i][k]=0\n",
    "                print(m[i][k])\n",
    "                print(\"After i updation\",m)\n",
    "                m[j][k] =0\n",
    "                print(m[j][k])\n",
    "                print(\"After j updation\",m)\n",
    "        print(\"J value = \",j)\n",
    "                #m[j][k]=0       \n",
    "m"
   ]
  },
  {
   "cell_type": "code",
   "execution_count": 18,
   "metadata": {},
   "outputs": [
    {
     "name": "stdout",
     "output_type": "stream",
     "text": [
      "[1, 0, 0]\n",
      "[0, 0, 0]\n",
      "[0, 0, 0]\n"
     ]
    }
   ],
   "source": [
    "m = [[1, 1, 1],\n",
    "     [1, 0, 1],\n",
    "     [1, 1, 1]]\n",
    "\n",
    "for i in range(len(m)):\n",
    "    for j in range(len(m[0])): \n",
    "        if m[i][j] == 0:\n",
    "            for k in range(len(m[0])):  \n",
    "                m[i][k] = 0\n",
    "            for k in range(len(m)):  \n",
    "                m[k][j] = 0\n",
    "for row in m:\n",
    "    print(row)\n"
   ]
  },
  {
   "cell_type": "code",
   "execution_count": 21,
   "metadata": {},
   "outputs": [
    {
     "name": "stdout",
     "output_type": "stream",
     "text": [
      "[0, 0, 0]\n",
      "[0, 1, 0]\n",
      "[0, 1, 0]\n"
     ]
    }
   ],
   "source": [
    "m = [[0, 1, 0],\n",
    "     [1, 1, 1],\n",
    "     [1, 1, 1]]\n",
    "\n",
    "rows = len(m)\n",
    "cols = len(m[0])\n",
    "row_zeroes = set()\n",
    "col_zeroes = set()\n",
    "\n",
    "for i in range(rows):\n",
    "    for j in range(cols):\n",
    "        if m[i][j] == 0:\n",
    "            row_zeroes.add(i)\n",
    "            col_zeroes.add(j)\n",
    "for i in row_zeroes:\n",
    "    for j in range(cols):\n",
    "        m[i][j] = 0\n",
    "\n",
    "for j in col_zeroes:\n",
    "    for i in range(rows):\n",
    "        m[i][j] = 0\n",
    "for row in m:\n",
    "    print(row)\n"
   ]
  },
  {
   "cell_type": "code",
   "execution_count": 11,
   "metadata": {},
   "outputs": [
    {
     "name": "stdout",
     "output_type": "stream",
     "text": [
      "365\n"
     ]
    }
   ],
   "source": [
    "## Best Time to Buy and Sell Stock II\n",
    "\n",
    "class Solution:\n",
    "    def maxProfit(self,prices):\n",
    "        sum=0\n",
    "        for i in range(len(prices)-1):\n",
    "            if prices[i+1]>prices[i]:\n",
    "                sum=sum+(prices[i+1]-prices[i])\n",
    "        return sum\n",
    "\n",
    "s=Solution()\n",
    "ans=s.maxProfit([87, 42, 56, 78, 4, 26, 93, 10, 64, 35, 85, 50, 97, 11, 76, 100])\n",
    "print(ans)"
   ]
  },
  {
   "cell_type": "code",
   "execution_count": 8,
   "metadata": {},
   "outputs": [
    {
     "name": "stdout",
     "output_type": "stream",
     "text": [
      "[1, 3]\n"
     ]
    }
   ],
   "source": [
    "## Two sum -|| Input array is sorted\n",
    "def twoSum( numbers, target):\n",
    "        index=[]\n",
    "        for i in range(len(numbers)):\n",
    "            for j in range(i+1,len(numbers)):\n",
    "                sum = numbers[i]+numbers[j]\n",
    "                if (sum)==target:\n",
    "                    index.append(i+1)\n",
    "                    index.append(j+1)\n",
    "                    break\n",
    "        return index\n",
    "print(twoSum([2,3,4],6))"
   ]
  },
  {
   "cell_type": "code",
   "execution_count": null,
   "metadata": {},
   "outputs": [],
   "source": [
    "## Merge two sorted lists\n",
    "class Solution:\n",
    "    def mergeTwoLists(self, list1: Optional[ListNode], list2: Optional[ListNode]) -> Optional[ListNode]:\n",
    "        def convert_into_lists_and_mix_into_one(list1,list2):\n",
    "            final_list = []\n",
    "            temp=list1\n",
    "            while(temp!=None):\n",
    "                final_list.append(temp.val)\n",
    "                temp=temp.next\n",
    "            temp1=list2\n",
    "            while(temp1!=None):\n",
    "                final_list.append(temp1.val)\n",
    "                temp1=temp1.next\n",
    "            return sorted(final_list)\n",
    "        final_lst = convert_into_lists_and_mix_into_one(list1,list2)\n",
    "        def convert_to_linked_list(lst):\n",
    "            dummy = ListNode(0)\n",
    "            tail = dummy\n",
    "            for val in lst:\n",
    "                tail.next = ListNode(val)\n",
    "                tail = tail.next\n",
    "            \n",
    "            return dummy.next\n",
    "        ans= convert_to_linked_list(final_lst)\n",
    "        return ans"
   ]
  },
  {
   "cell_type": "code",
   "execution_count": null,
   "metadata": {},
   "outputs": [],
   "source": [
    "## Reverse Linked List II\n",
    "\n",
    "class Solution:\n",
    "    def reverseBetween(self, head: Optional[ListNode], left: int, right: int) -> Optional[ListNode]:\n",
    "        def convert_linked_list_into_list_and_reverse(lt,rt,head):\n",
    "            left = lt-1\n",
    "            right= rt-1\n",
    "            lst=[]\n",
    "            temp=head\n",
    "            while(temp!=None):\n",
    "                lst.append(temp.d)\n",
    "                temp=temp.next\n",
    "            while left<right:\n",
    "                temp = lst[left]\n",
    "                lst[left] = lst[right]\n",
    "                lst[right] = temp\n",
    "                left=left+1\n",
    "                right=right-1\n",
    "            return lst\n",
    "        llst = convert_linked_list_into_list_and_reverse(left,right,head)\n",
    "        def convert_to_linked_list(lst):\n",
    "            dummy = ListNode(0)\n",
    "            tail = dummy\n",
    "            for val in lst:\n",
    "                tail.next = ListNode(val)\n",
    "                tail = tail.next\n",
    "            \n",
    "            return dummy.next\n",
    "        ans = convert_to_linked_list(llst)\n",
    "        return ans\n",
    "\n"
   ]
  }
 ],
 "metadata": {
  "kernelspec": {
   "display_name": "Python 3",
   "language": "python",
   "name": "python3"
  },
  "language_info": {
   "codemirror_mode": {
    "name": "ipython",
    "version": 3
   },
   "file_extension": ".py",
   "mimetype": "text/x-python",
   "name": "python",
   "nbconvert_exporter": "python",
   "pygments_lexer": "ipython3",
   "version": "3.13.0"
  }
 },
 "nbformat": 4,
 "nbformat_minor": 2
}
