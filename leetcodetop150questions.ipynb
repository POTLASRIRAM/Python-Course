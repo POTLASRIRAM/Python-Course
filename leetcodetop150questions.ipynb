{
 "cells": [
  {
   "cell_type": "code",
   "execution_count": 10,
   "metadata": {},
   "outputs": [
    {
     "name": "stdout",
     "output_type": "stream",
     "text": [
      "4\n"
     ]
    }
   ],
   "source": [
    "## Search Insert Position\n",
    "\n",
    "def searchInsert(nums,target):\n",
    "    s=0\n",
    "    e=len(nums)-1\n",
    "    while s<=e:\n",
    "        if target == nums[s]:\n",
    "            return s\n",
    "        elif target<nums[s]:\n",
    "            return s\n",
    "        elif target>nums[s]:\n",
    "            s=s+1\n",
    "    return s\n",
    "\n",
    "l = searchInsert(nums=[1,3,5,6],target=7)\n",
    "print(l)"
   ]
  },
  {
   "cell_type": "code",
   "execution_count": 14,
   "metadata": {},
   "outputs": [
    {
     "name": "stdout",
     "output_type": "stream",
     "text": [
      "Mid =  1\n",
      "Mid =  2\n",
      "Mid =  3\n",
      "4\n"
     ]
    }
   ],
   "source": [
    "## Search Insert Position using binary search\n",
    "def searchInsert(nums,target):\n",
    "    s=0\n",
    "    e=len(nums)-1\n",
    "    while s<=e:\n",
    "        mid = (s+e)//2\n",
    "        print(\"Mid = \",mid)\n",
    "        if target == nums[mid]:\n",
    "            return mid\n",
    "        elif target<nums[mid]:\n",
    "            e=mid-1\n",
    "            \n",
    "        elif target>nums[mid]:\n",
    "            s=mid+1\n",
    "    return s\n",
    "\n",
    "l = searchInsert(nums=[1,3,5,6],target=7)\n",
    "print(l)"
   ]
  },
  {
   "cell_type": "code",
   "execution_count": 18,
   "metadata": {},
   "outputs": [],
   "source": [
    "## Sqrt(x)\n",
    "import math\n",
    "class Solution:\n",
    "    def mySqrt(x):\n",
    "        return math.floor(math.sqrt(x))\n",
    "        \n",
    "\n",
    "    mySqrt(8)\n"
   ]
  },
  {
   "cell_type": "code",
   "execution_count": 20,
   "metadata": {},
   "outputs": [
    {
     "name": "stdout",
     "output_type": "stream",
     "text": [
      "2.8284271247461903\n"
     ]
    }
   ],
   "source": [
    "print(8**(1/2))"
   ]
  },
  {
   "cell_type": "code",
   "execution_count": null,
   "metadata": {},
   "outputs": [],
   "source": []
  }
 ],
 "metadata": {
  "kernelspec": {
   "display_name": "Python 3",
   "language": "python",
   "name": "python3"
  },
  "language_info": {
   "codemirror_mode": {
    "name": "ipython",
    "version": 3
   },
   "file_extension": ".py",
   "mimetype": "text/x-python",
   "name": "python",
   "nbconvert_exporter": "python",
   "pygments_lexer": "ipython3",
   "version": "3.13.0"
  }
 },
 "nbformat": 4,
 "nbformat_minor": 2
}
