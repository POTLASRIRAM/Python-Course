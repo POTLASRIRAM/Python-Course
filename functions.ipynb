{
 "cells": [
  {
   "cell_type": "code",
   "execution_count": 8,
   "metadata": {},
   "outputs": [
    {
     "name": "stdout",
     "output_type": "stream",
     "text": [
      "1\n",
      "2\n",
      "3\n",
      "4\n",
      "name : Sam\n",
      "age : 32\n"
     ]
    }
   ],
   "source": [
    "## Positional and keyword arguments\n",
    "def args(*args,**kwargs):\n",
    "    '''This is an example for positional and keyword aruguments in functions'''\n",
    "    for i in args :\n",
    "        print(i)\n",
    "    for j,k in kwargs.items() :\n",
    "        \n",
    "        print(f\"{j} : {k}\")\n",
    "args(1,2,3,4,name = 'Sam',age = 32)"
   ]
  },
  {
   "cell_type": "code",
   "execution_count": null,
   "metadata": {},
   "outputs": [],
   "source": []
  }
 ],
 "metadata": {
  "kernelspec": {
   "display_name": "Python 3",
   "language": "python",
   "name": "python3"
  },
  "language_info": {
   "codemirror_mode": {
    "name": "ipython",
    "version": 3
   },
   "file_extension": ".py",
   "mimetype": "text/x-python",
   "name": "python",
   "nbconvert_exporter": "python",
   "pygments_lexer": "ipython3",
   "version": "3.13.0"
  }
 },
 "nbformat": 4,
 "nbformat_minor": 2
}
