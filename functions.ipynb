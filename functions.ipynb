{
 "cells": [
  {
   "cell_type": "code",
   "execution_count": 8,
   "metadata": {},
   "outputs": [
    {
     "name": "stdout",
     "output_type": "stream",
     "text": [
      "1\n",
      "2\n",
      "3\n",
      "4\n",
      "name : Sam\n",
      "age : 32\n"
     ]
    }
   ],
   "source": [
    "## Positional and keyword arguments\n",
    "def args(*args,**kwargs):\n",
    "    '''This is an example for positional and keyword aruguments in functions'''\n",
    "    for i in args :\n",
    "        print(i)\n",
    "    for j,k in kwargs.items() :\n",
    "        \n",
    "        print(f\"{j} : {k}\")\n",
    "args(1,2,3,4,name = 'Sam',age = 32)"
   ]
  },
  {
   "cell_type": "code",
   "execution_count": 2,
   "metadata": {},
   "outputs": [
    {
     "name": "stdout",
     "output_type": "stream",
     "text": [
      "32\n"
     ]
    }
   ],
   "source": [
    "## Temperature Conversion\n",
    "temp = int(input(\"Enter temperature : \"))\n",
    "temp_type = str(input(\"Enter temp type : \"))\n",
    "\n",
    "def temp_conv(temp,temp_type):\n",
    "    if temp_type =='c' :\n",
    "        return int(temp* 9/5 + 32)\n",
    "    elif temp_type == 'f' :\n",
    "        return int((temp - 32) * 5/9)\n",
    "    else :\n",
    "        print(\"Please enter correct temperature type\")\n",
    "print(temp_conv(temp,temp_type))"
   ]
  },
  {
   "cell_type": "code",
   "execution_count": null,
   "metadata": {},
   "outputs": [],
   "source": [
    "## Password Strength checker\n",
    "password = str(input(\"Enter your password : \"))\n",
    "\n",
    "def password_checker(pwd):\n",
    "    if pwd.\n",
    "\n",
    "\n",
    "print(password_checker(password))"
   ]
  }
 ],
 "metadata": {
  "kernelspec": {
   "display_name": "Python 3",
   "language": "python",
   "name": "python3"
  },
  "language_info": {
   "codemirror_mode": {
    "name": "ipython",
    "version": 3
   },
   "file_extension": ".py",
   "mimetype": "text/x-python",
   "name": "python",
   "nbconvert_exporter": "python",
   "pygments_lexer": "ipython3",
   "version": "3.13.0"
  }
 },
 "nbformat": 4,
 "nbformat_minor": 2
}
