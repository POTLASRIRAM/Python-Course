{
 "cells": [
  {
   "cell_type": "code",
   "execution_count": 5,
   "metadata": {},
   "outputs": [
    {
     "name": "stdout",
     "output_type": "stream",
     "text": [
      "['***', '***', '***']\n"
     ]
    }
   ],
   "source": [
    "## Square of Side 'N'\n",
    "no = int(input(\"Enter a number : \"))\n",
    "\n",
    "def square_pattern(no) : ##4\n",
    "    lst = []\n",
    "    for i in range(no):  ##0123 4\n",
    "        strr = ''\n",
    "        for j in range(no): ## 0 1 2 3\n",
    "            ptrn = '*'\n",
    "            strr = strr+ptrn  ## *  **  ***  ****\n",
    "        lst.append(strr)\n",
    "    \n",
    "    return lst\n",
    "\n",
    "\n",
    "result = square_pattern(no)  ## 4\n",
    "\n",
    "print(result)"
   ]
  },
  {
   "cell_type": "code",
   "execution_count": 1,
   "metadata": {},
   "outputs": [
    {
     "name": "stdout",
     "output_type": "stream",
     "text": [
      "['*****', '*****', '*****', '*****']\n"
     ]
    }
   ],
   "source": [
    "## Rectangle Pattern\n",
    "\n",
    "n = int(input(\"Enter number of rows : \"))\n",
    "m = int(input(\"Enter number of columns : \"))\n",
    "def square_pattern(n,m) : ##4\n",
    "    lst = []\n",
    "    for i in range(n):  ##0123 4\n",
    "        strr = ''\n",
    "        for j in range(m): ## 0 1 2 3\n",
    "            ptrn = '*'\n",
    "            strr = strr+ptrn  ## *  **  ***  ****\n",
    "        lst.append(strr)\n",
    "    \n",
    "    return lst\n",
    "\n",
    "\n",
    "result = square_pattern(n,m)  ## 4\n",
    "\n",
    "print(result)"
   ]
  },
  {
   "cell_type": "code",
   "execution_count": 3,
   "metadata": {},
   "outputs": [
    {
     "name": "stdout",
     "output_type": "stream",
     "text": [
      "['*', '**', '***']\n"
     ]
    }
   ],
   "source": [
    "## Right Angeled triangle\n",
    "\n",
    "no = int(input(\"Enter a number : \"))\n",
    "\n",
    "def square_pattern(no) : ##4\n",
    "    lst = []\n",
    "    for i in range(no):  ##0123 4\n",
    "        strr = ''\n",
    "        for j in range(i+1): ## 0 1 2 3\n",
    "            ptrn = '*'\n",
    "            strr = strr+ptrn  ## *  **  ***  ****\n",
    "        lst.append(strr)\n",
    "    \n",
    "    return lst\n",
    "\n",
    "\n",
    "result = square_pattern(no)  ## 4\n",
    "\n",
    "print(result)"
   ]
  },
  {
   "cell_type": "code",
   "execution_count": 17,
   "metadata": {},
   "outputs": [
    {
     "name": "stdout",
     "output_type": "stream",
     "text": [
      "['***', '**', '*']\n"
     ]
    }
   ],
   "source": [
    "## Inverted Right Angeled Triangle\n",
    "\n",
    "no = int(input(\"Enter a number : \"))\n",
    "\n",
    "def square_pattern(n) : ##4\n",
    "    lst = []\n",
    "    for i in range(n,0,-1):  ##0123 4\n",
    "        strr = '*'*i\n",
    "        \n",
    "        lst.append(strr)\n",
    "    \n",
    "    return lst\n",
    "\n",
    "\n",
    "result = square_pattern(no)  ## 4\n",
    "\n",
    "print(result)"
   ]
  },
  {
   "cell_type": "code",
   "execution_count": 19,
   "metadata": {},
   "outputs": [
    {
     "name": "stdout",
     "output_type": "stream",
     "text": [
      "['*', '**', '***']\n"
     ]
    }
   ],
   "source": [
    "## Pyramid pattern\n",
    "\n"
   ]
  },
  {
   "cell_type": "code",
   "execution_count": 24,
   "metadata": {},
   "outputs": [
    {
     "name": "stdout",
     "output_type": "stream",
     "text": [
      "['1', '22', '333', '4444', '55555']\n"
     ]
    }
   ],
   "source": [
    "## Right Angled Triangle with Numbers\n",
    "\n",
    "no = int(input(\"Enter a number : \"))\n",
    "\n",
    "def square_pattern(no) : ##4\n",
    "    lst = []\n",
    "    for i in range(1,no+1):  ##0123 4\n",
    "        strr = str(i)*(i)\n",
    "        \n",
    "        lst.append(strr)\n",
    "    \n",
    "    return lst\n",
    "\n",
    "\n",
    "result = square_pattern(no)  ## 4\n",
    "\n",
    "print(result)"
   ]
  },
  {
   "cell_type": "code",
   "execution_count": null,
   "metadata": {},
   "outputs": [
    {
     "name": "stdout",
     "output_type": "stream",
     "text": [
      "['1', '2 3', '4 5 6', '7 8 9 10', '11 12 13 14 15', '16 17 18 19 20 21']\n"
     ]
    }
   ],
   "source": [
    "## floyds triangle\n",
    "\n",
    "no = int(input(\"Enter a number : \"))\n",
    "\n",
    "def square_pattern(no) : \n",
    "    lst = []\n",
    "    count = 0\n",
    "    for i in range(1,no+1):\n",
    "        strr = str()\n",
    "        for j in range(1,i+1) :\n",
    "            count = count+1\n",
    "            strr = strr+str(count)+\" \"\n",
    "        lst.append(strr.strip())\n",
    "    \n",
    "    return lst\n",
    "result = square_pattern(no)\n",
    "print(result)"
   ]
  },
  {
   "cell_type": "code",
   "execution_count": null,
   "metadata": {},
   "outputs": [
    {
     "name": "stdout",
     "output_type": "stream",
     "text": [
      "['  *', ' **', '***']\n"
     ]
    }
   ],
   "source": [
    "## Right angeled triangle 2\n",
    "\n",
    "no = int(input(\"Enter a number : \"))\n",
    "\n",
    "def square_pattern(no) : ##4\n",
    "    lst = []\n",
    "    for i in range(1,no+1):  ##0123 4\n",
    "        strr = ' '\n",
    "        star = '*'\n",
    "        spaces = (no-i)\n",
    "        strr = strr*spaces\n",
    "        star = star*i\n",
    "        final_lst_item = strr+star\n",
    "        lst.append(final_lst_item)\n",
    "    return lst\n",
    "\n",
    "result = square_pattern(no)  ## 4\n",
    "\n",
    "print(result)"
   ]
  },
  {
   "cell_type": "code",
   "execution_count": null,
   "metadata": {},
   "outputs": [
    {
     "name": "stdout",
     "output_type": "stream",
     "text": [
      "['****', '*  *', '*  *', '****']\n"
     ]
    }
   ],
   "source": [
    "## Hollow square of side 'N'\n",
    "\n",
    "no = int(input(\"Enter a number : \"))\n",
    "\n",
    "def square_pattern(no) : \n",
    "    lst = []\n",
    "    for i in range(1,no+1):  \n",
    "        for j in range(1,no+1):\n",
    "          final_string = str()\n",
    "          if i == 1 :\n",
    "              star = '*'\n",
    "              star = star*no\n",
    "              final_string = star\n",
    "          if i>1 and i<no+1 :\n",
    "            if j>1 and j<no+1 :\n",
    "                strr = ' '\n",
    "                star = '*'\n",
    "                final_string = star + (strr*(no-2))+star\n",
    "          if i == no :\n",
    "              star = '*'\n",
    "              star = star*no\n",
    "              final_string = star\n",
    "        lst.append(final_string)\n",
    "    return lst\n",
    "\n",
    "result = square_pattern(no) \n",
    "\n",
    "print(result)"
   ]
  },
  {
   "cell_type": "code",
   "execution_count": 33,
   "metadata": {},
   "outputs": [
    {
     "name": "stdout",
     "output_type": "stream",
     "text": [
      "*\n",
      "**\n",
      "* *\n",
      "*  *\n",
      "*****\n",
      "['*', '**', '* *', '*  *', '*****']\n"
     ]
    }
   ],
   "source": [
    "## Hollow Right Triangle\n",
    "\n",
    "no = int(input(\"Enter a number : \"))\n",
    "\n",
    "def square_pattern(no) : \n",
    "    lst = []\n",
    "    for i in range(1,no+1):  \n",
    "        for j in range(1,no+1):\n",
    "          final_string = str()\n",
    "          if i == 1 or i == 2 :\n",
    "              star = '*'\n",
    "              star = star*i\n",
    "              final_string = star\n",
    "          if i>2 and i<no+1 :\n",
    "            if j>2 and j<no+1 :\n",
    "                strr = ' '\n",
    "                star = '*'\n",
    "                \n",
    "                final_string = star + (strr*(i-2))+star\n",
    "          if i == no :\n",
    "              star = '*'\n",
    "              star = star*i\n",
    "              final_string = star\n",
    "        print(final_string)\n",
    "        lst.append(final_string)\n",
    "    return lst\n",
    "\n",
    "result = square_pattern(no) \n",
    "\n",
    "print(result)"
   ]
  },
  {
   "cell_type": "code",
   "execution_count": 39,
   "metadata": {},
   "outputs": [
    {
     "name": "stdout",
     "output_type": "stream",
     "text": [
      "*****\n",
      "*  *\n",
      "* *\n",
      "**\n",
      "*\n",
      "['*****', '*  *', '* *', '**', '*']\n"
     ]
    }
   ],
   "source": [
    "## Hollow Inverted Right Triangle\n",
    "no = int(input(\"Enter a number : \"))\n",
    "def square_pattern(no) : \n",
    "    lst = []\n",
    "    for i in range(no,0,-1): \n",
    "        final_string = str()\n",
    "        if i == no :\n",
    "              final_string = '*'*i\n",
    "        if i == 1 or i == 2 :\n",
    "              final_string = '*'*i\n",
    "        for j in range(no,0,-1):\n",
    "          if i<no and i>2 :\n",
    "            if j<no and j>2 :\n",
    "                final_string = '*' + (' '*(i-2))+'*'\n",
    "          \n",
    "        print(final_string)\n",
    "        lst.append(final_string)\n",
    "    return lst\n",
    "result = square_pattern(no) \n",
    "print(result)"
   ]
  },
  {
   "cell_type": "code",
   "execution_count": null,
   "metadata": {},
   "outputs": [],
   "source": []
  }
 ],
 "metadata": {
  "kernelspec": {
   "display_name": "Python 3",
   "language": "python",
   "name": "python3"
  },
  "language_info": {
   "codemirror_mode": {
    "name": "ipython",
    "version": 3
   },
   "file_extension": ".py",
   "mimetype": "text/x-python",
   "name": "python",
   "nbconvert_exporter": "python",
   "pygments_lexer": "ipython3",
   "version": "3.13.0"
  }
 },
 "nbformat": 4,
 "nbformat_minor": 2
}
