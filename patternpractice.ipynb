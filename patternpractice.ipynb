{
 "cells": [
  {
   "cell_type": "code",
   "execution_count": 5,
   "metadata": {},
   "outputs": [
    {
     "name": "stdout",
     "output_type": "stream",
     "text": [
      "['***', '***', '***']\n"
     ]
    }
   ],
   "source": [
    "## Square of Side 'N'\n",
    "no = int(input(\"Enter a number : \"))\n",
    "\n",
    "def square_pattern(no) : ##4\n",
    "    lst = []\n",
    "    for i in range(no):  ##0123 4\n",
    "        strr = ''\n",
    "        for j in range(no): ## 0 1 2 3\n",
    "            ptrn = '*'\n",
    "            strr = strr+ptrn  ## *  **  ***  ****\n",
    "        lst.append(strr)\n",
    "    \n",
    "    return lst\n",
    "\n",
    "\n",
    "result = square_pattern(no)  ## 4\n",
    "\n",
    "print(result)"
   ]
  },
  {
   "cell_type": "code",
   "execution_count": null,
   "metadata": {},
   "outputs": [],
   "source": []
  }
 ],
 "metadata": {
  "kernelspec": {
   "display_name": "Python 3",
   "language": "python",
   "name": "python3"
  },
  "language_info": {
   "codemirror_mode": {
    "name": "ipython",
    "version": 3
   },
   "file_extension": ".py",
   "mimetype": "text/x-python",
   "name": "python",
   "nbconvert_exporter": "python",
   "pygments_lexer": "ipython3",
   "version": "3.13.0"
  }
 },
 "nbformat": 4,
 "nbformat_minor": 2
}
