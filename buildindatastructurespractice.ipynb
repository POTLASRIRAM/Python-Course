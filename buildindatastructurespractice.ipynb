{
 "cells": [
  {
   "cell_type": "code",
   "execution_count": null,
   "metadata": {},
   "outputs": [
    {
     "name": "stdout",
     "output_type": "stream",
     "text": [
      "15\n"
     ]
    }
   ],
   "source": [
    "## SUm of list elements\n",
    "\n",
    "n = int(input(\"Enter list size\"))\n",
    "lst = []\n",
    "for i in range(n):\n",
    "    lst.append(int(input()))\n",
    "\n",
    "def sum_list(numbers):\n",
    "\n",
    "    sum = 0\n",
    "    \n",
    "    for j in range(len(numbers)):\n",
    "\n",
    "        sum = sum+numbers[j]\n",
    "\n",
    "    return sum\n",
    "\n",
    "result = sum_list(lst)\n",
    "print(result)\n"
   ]
  },
  {
   "cell_type": "code",
   "execution_count": 9,
   "metadata": {},
   "outputs": [
    {
     "name": "stdout",
     "output_type": "stream",
     "text": [
      "-1\n"
     ]
    }
   ],
   "source": [
    "## Largest element in a list\n",
    "\n",
    "n = int(input(\"Enter list size\"))\n",
    "lst = []\n",
    "for i in range(n):\n",
    "    lst.append(int(input()))\n",
    "\n",
    "def largest_list_ele(numbers):\n",
    "    \n",
    "\n",
    "    return max(numbers)\n",
    "\n",
    "    \n",
    "result = largest_list_ele(lst)\n",
    "print(result)"
   ]
  },
  {
   "cell_type": "code",
   "execution_count": null,
   "metadata": {},
   "outputs": [
    {
     "name": "stdout",
     "output_type": "stream",
     "text": [
      "[1, 2, 3, 4, 5]\n"
     ]
    }
   ],
   "source": [
    "## Removing duplicates in a list\n",
    "\n",
    "n = int(input(\"Enter list size\"))\n",
    "lst = []\n",
    "for i in range(n):\n",
    "    lst.append(int(input()))\n",
    "def remove_duplicate_list_eles(numbers):\n",
    "    st = set(numbers)\n",
    "    final_list = list(st)\n",
    "    return final_list\n",
    "    \n",
    "result = remove_duplicate_list_eles(lst)\n",
    "print(result)"
   ]
  },
  {
   "cell_type": "code",
   "execution_count": null,
   "metadata": {},
   "outputs": [
    {
     "name": "stdout",
     "output_type": "stream",
     "text": [
      "3\n",
      "False\n"
     ]
    }
   ],
   "source": [
    "## Check if all elements in a list are Unique\n",
    "\n",
    "n = int(input(\"Enter list size\"))\n",
    "lst = []\n",
    "for i in range(n):\n",
    "    lst.append(int(input()))\n",
    "def check_unique(lst):\n",
    "    count = 0\n",
    "    for i in range(len(lst)):\n",
    "        ele = lst[i]\n",
    "        for j in range(i+1,len(lst)):\n",
    "            if ele == lst[j]:\n",
    "                count = count +1 \n",
    "            else :\n",
    "                continue\n",
    "    \n",
    "    if count>0:\n",
    "        return False\n",
    "    else :\n",
    "        return True\n",
    "result = check_unique(lst)\n",
    "print(result)"
   ]
  },
  {
   "cell_type": "code",
   "execution_count": 13,
   "metadata": {},
   "outputs": [
    {
     "name": "stdout",
     "output_type": "stream",
     "text": [
      "[5, 4, 3, 2, 1]\n"
     ]
    }
   ],
   "source": [
    "## Program to Reverse a List\n",
    "n = int(input(\"Enter list size\"))\n",
    "lst = []\n",
    "for i in range(n):\n",
    "    lst.append(int(input()))\n",
    "def reverse_list(lst):\n",
    "    reversed_list = list()\n",
    "    for i in range(len(lst)-1,-1,-1):\n",
    "\n",
    "        reversed_list.append(lst[i])\n",
    "\n",
    "    return reversed_list\n",
    "    \n",
    "result = reverse_list(lst)\n",
    "print(result)\n"
   ]
  },
  {
   "cell_type": "code",
   "execution_count": 16,
   "metadata": {},
   "outputs": [
    {
     "name": "stdout",
     "output_type": "stream",
     "text": [
      "(2, 3)\n"
     ]
    }
   ],
   "source": [
    "## Count Even and Odd Numbers in a List\n",
    "\n",
    "n = int(input(\"Enter list size\"))\n",
    "lst = []\n",
    "for i in range(n):\n",
    "    lst.append(int(input()))\n",
    "def count_even_odd(lst):\n",
    "    even_count =0\n",
    "    odd_count =0\n",
    "\n",
    "    for i in range(len(lst)):\n",
    "        if lst[i]%2 == 0:\n",
    "            even_count = even_count+1\n",
    "        else:\n",
    "            odd_count = odd_count+1\n",
    "    lst_final = [even_count,odd_count]\n",
    "    tpl = tuple(lst_final)\n",
    "    return tpl\n",
    "    \n",
    "result = count_even_odd(lst)\n",
    "print(result)\n"
   ]
  },
  {
   "cell_type": "code",
   "execution_count": 19,
   "metadata": {},
   "outputs": [
    {
     "name": "stdout",
     "output_type": "stream",
     "text": [
      "False\n"
     ]
    }
   ],
   "source": [
    "## Check if List is Subset of another List\n",
    "\n",
    "n1 = int(input(\"Enter list 1 size\"))\n",
    "n2 = int(input(\"Enter list 2 size\"))\n",
    "lst1 = []\n",
    "lst2 = []\n",
    "for i in range(n1):\n",
    "    lst1.append(int(input()))\n",
    "for j in range(n2):\n",
    "    lst2.append(int(input()))\n",
    "\n",
    "def is_subset(lst1,lst2):\n",
    "    subset = bool()\n",
    "    count = 0\n",
    "\n",
    "    for k in range(len(lst1)):\n",
    "        for l in range(len(lst2)):\n",
    "            if lst1[k] == lst2[l]:\n",
    "                count = count+1\n",
    "            else :\n",
    "                continue\n",
    "    if count == len(lst1):\n",
    "        subset = True\n",
    "    else:\n",
    "        subset = False\n",
    "    \n",
    "    return subset\n",
    "\n",
    "    \n",
    "result = is_subset(lst1, lst2)\n",
    "print(result)"
   ]
  },
  {
   "cell_type": "code",
   "execution_count": null,
   "metadata": {},
   "outputs": [
    {
     "name": "stdout",
     "output_type": "stream",
     "text": [
      "\n"
     ]
    }
   ],
   "source": [
    "## Maximum difference between two consecutive elements in a list.\n",
    "\n",
    "n = int(input(\"Enter list size\"))\n",
    "lst = []\n",
    "for i in range(n):\n",
    "    lst.append(int(input()))\n",
    "def max_consecutive_difference(lst):\n",
    "    diff_lst = []\n",
    "    for i in range(len(lst)):\n",
    "        if i == len(lst)-1 :\n",
    "            break\n",
    "        else :\n",
    "            diff = lst[i+1]-lst[i]\n",
    "            diff_lst.append(abs(diff))\n",
    "    return max(diff_lst)\n",
    "    \n",
    "    \n",
    "result = max_consecutive_difference(lst)\n",
    "print(result)"
   ]
  },
  {
   "cell_type": "code",
   "execution_count": 34,
   "metadata": {},
   "outputs": [
    {
     "name": "stdout",
     "output_type": "stream",
     "text": [
      "[1, 2, 3, 4, 5, 7, 8]\n"
     ]
    }
   ],
   "source": [
    "## Merge Two Sorted Lists\n",
    "\n",
    "n1 = int(input(\"Enter list 1 size\"))\n",
    "n2 = int(input(\"Enter list 2 size\"))\n",
    "lst1 = []\n",
    "lst2 = []\n",
    "for i in range(n1):\n",
    "    lst1.append(int(input()))\n",
    "for j in range(n2):\n",
    "    lst2.append(int(input()))\n",
    "\n",
    "def merge_two_sorted_lists(list1, list2):\n",
    "    set1 = set(list1)\n",
    "    set2 = set(list2)\n",
    "    final_set = set1.union(set2)\n",
    "    final_list = list(final_set)\n",
    "    return final_list\n",
    "     \n",
    "result = merge_two_sorted_lists(lst1, lst2)\n",
    "print(result)"
   ]
  },
  {
   "cell_type": "code",
   "execution_count": null,
   "metadata": {},
   "outputs": [],
   "source": []
  }
 ],
 "metadata": {
  "kernelspec": {
   "display_name": "Python 3",
   "language": "python",
   "name": "python3"
  },
  "language_info": {
   "codemirror_mode": {
    "name": "ipython",
    "version": 3
   },
   "file_extension": ".py",
   "mimetype": "text/x-python",
   "name": "python",
   "nbconvert_exporter": "python",
   "pygments_lexer": "ipython3",
   "version": "3.13.0"
  }
 },
 "nbformat": 4,
 "nbformat_minor": 2
}
