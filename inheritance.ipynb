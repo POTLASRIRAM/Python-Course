{
 "cells": [
  {
   "cell_type": "code",
   "execution_count": null,
   "metadata": {},
   "outputs": [],
   "source": [
    "class Maths:\n",
    "    def __init__(self,a,b):\n",
    "        self.a = a\n",
    "        self.b = b\n",
    "\n",
    "nos = Maths(5,5)"
   ]
  },
  {
   "cell_type": "code",
   "execution_count": null,
   "metadata": {},
   "outputs": [
    {
     "name": "stdout",
     "output_type": "stream",
     "text": [
      "6\n"
     ]
    }
   ],
   "source": [
    "## Single inheritance\n",
    "class Addition(Maths):\n",
    "    def __init__(self, a, b,c):\n",
    "        super().__init__(a, b)\n",
    "        self.c = c\n",
    "    def addition(self):\n",
    "        return self.a+self.b+self.c\n",
    "    \n",
    "add = Addition(2,2,2)\n",
    "print(add.addition())"
   ]
  },
  {
   "cell_type": "code",
   "execution_count": null,
   "metadata": {},
   "outputs": [
    {
     "name": "stdout",
     "output_type": "stream",
     "text": [
      "5\n"
     ]
    }
   ],
   "source": [
    "## Multiple inheritance -- One child class inherited from more than one parent classes\n",
    "\n",
    "class Substraction(Maths):\n",
    "    def __init__(self, a, b):\n",
    "        super().__init__(a, b)\n",
    "    def substraction(self):\n",
    "        return self.b-self.a\n",
    "\n",
    "sub = Substraction(5,10)\n",
    "print(sub.substraction())\n"
   ]
  },
  {
   "cell_type": "code",
   "execution_count": null,
   "metadata": {},
   "outputs": [],
   "source": []
  }
 ],
 "metadata": {
  "kernelspec": {
   "display_name": "Python 3",
   "language": "python",
   "name": "python3"
  },
  "language_info": {
   "codemirror_mode": {
    "name": "ipython",
    "version": 3
   },
   "file_extension": ".py",
   "mimetype": "text/x-python",
   "name": "python",
   "nbconvert_exporter": "python",
   "pygments_lexer": "ipython3",
   "version": "3.13.0"
  }
 },
 "nbformat": 4,
 "nbformat_minor": 2
}
